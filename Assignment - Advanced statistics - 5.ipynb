{
 "cells": [
  {
   "cell_type": "code",
   "execution_count": null,
   "id": "12b4e554",
   "metadata": {},
   "outputs": [],
   "source": [
    "Q1. Calculate the 95% confidence interval for a sample of data with a mean of 50 and a standard deviation\n",
    "of 5 using Python. Interpret the results.\n"
   ]
  },
  {
   "cell_type": "code",
   "execution_count": 19,
   "id": "f5148b51",
   "metadata": {},
   "outputs": [
    {
     "name": "stdout",
     "output_type": "stream",
     "text": [
      "95% Confidence Interval: (49.02, 50.98)\n"
     ]
    }
   ],
   "source": [
    "import scipy.stats as stats\n",
    "\n",
    "# Sample mean and standard deviation\n",
    "sample_mean = 50\n",
    "sample_std_dev = 5\n",
    "\n",
    "# Sample size (you need this to calculate the standard error of the mean)\n",
    "sample_size = 100  # Insert the actual sample size here\n",
    "\n",
    "# Calculate the standard error of the mean (SEM)\n",
    "standard_error = sample_std_dev / (sample_size ** 0.5)\n",
    "\n",
    "# Define the desired confidence level\n",
    "confidence_level = 0.95\n",
    "\n",
    "# Calculate the confidence interval\n",
    "lower_bound, upper_bound = stats.norm.interval(confidence_level, loc=sample_mean, scale=standard_error)\n",
    "\n",
    "# Print the results\n",
    "print(f\"95% Confidence Interval: ({lower_bound:.2f}, {upper_bound:.2f})\")\n"
   ]
  },
  {
   "cell_type": "code",
   "execution_count": null,
   "id": "e92e4c54",
   "metadata": {},
   "outputs": [],
   "source": [
    "Q2. Conduct a chi-square goodness of fit test to determine if the distribution of colors of M&Ms in a bag\n",
    "matches the expected distribution of 20% blue, 20% orange, 20% green, 10% yellow, 10% red, and 20%\n",
    "brown. Use Python to perform the test with a significance level of 0.05."
   ]
  },
  {
   "cell_type": "code",
   "execution_count": null,
   "id": "42954471",
   "metadata": {},
   "outputs": [],
   "source": [
    "import scipy.stats as stats\n",
    "import numpy as np"
   ]
  },
  {
   "cell_type": "code",
   "execution_count": 33,
   "id": "23b12af8",
   "metadata": {},
   "outputs": [],
   "source": [
    "expected = [.2,.2,.2,.1,.1,.2]"
   ]
  },
  {
   "cell_type": "code",
   "execution_count": 34,
   "id": "95da52c2",
   "metadata": {},
   "outputs": [],
   "source": [
    "observed = [.1,.1,.2,.1,.2,.3]"
   ]
  },
  {
   "cell_type": "code",
   "execution_count": 35,
   "id": "ec6d0d66",
   "metadata": {},
   "outputs": [],
   "source": [
    "chisquare_test,p_value = stats.chisquare(observed,expected)"
   ]
  },
  {
   "cell_type": "code",
   "execution_count": 36,
   "id": "1fde8fc7",
   "metadata": {},
   "outputs": [
    {
     "data": {
      "text/plain": [
       "0.25"
      ]
     },
     "execution_count": 36,
     "metadata": {},
     "output_type": "execute_result"
    }
   ],
   "source": [
    "chisquare_test"
   ]
  },
  {
   "cell_type": "code",
   "execution_count": 37,
   "id": "b7cd9428",
   "metadata": {},
   "outputs": [],
   "source": [
    "sig = 0.05\n",
    "df  = len(observed)-1"
   ]
  },
  {
   "cell_type": "code",
   "execution_count": 38,
   "id": "4cbb922c",
   "metadata": {},
   "outputs": [],
   "source": [
    "cv = stats.chi2.ppf(1-sig,df)"
   ]
  },
  {
   "cell_type": "code",
   "execution_count": 39,
   "id": "ace9b5e0",
   "metadata": {},
   "outputs": [
    {
     "name": "stdout",
     "output_type": "stream",
     "text": [
      "The distribution of colors in the M&Ms bag matches the expected distribution.\n"
     ]
    }
   ],
   "source": [
    "if chisquare_test > cv : \n",
    "    print(\"The distribution of colors in the M&Ms bag does not match the expected distribution.\")\n",
    "else:\n",
    "    print(\"The distribution of colors in the M&Ms bag matches the expected distribution.\")\n",
    "    "
   ]
  },
  {
   "cell_type": "markdown",
   "id": "45afacd6",
   "metadata": {},
   "source": [
    "Q3. Use Python to calculate the chi-square statistic and p-value for a contingency table with the following\n",
    "data:"
   ]
  },
  {
   "cell_type": "code",
   "execution_count": 41,
   "id": "b8b83d77",
   "metadata": {},
   "outputs": [
    {
     "name": "stdout",
     "output_type": "stream",
     "text": [
      "Chi-Square Statistic: 5.833333333333334\n",
      "P-value: 0.05411376622282158\n"
     ]
    }
   ],
   "source": [
    "import numpy as np\n",
    "import scipy.stats as stats\n",
    "\n",
    "# Define the contingency table\n",
    "observed_data = np.array([[20, 15], [10, 25], [15, 20]])\n",
    "\n",
    "# Perform the chi-square test for independence\n",
    "chi2_stat, p_value, _, _ = stats.chi2_contingency(observed_data)\n",
    "\n",
    "# Print the results\n",
    "print(\"Chi-Square Statistic:\", chi2_stat)\n",
    "print(\"P-value:\", p_value)\n"
   ]
  },
  {
   "cell_type": "code",
   "execution_count": null,
   "id": "0c2786fe",
   "metadata": {},
   "outputs": [],
   "source": [
    "Q4. A study of the prevalence of smoking in a population of 500 individuals found that 60 individuals\n",
    "smoked. Use Python to calculate the 95% confidence interval for the true proportion of individuals in the\n",
    "population who smoke.\n"
   ]
  },
  {
   "cell_type": "code",
   "execution_count": 43,
   "id": "6d54aa56",
   "metadata": {},
   "outputs": [
    {
     "name": "stdout",
     "output_type": "stream",
     "text": [
      "95% Confidence Interval for the Proportion of Smokers: (0.09151638887130706, 0.14848361112869293)\n"
     ]
    }
   ],
   "source": [
    "import statsmodels.stats.proportion as proportion\n",
    "\n",
    "# Sample size and number of individuals who smoke\n",
    "total_population = 500\n",
    "num_smokers = 60\n",
    "\n",
    "# Calculate the proportion of smokers in the sample\n",
    "p_hat = num_smokers / total_population\n",
    "\n",
    "# Calculate the 95% confidence interval for the population proportion\n",
    "conf_interval = proportion.proportion_confint(num_smokers, total_population, alpha=0.05, method='normal')\n",
    "\n",
    "# Print the results\n",
    "print(f\"95% Confidence Interval for the Proportion of Smokers: {conf_interval}\")\n"
   ]
  },
  {
   "cell_type": "markdown",
   "id": "b3da051a",
   "metadata": {},
   "source": [
    "Q5. Calculate the 90% confidence interval for a sample of data with a mean of 75 and a standard deviation of 12 using Python. Interpret the results."
   ]
  },
  {
   "cell_type": "code",
   "execution_count": 50,
   "id": "49063acd",
   "metadata": {},
   "outputs": [
    {
     "name": "stdout",
     "output_type": "stream",
     "text": [
      "90% Confidence Interval: (77.87, 72.13)\n"
     ]
    }
   ],
   "source": [
    "import scipy.stats as stats\n",
    "\n",
    "# Sample mean and standard deviation\n",
    "sample_mean = 75\n",
    "sample_std_dev = 12\n",
    "\n",
    "# Sample size (you need this to calculate the degrees of freedom)\n",
    "sample_size = 30  # Insert the actual sample size here\n",
    "\n",
    "# Define the desired confidence level\n",
    "confidence_level = 0.90\n",
    "\n",
    "# Calculate the standard error of the mean (SEM)\n",
    "standard_error = sample_std_dev / (sample_size ** 0.5)\n",
    "\n",
    "# Calculate the degrees of freedom\n",
    "degrees_of_freedom = sample_size - 1\n",
    "\n",
    "# Calculate the t-value corresponding to the 90% confidence level and degrees of freedom\n",
    "t_value = stats.t.ppf(1-confidence_level, degrees_of_freedom)\n",
    "\n",
    "# Calculate the confidence interval\n",
    "lower_bound = sample_mean - t_value * standard_error\n",
    "upper_bound = sample_mean + t_value * standard_error\n",
    "\n",
    "# Print the results\n",
    "print(f\"90% Confidence Interval: ({lower_bound:.2f}, {upper_bound:.2f})\")\n"
   ]
  },
  {
   "cell_type": "code",
   "execution_count": 52,
   "id": "e1bf387c",
   "metadata": {},
   "outputs": [
    {
     "ename": "SyntaxError",
     "evalue": "invalid syntax (3568941410.py, line 1)",
     "output_type": "error",
     "traceback": [
      "\u001b[1;36m  Cell \u001b[1;32mIn[52], line 1\u001b[1;36m\u001b[0m\n\u001b[1;33m    Q6. Use Python to plot the chi-square distribution with 10 degrees of freedom. Label the axes and shade the\u001b[0m\n\u001b[1;37m            ^\u001b[0m\n\u001b[1;31mSyntaxError\u001b[0m\u001b[1;31m:\u001b[0m invalid syntax\n"
     ]
    }
   ],
   "source": [
    "Q6. Use Python to plot the chi-square distribution with 10 degrees of freedom. Label the axes and shade the\n",
    "area corresponding to a chi-square statistic of 15.\n",
    "\n",
    "Q7. A random sample of 1000 people was asked if they"
   ]
  },
  {
   "cell_type": "code",
   "execution_count": 53,
   "id": "da45dede",
   "metadata": {},
   "outputs": [
    {
     "data": {
      "image/png": "[encoded data removed]",
      "text/plain": [
       "<Figure size 640x480 with 1 Axes>"
      ]
     },
     "metadata": {},
     "output_type": "display_data"
    }
   ],
   "source": [
    "import numpy as np\n",
    "import matplotlib.pyplot as plt\n",
    "import scipy.stats as stats\n",
    "\n",
    "# Degrees of freedom\n",
    "df = 10\n",
    "\n",
    "# Create an array of x values to represent the chi-square distribution\n",
    "x = np.linspace(0, 30, 500)\n",
    "\n",
    "# Calculate the chi-square distribution for the given degrees of freedom\n",
    "chi2_dist = stats.chi2.pdf(x, df)\n",
    "\n",
    "# Plot the chi-square distribution\n",
    "plt.plot(x, chi2_dist, label=f\"Chi-Square (df = {df})\")\n",
    "\n",
    "# Shade the area corresponding to a chi-square statistic of 15\n",
    "x_shade = np.linspace(15, 30, 100)\n",
    "y_shade = stats.chi2.pdf(x_shade, df)\n",
    "plt.fill_between(x_shade, y_shade, color='gray', alpha=0.5, label='Shaded Area (Chi-Square > 15)')\n",
    "\n",
    "# Label the axes and add a legend\n",
    "plt.xlabel(\"Chi-Square Statistic\")\n",
    "plt.ylabel(\"Probability Density Function\")\n",
    "plt.legend()\n",
    "\n",
    "# Show the plot\n",
    "plt.grid(True)\n",
    "plt.title(\"Chi-Square Distribution with 10 Degrees of Freedom\")\n",
    "plt.show()\n"
   ]
  },
  {
   "cell_type": "code",
   "execution_count": null,
   "id": "42ff9b24",
   "metadata": {},
   "outputs": [],
   "source": [
    "Q7. A random sample of 1000 people was asked if they preferred Coke or Pepsi. Of the sample, 520\n",
    "preferred Coke. Calculate a 99% confidence interval for the true proportion of people in the population who\n",
    "prefer Coke.\n"
   ]
  },
  {
   "cell_type": "code",
   "execution_count": 54,
   "id": "63367ecb",
   "metadata": {},
   "outputs": [
    {
     "name": "stdout",
     "output_type": "stream",
     "text": [
      "99% Confidence Interval for the Proportion of People Who Prefer Coke: (0.4793051576779699, 0.5606948423220302)\n"
     ]
    }
   ],
   "source": [
    "import statsmodels.stats.proportion as proportion\n",
    "\n",
    "# Sample size and number of people who prefer Coke\n",
    "sample_size = 1000\n",
    "num_prefer_coke = 520\n",
    "\n",
    "# Calculate the proportion of people who prefer Coke in the sample\n",
    "p_hat = num_prefer_coke / sample_size\n",
    "\n",
    "# Calculate the 99% confidence interval for the population proportion\n",
    "conf_interval = proportion.proportion_confint(num_prefer_coke, sample_size, alpha=0.01, method='normal')\n",
    "\n",
    "# Print the results\n",
    "print(f\"99% Confidence Interval for the Proportion of People Who Prefer Coke: {conf_interval}\")\n"
   ]
  },
  {
   "cell_type": "code",
   "execution_count": null,
   "id": "622d0526",
   "metadata": {},
   "outputs": [],
   "source": [
    "Q8. A researcher hypothesizes that a coin is biased towards tails. They flip the coin 100 times and observe\n",
    "45 tails. Conduct a chi-square goodness of fit test to determine if the observed frequencies match the\n",
    "expected frequencies of a fair coin. Use a significance level of 0.05.\n"
   ]
  },
  {
   "cell_type": "code",
   "execution_count": 55,
   "id": "7bd82361",
   "metadata": {},
   "outputs": [
    {
     "name": "stdout",
     "output_type": "stream",
     "text": [
      "Chi-Square Statistic: 1.0\n",
      "P-value: 0.31731050786291115\n",
      "The coin is fair (fail to reject the null hypothesis).\n"
     ]
    }
   ],
   "source": [
    "import numpy as np\n",
    "import scipy.stats as stats\n",
    "\n",
    "# Observed frequency of tails and total number of coin flips\n",
    "observed_tails = 45\n",
    "total_flips = 100\n",
    "\n",
    "# Expected probability of getting tails for a fair coin\n",
    "expected_probability_tails = 0.5\n",
    "\n",
    "# Calculate the expected frequency for tails\n",
    "expected_tails = expected_probability_tails * total_flips\n",
    "\n",
    "# Create the observed and expected frequency arrays\n",
    "observed_frequencies = np.array([observed_tails, total_flips - observed_tails])\n",
    "expected_frequencies = np.array([expected_tails, total_flips - expected_tails])\n",
    "\n",
    "# Perform the chi-square goodness-of-fit test\n",
    "chi2_stat, p_value = stats.chisquare(observed_frequencies, f_exp=expected_frequencies)\n",
    "\n",
    "# Define the significance level\n",
    "alpha = 0.05\n",
    "\n",
    "# Print the results\n",
    "print(\"Chi-Square Statistic:\", chi2_stat)\n",
    "print(\"P-value:\", p_value)\n",
    "\n",
    "# Check the p-value against the significance level\n",
    "if p_value < alpha:\n",
    "    print(\"The coin is biased towards tails (reject the null hypothesis).\")\n",
    "else:\n",
    "    print(\"The coin is fair (fail to reject the null hypothesis).\")\n"
   ]
  },
  {
   "cell_type": "code",
   "execution_count": null,
   "id": "120e4b1e",
   "metadata": {},
   "outputs": [],
   "source": [
    "Q9. A study was conducted to determine if there is an association between smoking status (smoker or\n",
    "non-smoker) and lung cancer diagnosis (yes or no). The results are shown in the contingency table below.\n",
    "Conduct a chi-square test for independence to determine if there is a significant association between\n",
    "smoking status and lung cancer diagnosis.\n",
    "Use a significance level of 0.05."
   ]
  },
  {
   "cell_type": "code",
   "execution_count": 56,
   "id": "cbfb1acf",
   "metadata": {},
   "outputs": [
    {
     "name": "stdout",
     "output_type": "stream",
     "text": [
      "Chi-Square Statistic: 12.057347670250895\n",
      "P-value: 0.0005158863863703744\n",
      "There is a significant association between smoking status and lung cancer diagnosis (reject the null hypothesis).\n"
     ]
    }
   ],
   "source": [
    "import numpy as np\n",
    "import scipy.stats as stats\n",
    "\n",
    "# Define the observed frequencies in the contingency table\n",
    "observed_data = np.array([[60, 140], [30, 170]])\n",
    "\n",
    "# Perform the chi-square test for independence\n",
    "chi2_stat, p_value, _, _ = stats.chi2_contingency(observed_data)\n",
    "\n",
    "# Define the significance level\n",
    "alpha = 0.05\n",
    "\n",
    "# Print the results\n",
    "print(\"Chi-Square Statistic:\", chi2_stat)\n",
    "print(\"P-value:\", p_value)\n",
    "\n",
    "# Check the p-value against the significance level\n",
    "if p_value < alpha:\n",
    "    print(\"There is a significant association between smoking status and lung cancer diagnosis (reject the null hypothesis).\")\n",
    "else:\n",
    "    print(\"There is no significant association between smoking status and lung cancer diagnosis (fail to reject the null hypothesis).\")\n"
   ]
  },
  {
   "cell_type": "code",
   "execution_count": null,
   "id": "3b60fdbc",
   "metadata": {},
   "outputs": [],
   "source": [
    "Q10. A study was conducted to determine if the proportion of people who prefer milk chocolate, dark\n",
    "chocolate, or white chocolate is different in the U.S. versus the U.K. A random sample of 500 people from\n",
    "the U.S. and a random sample of 500 people from the U.K. were surveyed. The results are shown in the\n",
    "contingency table below. Conduct a chi-square test for independence to determine if there is a significant\n",
    "association between chocolate preference and country of origin.\n",
    "Use a significance level of 0.01.\n"
   ]
  },
  {
   "cell_type": "code",
   "execution_count": 57,
   "id": "5d22c516",
   "metadata": {},
   "outputs": [
    {
     "name": "stdout",
     "output_type": "stream",
     "text": [
      "Chi-Square Statistic: 14.285714285714286\n",
      "P-value: 0.0007904903231199663\n",
      "There is a significant association between chocolate preference and country of origin (reject the null hypothesis).\n"
     ]
    }
   ],
   "source": [
    "import numpy as np\n",
    "import scipy.stats as stats\n",
    "\n",
    "# Define the observed frequencies in the contingency table\n",
    "observed_data = np.array([[150, 200, 150], [200, 150, 150]])\n",
    "\n",
    "# Perform the chi-square test for independence\n",
    "chi2_stat, p_value, _, _ = stats.chi2_contingency(observed_data)\n",
    "\n",
    "# Define the significance level\n",
    "alpha = 0.01\n",
    "\n",
    "# Print the results\n",
    "print(\"Chi-Square Statistic:\", chi2_stat)\n",
    "print(\"P-value:\", p_value)\n",
    "\n",
    "# Check the p-value against the significance level\n",
    "if p_value < alpha:\n",
    "    print(\"There is a significant association between chocolate preference and country of origin (reject the null hypothesis).\")\n",
    "else:\n",
    "    print(\"There is no significant association between chocolate preference and country of origin (fail to reject the null hypothesis).\")\n"
   ]
  },
  {
   "cell_type": "code",
   "execution_count": 58,
   "id": "befb7bd7",
   "metadata": {},
   "outputs": [
    {
     "name": "stdout",
     "output_type": "stream",
     "text": [
      "Test Statistic: 1.0954451150103321\n",
      "Critical t-value: 2.045229642132703\n",
      "Fail to reject the null hypothesis. There is no significant evidence to suggest that the population mean is different from 70.\n"
     ]
    }
   ],
   "source": [
    "import numpy as np\n",
    "from scipy.stats import t\n",
    "\n",
    "# Sample mean, sample standard deviation, sample size, and assumed population mean\n",
    "sample_mean = 72\n",
    "sample_std_dev = 10\n",
    "sample_size = 30\n",
    "population_mean_assumed = 70\n",
    "\n",
    "# Calculate the test statistic\n",
    "t_statistic = (sample_mean - population_mean_assumed) / (sample_std_dev / (sample_size ** 0.5))\n",
    "\n",
    "# Degrees of freedom\n",
    "degrees_of_freedom = sample_size - 1\n",
    "\n",
    "# Significance level\n",
    "alpha = 0.05\n",
    "\n",
    "# Calculate the critical t-value\n",
    "critical_t_value = t.ppf(1 - alpha / 2, degrees_of_freedom)\n",
    "\n",
    "# Print the results\n",
    "print(\"Test Statistic:\", t_statistic)\n",
    "print(\"Critical t-value:\", critical_t_value)\n",
    "\n",
    "# Compare the test statistic with the critical t-value and make a decision\n",
    "if abs(t_statistic) > critical_t_value:\n",
    "    print(\"Reject the null hypothesis. The population mean is significantly different from 70.\")\n",
    "else:\n",
    "    print(\"Fail to reject the null hypothesis. There is no significant evidence to suggest that the population mean is different from 70.\")\n"
   ]
  },
  {
   "cell_type": "code",
   "execution_count": null,
   "id": "2131c948",
   "metadata": {},
   "outputs": [],
   "source": []
  }
 ],
 "metadata": {
  "kernelspec": {
   "display_name": "Python 3 (ipykernel)",
   "language": "python",
   "name": "python3"
  },
  "language_info": {
   "codemirror_mode": {
    "name": "ipython",
    "version": 3
   },
   "file_extension": ".py",
   "mimetype": "text/x-python",
   "name": "python",
   "nbconvert_exporter": "python",
   "pygments_lexer": "ipython3",
   "version": "3.10.9"
  }
 },
 "nbformat": 4,
 "nbformat_minor": 5
}
