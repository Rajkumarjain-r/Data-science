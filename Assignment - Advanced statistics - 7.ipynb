{
 "cells": [
  {
   "cell_type": "code",
   "execution_count": null,
   "id": "8ab8d618",
   "metadata": {},
   "outputs": [],
   "source": [
    "Q1. Write a Python function that takes in two arrays of data and calculates the F-value for a variance ratio\n",
    "test. The function should return the F-value and the corresponding p-value for the test.\n",
    "\n",
    "Q2. Given a significance level of 0.05 and the degrees of freedom for the numerator and denominator of an\n",
    "F-distribution, write a Python function that returns the critical F-value for a two-tailed test.\n",
    "\n",
    "Q3. Write a Python program that generates random samples from two normal distributions with known\n",
    "variances and uses an F-test to determine if the variances are equal. The program should output the Fvalue, degrees of freedom, and p-value for the test.\n",
    "\n",
    "Q4.The variances of two populations are known to be 10 and 15. A sample of 12 observations is taken from\n",
    "each population. Conduct an F-test at the 5% significance level to determine if the variances are\n",
    "significantly different.\n",
    "\n",
    "Q5. A manufacturer claims that the variance of the diameter of a certain product is 0.005. A sample of 25\n",
    "products is taken, and the sample variance is found to be 0.006. Conduct an F-test at the 1% significance\n",
    "level to determine if the claim is justified.\n",
    "\n",
    "Q6. Write a Python function that takes in the degrees of freedom for the numerator and denominator of an\n",
    "F-distribution and calculates the mean and variance of the distribution. The function should return the\n",
    "mean and variance as a tuple.\n",
    "\n",
    "Q7. A random sample of 10 measurements is taken from a normal population with unknown variance. The\n",
    "sample variance is found to be 25. Another random sample of 15 measurements is taken from another\n",
    "normal population with unknown variance, and the sample variance is found to be 20. Conduct an F-test\n",
    "at the 10% significance level to determine if the variances are significantly different.\n",
    "\n",
    "Q8. The following data represent the waiting times in minutes at two different restaurants on a Saturday\n",
    "night: Restaurant A: 24, 25, 28, 23, 22, 20, 27; Restaurant B: 31, 33, 35, 30, 32, 36. Conduct an F-test at the 5%\n",
    "significance level to determine if the variances are significantly different.\n",
    "\n",
    "Q9. The following data represent the test scores of two groups of students: Group A: 80, 85, 90, 92, 87, 83;\n",
    "Group B: 75, 78, 82, 79, 81, 84. Conduct an F-test at the 1% significance level to determine if the variances\n",
    "are significantly different."
   ]
  },
  {
   "cell_type": "code",
   "execution_count": null,
   "id": "ba5f9d2b",
   "metadata": {},
   "outputs": [],
   "source": [
    "Q1. Write a Python function that takes in two arrays of data and calculates the F-value for a variance ratio\n",
    "test. The function should return the F-value and the corresponding p-value for the test."
   ]
  },
  {
   "cell_type": "code",
   "execution_count": 1,
   "id": "f53d3037",
   "metadata": {},
   "outputs": [],
   "source": [
    "import scipy.stats as stat\n",
    "import numpy as np"
   ]
  },
  {
   "cell_type": "code",
   "execution_count": 2,
   "id": "72516cb5",
   "metadata": {},
   "outputs": [],
   "source": [
    "a1 = [1,5,6,4,5]\n",
    "a2 = [1,7,8,9,6]"
   ]
  },
  {
   "cell_type": "code",
   "execution_count": 22,
   "id": "4e405c7e",
   "metadata": {},
   "outputs": [],
   "source": [
    "def ftest(a1,ar2):\n",
    "    fvalue = np.var(a1)/np.var(a2)\n",
    "    sig = .05\n",
    "    df1 = len(a1)-1\n",
    "    df2 = len(a2)-1\n",
    "    pvalue = stat.f.ppf(q=1-sig, dfn=df1, dfd=df2)\n",
    "    return fvalue,pvalue"
   ]
  },
  {
   "cell_type": "code",
   "execution_count": 23,
   "id": "ad4490f7",
   "metadata": {},
   "outputs": [
    {
     "data": {
      "text/plain": [
       "(0.3814432989690722, 6.388232908695868)"
      ]
     },
     "execution_count": 23,
     "metadata": {},
     "output_type": "execute_result"
    }
   ],
   "source": [
    "fvalue,pvalue = ftest(a1,a2)\n",
    "fvalue,pvalue"
   ]
  },
  {
   "cell_type": "code",
   "execution_count": null,
   "id": "58b383e3",
   "metadata": {},
   "outputs": [],
   "source": [
    "Q2. Given a significance level of 0.05 and the degrees of freedom for the numerator and denominator of an\n",
    "F-distribution, write a Python function that returns the critical F-value for a two-tailed test."
   ]
  },
  {
   "cell_type": "code",
   "execution_count": 27,
   "id": "bc064ab6",
   "metadata": {},
   "outputs": [
    {
     "name": "stdout",
     "output_type": "stream",
     "text": [
      "Critical F-value: 4.825621493405406\n"
     ]
    }
   ],
   "source": [
    "def critical_f_value(significance_level, dfn, dfd):\n",
    "    alpha = significance_level / 2 \n",
    "    critical_value = stat.f.ppf(q=1 - alpha, dfn=dfn, dfd=dfd)\n",
    "    \n",
    "    return critical_value\n",
    "\n",
    "significance_level = 0.05\n",
    "degrees_of_freedom_numerator = 3\n",
    "degrees_of_freedom_denominator = 10\n",
    "\n",
    "critical_f = critical_f_value(significance_level, degrees_of_freedom_numerator, degrees_of_freedom_denominator)\n",
    "print(\"Critical F-value:\", critical_f)\n"
   ]
  },
  {
   "cell_type": "markdown",
   "id": "ec208918",
   "metadata": {},
   "source": [
    "Q3. Write a Python program that generates random samples from two normal distributions with known\n",
    "variances and uses an F-test to determine if the variances are equal. The program should output the Fvalue, degrees of freedom, and p-value for the test.\n"
   ]
  },
  {
   "cell_type": "code",
   "execution_count": 30,
   "id": "a0500511",
   "metadata": {},
   "outputs": [],
   "source": [
    "a1 = np.random.normal(scale=1,size = 10)"
   ]
  },
  {
   "cell_type": "code",
   "execution_count": 31,
   "id": "a808e0be",
   "metadata": {},
   "outputs": [],
   "source": [
    "a2 = np.random.normal(scale=1,size = 10)"
   ]
  },
  {
   "cell_type": "code",
   "execution_count": 32,
   "id": "03ca6635",
   "metadata": {},
   "outputs": [],
   "source": [
    "def ftest(a1,ar2):\n",
    "    fvalue = np.var(a1)/np.var(a2)\n",
    "    sig = .05\n",
    "    df1 = len(a1)-1\n",
    "    df2 = len(a2)-1\n",
    "    pvalue = stat.f.ppf(q=1-sig, dfn=df1, dfd=df2)\n",
    "    return fvalue,pvalue,df1,df2"
   ]
  },
  {
   "cell_type": "code",
   "execution_count": 33,
   "id": "ef8f09b9",
   "metadata": {},
   "outputs": [
    {
     "data": {
      "text/plain": [
       "(0.47926860409436817, 3.178893104458269, 9, 9)"
      ]
     },
     "execution_count": 33,
     "metadata": {},
     "output_type": "execute_result"
    }
   ],
   "source": [
    "ftest(a1,a2)"
   ]
  },
  {
   "cell_type": "code",
   "execution_count": null,
   "id": "2a14dc87",
   "metadata": {},
   "outputs": [],
   "source": [
    "Q4.The variances of two populations are known to be 10 and 15. A sample of 12 observations is taken from\n",
    "each population. Conduct an F-test at the 5% significance level to determine if the variances are\n",
    "significantly different."
   ]
  },
  {
   "cell_type": "code",
   "execution_count": 42,
   "id": "6d5c3a0d",
   "metadata": {},
   "outputs": [
    {
     "name": "stdout",
     "output_type": "stream",
     "text": [
      "F-statistic: 0.6666666666666666\n",
      "Critical F-value: 3.473699051085809\n",
      "P-value: 1.4876102012642005\n",
      "The variances are not significantly different.\n"
     ]
    }
   ],
   "source": [
    "from scipy.stats import f\n",
    "\n",
    "def f_test_for_equal_variances(sample_variance1, sample_variance2, sample_size):\n",
    "    f_statistic = sample_variance1 / sample_variance2\n",
    "    \n",
    "    df_numerator = sample_size - 1\n",
    "    df_denominator = sample_size - 1\n",
    "    \n",
    "  \n",
    "    significance_level = 0.05\n",
    "    critical_f_value = f.ppf(1 - significance_level / 2, df_numerator, df_denominator)\n",
    "    \n",
    " \n",
    "    p_value = 2 * (1 - f.cdf(f_statistic, df_numerator, df_denominator))\n",
    "    \n",
    "    return f_statistic, critical_f_value, p_value\n",
    "\n",
    "\n",
    "sample_variance1 = 10\n",
    "sample_variance2 = 15\n",
    "sample_size = 12\n",
    "\n",
    "f_statistic, critical_f_value, p_value = f_test_for_equal_variances(sample_variance1, sample_variance2, sample_size)\n",
    "\n",
    "\n",
    "print(\"F-statistic:\", f_statistic)\n",
    "print(\"Critical F-value:\", critical_f_value)\n",
    "print(\"P-value:\", p_value)\n",
    "\n",
    "\n",
    "if f_statistic > critical_f_value:\n",
    "    print(\"The variances are significantly different.\")\n",
    "else:\n",
    "    print(\"The variances are not significantly different.\")\n"
   ]
  },
  {
   "cell_type": "code",
   "execution_count": null,
   "id": "07b79165",
   "metadata": {},
   "outputs": [],
   "source": [
    "Q5. A manufacturer claims that the variance of the diameter of a certain product is 0.005. A sample of 25\n",
    "products is taken, and the sample variance is found to be 0.006. Conduct an F-test at the 1% significance\n",
    "level to determine if the claim is justified."
   ]
  },
  {
   "cell_type": "code",
   "execution_count": 43,
   "id": "94e828a0",
   "metadata": {},
   "outputs": [],
   "source": [
    "sample_var = .006\n",
    "claimed_var = .005\n",
    "\n",
    "sig = .01"
   ]
  },
  {
   "cell_type": "code",
   "execution_count": 44,
   "id": "af4546cf",
   "metadata": {},
   "outputs": [],
   "source": [
    "fvalue = sample_var/claimed_var"
   ]
  },
  {
   "cell_type": "code",
   "execution_count": 45,
   "id": "c982ac17",
   "metadata": {},
   "outputs": [
    {
     "data": {
      "text/plain": [
       "1.2"
      ]
     },
     "execution_count": 45,
     "metadata": {},
     "output_type": "execute_result"
    }
   ],
   "source": [
    "fvalue"
   ]
  },
  {
   "cell_type": "code",
   "execution_count": 46,
   "id": "e10b4bfc",
   "metadata": {},
   "outputs": [],
   "source": [
    "critical_f_value = f.ppf(1 - significance_level / 2, 24, 24)"
   ]
  },
  {
   "cell_type": "code",
   "execution_count": 47,
   "id": "6bd52713",
   "metadata": {},
   "outputs": [
    {
     "data": {
      "text/plain": [
       "2.269277277621426"
      ]
     },
     "execution_count": 47,
     "metadata": {},
     "output_type": "execute_result"
    }
   ],
   "source": [
    "critical_f_value"
   ]
  },
  {
   "cell_type": "code",
   "execution_count": null,
   "id": "d150f943",
   "metadata": {},
   "outputs": [],
   "source": [
    "fvalue is less than critical f value\n",
    "so his claim is justified that diameter variance of a certai prod is .006"
   ]
  },
  {
   "cell_type": "code",
   "execution_count": null,
   "id": "579c52d7",
   "metadata": {},
   "outputs": [],
   "source": [
    "Q6. Write a Python function that takes in the degrees of freedom for the numerator and denominator of an\n",
    "F-distribution and calculates the mean and variance of the distribution. The function should return the\n",
    "mean and variance as a tuple."
   ]
  },
  {
   "cell_type": "code",
   "execution_count": 48,
   "id": "377febf0",
   "metadata": {},
   "outputs": [
    {
     "name": "stdout",
     "output_type": "stream",
     "text": [
      "Mean of F-distribution: 1.25\n",
      "Variance of F-distribution: 1.9097222222222223\n"
     ]
    }
   ],
   "source": [
    "def f_distribution_mean_and_variance(dfn, dfd):\n",
    "\n",
    "    mean = dfd / (dfd - 2)\n",
    "    variance = (2 * dfd**2 * (dfn + dfd - 2)) / (dfn * (dfd - 2)**2 * (dfd - 4))\n",
    "    return mean, variance\n",
    "\n",
    "degrees_of_freedom_numerator = 3\n",
    "degrees_of_freedom_denominator = 10\n",
    "\n",
    "mean, variance = f_distribution_mean_and_variance(degrees_of_freedom_numerator, degrees_of_freedom_denominator)\n",
    "print(\"Mean of F-distribution:\", mean)\n",
    "print(\"Variance of F-distribution:\", variance)\n"
   ]
  },
  {
   "cell_type": "code",
   "execution_count": null,
   "id": "f50730ff",
   "metadata": {},
   "outputs": [],
   "source": [
    "Q7. A random sample of 10 measurements is taken from a normal population with unknown variance. The\n",
    "sample variance is found to be 25. Another random sample of 15 measurements is taken from another\n",
    "normal population with unknown variance, and the sample variance is found to be 20. Conduct an F-test\n",
    "at the 10% significance level to determine if the variances are significantly different."
   ]
  },
  {
   "cell_type": "code",
   "execution_count": null,
   "id": "42ae8790",
   "metadata": {},
   "outputs": [],
   "source": [
    "h0  is variances are not significantly different"
   ]
  },
  {
   "cell_type": "code",
   "execution_count": null,
   "id": "6abc668b",
   "metadata": {},
   "outputs": [],
   "source": [
    "h1  is variances are significantly different"
   ]
  },
  {
   "cell_type": "code",
   "execution_count": 49,
   "id": "893fc986",
   "metadata": {},
   "outputs": [],
   "source": [
    "var1 = 25\n",
    "sample_size1 = 10\n",
    "var2 = 20\n",
    "sample_size2 = 15\n",
    "sig = .1"
   ]
  },
  {
   "cell_type": "code",
   "execution_count": 50,
   "id": "c4b4e6bf",
   "metadata": {},
   "outputs": [],
   "source": [
    "df1 = sample_size1 - 1\n",
    "df2 = sample_size2 - 1"
   ]
  },
  {
   "cell_type": "code",
   "execution_count": 51,
   "id": "c07877ec",
   "metadata": {},
   "outputs": [],
   "source": [
    "f_value = var1/var2"
   ]
  },
  {
   "cell_type": "code",
   "execution_count": 52,
   "id": "b9459e64",
   "metadata": {},
   "outputs": [],
   "source": [
    "cv = stat.f.ppf(1-sig,df1,df2)"
   ]
  },
  {
   "cell_type": "code",
   "execution_count": 53,
   "id": "792d6fda",
   "metadata": {},
   "outputs": [
    {
     "data": {
      "text/plain": [
       "2.121954566976902"
      ]
     },
     "execution_count": 53,
     "metadata": {},
     "output_type": "execute_result"
    }
   ],
   "source": [
    "cv"
   ]
  },
  {
   "cell_type": "code",
   "execution_count": 55,
   "id": "1d9db81c",
   "metadata": {},
   "outputs": [
    {
     "name": "stdout",
     "output_type": "stream",
     "text": [
      "accept h0, variances are not significantly different \n"
     ]
    }
   ],
   "source": [
    "if f_value > cv:\n",
    "    print(\"reject h0, variances are significantly different\")\n",
    "else:\n",
    "    print(\"accept h0, variances are not significantly different \")"
   ]
  },
  {
   "cell_type": "code",
   "execution_count": null,
   "id": "0b5d2879",
   "metadata": {},
   "outputs": [],
   "source": [
    "Q8. The following data represent the waiting times in minutes at two different restaurants on a Saturday\n",
    "night: Restaurant A: 24, 25, 28, 23, 22, 20, 27; Restaurant B: 31, 33, 35, 30, 32, 36. Conduct an F-test at the 5%\n",
    "significance level to determine if the variances are significantly different."
   ]
  },
  {
   "cell_type": "code",
   "execution_count": 58,
   "id": "b7e0ffd6",
   "metadata": {},
   "outputs": [],
   "source": [
    "res_a = [24, 25, 28, 23, 22, 20, 27]\n",
    "res_b = [31, 33, 35, 30, 32, 36]\n",
    "sig = .05"
   ]
  },
  {
   "cell_type": "code",
   "execution_count": 57,
   "id": "2d11e5d8",
   "metadata": {},
   "outputs": [
    {
     "ename": "SyntaxError",
     "evalue": "invalid syntax (2789310710.py, line 1)",
     "output_type": "error",
     "traceback": [
      "\u001b[1;36m  Cell \u001b[1;32mIn[57], line 1\u001b[1;36m\u001b[0m\n\u001b[1;33m    ho is variance are not significanthly different\u001b[0m\n\u001b[1;37m                   ^\u001b[0m\n\u001b[1;31mSyntaxError\u001b[0m\u001b[1;31m:\u001b[0m invalid syntax\n"
     ]
    }
   ],
   "source": [
    "ho is variance are not significanthly different\n",
    "h1 is variance is significantly different\n"
   ]
  },
  {
   "cell_type": "code",
   "execution_count": 59,
   "id": "12e89aa4",
   "metadata": {},
   "outputs": [],
   "source": [
    "fvalue = np.var(res_a)/np.var(res_b)\n",
    "cv = stat.f.ppf(1-sig,len(res_a)-1,len(res_b)-1)"
   ]
  },
  {
   "cell_type": "code",
   "execution_count": 65,
   "id": "754c4037",
   "metadata": {},
   "outputs": [
    {
     "name": "stdout",
     "output_type": "stream",
     "text": [
      "accept h0: variances are not significantly different\n"
     ]
    }
   ],
   "source": [
    "if fvalue > cv:\n",
    "    print(\"reject h0:variance are significantly different\")\n",
    "else:\n",
    "    print(\"accept h0: variances are not significantly different\")"
   ]
  },
  {
   "cell_type": "code",
   "execution_count": null,
   "id": "cf600f85",
   "metadata": {},
   "outputs": [],
   "source": [
    "Q9. The following data represent the test scores of two groups of students: Group A: 80, 85, 90, 92, 87, 83;\n",
    "Group B: 75, 78, 82, 79, 81, 84. Conduct an F-test at the 1% significance level to determine if the variances\n",
    "are significantly different."
   ]
  },
  {
   "cell_type": "code",
   "execution_count": 68,
   "id": "8976b108",
   "metadata": {},
   "outputs": [],
   "source": [
    "group_a = [80, 85, 90, 92, 87, 83]\n",
    "group_b = [75, 78, 82, 79, 81, 84]\n",
    "sig = .1"
   ]
  },
  {
   "cell_type": "code",
   "execution_count": null,
   "id": "0557a479",
   "metadata": {},
   "outputs": [],
   "source": [
    "ho is variance are not significanthly different\n",
    "h1 is variance is significantly different\n"
   ]
  },
  {
   "cell_type": "code",
   "execution_count": 69,
   "id": "abf8b22c",
   "metadata": {},
   "outputs": [],
   "source": [
    "fvalue = np.var(group_a)/np.var(group_b)\n",
    "cv = stat.f.ppf(1-sig,len(group_a)-1,len(group_b)-1)"
   ]
  },
  {
   "cell_type": "code",
   "execution_count": 70,
   "id": "2bc0d945",
   "metadata": {},
   "outputs": [
    {
     "name": "stdout",
     "output_type": "stream",
     "text": [
      "accept h0: variances are not significantly different\n"
     ]
    }
   ],
   "source": [
    "if fvalue > cv:\n",
    "    print(\"reject h0:variance are significantly different\")\n",
    "else:\n",
    "    print(\"accept h0: variances are not significantly different\")"
   ]
  },
  {
   "cell_type": "code",
   "execution_count": null,
   "id": "0c7dd3f5",
   "metadata": {},
   "outputs": [],
   "source": []
  },
  {
   "cell_type": "code",
   "execution_count": null,
   "id": "3c1b7f32",
   "metadata": {},
   "outputs": [],
   "source": []
  },
  {
   "cell_type": "code",
   "execution_count": null,
   "id": "d692de55",
   "metadata": {},
   "outputs": [],
   "source": []
  }
 ],
 "metadata": {
  "kernelspec": {
   "display_name": "Python 3 (ipykernel)",
   "language": "python",
   "name": "python3"
  },
  "language_info": {
   "codemirror_mode": {
    "name": "ipython",
    "version": 3
   },
   "file_extension": ".py",
   "mimetype": "text/x-python",
   "name": "python",
   "nbconvert_exporter": "python",
   "pygments_lexer": "ipython3",
   "version": "3.10.9"
  }
 },
 "nbformat": 4,
 "nbformat_minor": 5
}
