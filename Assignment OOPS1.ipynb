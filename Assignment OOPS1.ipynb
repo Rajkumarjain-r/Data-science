{
 "cells": [
  {
   "cell_type": "markdown",
   "id": "2660dcb5",
   "metadata": {},
   "source": [
    "Q1. Explain Class and Object with respect to Object-Oriented Programming. Give a suitable example."
   ]
  },
  {
   "cell_type": "markdown",
   "id": "ab4f0875",
   "metadata": {},
   "source": [
    "Class is a blueprint which defines some properties and behaviors. An object is an instance of a class which has those properties and behaviours attached. "
   ]
  },
  {
   "cell_type": "markdown",
   "id": "68f5adf5",
   "metadata": {},
   "source": [
    "Q2. Name the four pillars of OOPs."
   ]
  },
  {
   "cell_type": "markdown",
   "id": "5fabbdd5",
   "metadata": {},
   "source": [
    "Inheritence, Poluymorphism, Encapsulation and Abstraction"
   ]
  },
  {
   "cell_type": "markdown",
   "id": "ce253e89",
   "metadata": {},
   "source": [
    "Q3. Explain why the __init__() function is used. Give a suitable example."
   ]
  },
  {
   "cell_type": "markdown",
   "id": "97305c6e",
   "metadata": {},
   "source": [
    "__init__ is a constructor used in class to get inputs while creating the objects.The __init__ function is called every time an object is created from a class. The __init__ method lets the class initialize the object's attributes and serves no other purpose. It is only used within classes."
   ]
  },
  {
   "cell_type": "code",
   "execution_count": 1,
   "id": "919de8bf",
   "metadata": {},
   "outputs": [],
   "source": [
    "class explain_init:\n",
    "    def __init__(self, a):\n",
    "        self.a = a\n",
    "    def display_init(self):\n",
    "        return self.a"
   ]
  },
  {
   "cell_type": "code",
   "execution_count": 2,
   "id": "831293ba",
   "metadata": {},
   "outputs": [],
   "source": [
    "obj_init = explain_init(15)"
   ]
  },
  {
   "cell_type": "code",
   "execution_count": 3,
   "id": "ebb3faa3",
   "metadata": {},
   "outputs": [
    {
     "data": {
      "text/plain": [
       "15"
      ]
     },
     "execution_count": 3,
     "metadata": {},
     "output_type": "execute_result"
    }
   ],
   "source": [
    "obj_init.display_init()"
   ]
  },
  {
   "cell_type": "markdown",
   "id": "5618b8d9",
   "metadata": {},
   "source": [
    "Q4. Why self is used in OOPs?"
   ]
  },
  {
   "cell_type": "markdown",
   "id": "73fe62b8",
   "metadata": {},
   "source": [
    "The self variable is used to represent the instance of the class which is often used in object-oriented programming. It works as a reference to the object. Python uses the self parameter to refer to instance attributes and methods of the class"
   ]
  },
  {
   "cell_type": "markdown",
   "id": "4ce17967",
   "metadata": {},
   "source": [
    "What is inheritance? Give an example for each type of inheritance."
   ]
  },
  {
   "cell_type": "markdown",
   "id": "3af89de4",
   "metadata": {},
   "source": [
    "Inheritance allows us to define a class that inherits all the methods and properties from another class. Parent class is the class being inherited from, also called base class. Child class is the class that inherits from another class, also called derived class"
   ]
  },
  {
   "cell_type": "markdown",
   "id": "939c123c",
   "metadata": {},
   "source": [
    "1. single Inheritence"
   ]
  },
  {
   "cell_type": "code",
   "execution_count": 30,
   "id": "6eb8b744",
   "metadata": {},
   "outputs": [],
   "source": [
    "class parent:\n",
    "    def display_parent(self):\n",
    "        return(\"This is from parent class\")\n",
    "class child(parent):\n",
    "    def display_child(self):\n",
    "        return(\"This is from child class\")"
   ]
  },
  {
   "cell_type": "code",
   "execution_count": 31,
   "id": "5218e5ad",
   "metadata": {},
   "outputs": [],
   "source": [
    "c = child()"
   ]
  },
  {
   "cell_type": "code",
   "execution_count": 32,
   "id": "be44f2d9",
   "metadata": {},
   "outputs": [
    {
     "data": {
      "text/plain": [
       "'This is from child class'"
      ]
     },
     "execution_count": 32,
     "metadata": {},
     "output_type": "execute_result"
    }
   ],
   "source": [
    "c.display_child()"
   ]
  },
  {
   "cell_type": "code",
   "execution_count": 33,
   "id": "748d693d",
   "metadata": {},
   "outputs": [
    {
     "data": {
      "text/plain": [
       "'This is from parent class'"
      ]
     },
     "execution_count": 33,
     "metadata": {},
     "output_type": "execute_result"
    }
   ],
   "source": [
    "c.display_parent()"
   ]
  },
  {
   "cell_type": "markdown",
   "id": "cd306546",
   "metadata": {},
   "source": [
    "2. Multilevel inheritence"
   ]
  },
  {
   "cell_type": "code",
   "execution_count": 37,
   "id": "37123838",
   "metadata": {},
   "outputs": [],
   "source": [
    "class l1:\n",
    "    def display_l1(self):\n",
    "        return(\"This is from l1 class\")\n",
    "class l2(l1):\n",
    "    def display_l2(self):\n",
    "        return(\"This is from l2 class\")\n",
    "class l3(l2):\n",
    "    def display_l3(self):\n",
    "        return(\"This is from l3 class\")\n",
    "class l4(l3):\n",
    "    def display_l4(self):\n",
    "        return(\"This is from l4 class\")"
   ]
  },
  {
   "cell_type": "code",
   "execution_count": 38,
   "id": "5e858f18",
   "metadata": {},
   "outputs": [],
   "source": [
    "multi_level = l4()"
   ]
  },
  {
   "cell_type": "code",
   "execution_count": 39,
   "id": "eed3ef67",
   "metadata": {},
   "outputs": [
    {
     "data": {
      "text/plain": [
       "'This is from l4 class'"
      ]
     },
     "execution_count": 39,
     "metadata": {},
     "output_type": "execute_result"
    }
   ],
   "source": [
    "multi_level.display_l4()"
   ]
  },
  {
   "cell_type": "code",
   "execution_count": 40,
   "id": "f1bd6cc8",
   "metadata": {},
   "outputs": [
    {
     "data": {
      "text/plain": [
       "'This is from l3 class'"
      ]
     },
     "execution_count": 40,
     "metadata": {},
     "output_type": "execute_result"
    }
   ],
   "source": [
    "multi_level.display_l3()"
   ]
  },
  {
   "cell_type": "code",
   "execution_count": 41,
   "id": "17b887f0",
   "metadata": {},
   "outputs": [
    {
     "data": {
      "text/plain": [
       "'This is from l2 class'"
      ]
     },
     "execution_count": 41,
     "metadata": {},
     "output_type": "execute_result"
    }
   ],
   "source": [
    "multi_level.display_l2()"
   ]
  },
  {
   "cell_type": "code",
   "execution_count": 42,
   "id": "173a0e3a",
   "metadata": {},
   "outputs": [
    {
     "data": {
      "text/plain": [
       "'This is from l1 class'"
      ]
     },
     "execution_count": 42,
     "metadata": {},
     "output_type": "execute_result"
    }
   ],
   "source": [
    "multi_level.display_l1()"
   ]
  },
  {
   "cell_type": "markdown",
   "id": "aef0222e",
   "metadata": {},
   "source": [
    "3. Multiple Inheritence"
   ]
  },
  {
   "cell_type": "code",
   "execution_count": 43,
   "id": "c07169b9",
   "metadata": {},
   "outputs": [],
   "source": [
    "class l1:\n",
    "    def display_l1(self):\n",
    "        return(\"This is from l1 class\")\n",
    "class l2:\n",
    "    def display_l2(self):\n",
    "        return(\"This is from l2 class\")\n",
    "class l3:\n",
    "    def display_l3(self):\n",
    "        return(\"This is from l3 class\")\n",
    "class l4:\n",
    "    def display_l4(self):\n",
    "        return(\"This is from l4 class\")\n",
    "class l5(l1,l2,l3,l4):\n",
    "    pass"
   ]
  },
  {
   "cell_type": "code",
   "execution_count": 44,
   "id": "762f4177",
   "metadata": {},
   "outputs": [],
   "source": [
    "multi  = l5()"
   ]
  },
  {
   "cell_type": "code",
   "execution_count": 45,
   "id": "63a1c18a",
   "metadata": {},
   "outputs": [
    {
     "data": {
      "text/plain": [
       "'This is from l4 class'"
      ]
     },
     "execution_count": 45,
     "metadata": {},
     "output_type": "execute_result"
    }
   ],
   "source": [
    "multi.display_l4()"
   ]
  },
  {
   "cell_type": "code",
   "execution_count": 46,
   "id": "3ab96bbf",
   "metadata": {},
   "outputs": [
    {
     "data": {
      "text/plain": [
       "'This is from l3 class'"
      ]
     },
     "execution_count": 46,
     "metadata": {},
     "output_type": "execute_result"
    }
   ],
   "source": [
    "multi.display_l3()"
   ]
  },
  {
   "cell_type": "markdown",
   "id": "f5d76551",
   "metadata": {},
   "source": [
    "4. Hierarchial inheritence"
   ]
  },
  {
   "cell_type": "code",
   "execution_count": 48,
   "id": "1f6fe4cb",
   "metadata": {},
   "outputs": [],
   "source": [
    "class parent:\n",
    "    pass"
   ]
  },
  {
   "cell_type": "code",
   "execution_count": 49,
   "id": "47aefbd7",
   "metadata": {},
   "outputs": [],
   "source": [
    "class child1(parent):\n",
    "    pass\n",
    "class child2(parent):\n",
    "    pass"
   ]
  },
  {
   "cell_type": "markdown",
   "id": "09b5b84b",
   "metadata": {},
   "source": [
    "5. hybrid Inheritence"
   ]
  },
  {
   "cell_type": "markdown",
   "id": "e9fadd1c",
   "metadata": {},
   "source": [
    "Hybrid inheritance is a combination of multiple inheritance types. It includes a mix of single, multiple, multilevel, or hierarchical inheritance."
   ]
  },
  {
   "cell_type": "code",
   "execution_count": 51,
   "id": "c8951405",
   "metadata": {},
   "outputs": [],
   "source": [
    "class Parent1:\n",
    "    pass\n",
    "\n",
    "class Parent2:\n",
    "    pass\n",
    "\n",
    "class Child(Parent1, Parent2):\n",
    "    pass\n",
    "\n",
    "class Grandchild(Child):\n",
    "    pass"
   ]
  },
  {
   "cell_type": "code",
   "execution_count": null,
   "id": "96f30872",
   "metadata": {},
   "outputs": [],
   "source": []
  },
  {
   "cell_type": "code",
   "execution_count": null,
   "id": "7651cd82",
   "metadata": {},
   "outputs": [],
   "source": []
  }
 ],
 "metadata": {
  "kernelspec": {
   "display_name": "Python 3 (ipykernel)",
   "language": "python",
   "name": "python3"
  },
  "language_info": {
   "codemirror_mode": {
    "name": "ipython",
    "version": 3
   },
   "file_extension": ".py",
   "mimetype": "text/x-python",
   "name": "python",
   "nbconvert_exporter": "python",
   "pygments_lexer": "ipython3",
   "version": "3.10.9"
  }
 },
 "nbformat": 4,
 "nbformat_minor": 5
}
