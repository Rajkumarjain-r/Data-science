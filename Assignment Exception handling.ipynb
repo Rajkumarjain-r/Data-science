{
 "cells": [
  {
   "attachments": {},
   "cell_type": "markdown",
   "metadata": {},
   "source": []
  },
  {
   "attachments": {},
   "cell_type": "markdown",
   "metadata": {},
   "source": [
    "Q1. What is an exception in python. Write the differcne between Exception and Syntax erros\n",
    "\n",
    "An exception is an event that occurs during the execution of a program, which disrupts the normal flow of the program's instructions. When an exception occurs, the program stops executing its regular code and jumps to a specific block of code called an exception handler\n",
    "\n",
    "Exceptions occur during the execution of a program, when something unexpected happens or an error condition arises.\n",
    "They can be caused by various factors, such as invalid input, unavailable resources, logical errors, or exceptional situations.\n",
    "\n",
    "Syntax errors occur when the Python interpreter encounters code that violates the language's syntax rules.\n",
    "They are usually caused by mistakes in the code's structure, such as misspelled keywords, missing parentheses or quotation marks, incorrect indentation, or improper use of operators.\n",
    "Syntax errors prevent the code from being parsed and compiled, so the program cannot even start running."
   ]
  },
  {
   "attachments": {},
   "cell_type": "markdown",
   "metadata": {},
   "source": [
    "q2. What happends when exception is not handled?\n",
    "\n",
    "When an exception is not handled, it propagates up the call stack until it reaches the top-level of the program or an exception handler that can handle it. If no suitable exception handler is found, the program will terminate, and an error message (including the exception type and a traceback) will be displayed.\n"
   ]
  },
  {
   "cell_type": "code",
   "execution_count": 1,
   "metadata": {},
   "outputs": [],
   "source": [
    "import logging"
   ]
  },
  {
   "cell_type": "code",
   "execution_count": 2,
   "metadata": {},
   "outputs": [],
   "source": [
    "logging.basicConfig(filename=\"error.log\",level=logging.DEBUG,format = '%(asctime)s %(name)s %(levelname)s %(message)s')"
   ]
  },
  {
   "cell_type": "code",
   "execution_count": 3,
   "metadata": {},
   "outputs": [
    {
     "ename": "ValueError",
     "evalue": "invalid literal for int() with base 10: 'raj'",
     "output_type": "error",
     "traceback": [
      "\u001b[1;31m---------------------------------------------------------------------------\u001b[0m",
      "\u001b[1;31mValueError\u001b[0m                                Traceback (most recent call last)",
      "Cell \u001b[1;32mIn[3], line 1\u001b[0m\n\u001b[1;32m----> 1\u001b[0m \u001b[39mint\u001b[39;49m(\u001b[39m\"\u001b[39;49m\u001b[39mraj\u001b[39;49m\u001b[39m\"\u001b[39;49m)\n",
      "\u001b[1;31mValueError\u001b[0m: invalid literal for int() with base 10: 'raj'"
     ]
    }
   ],
   "source": [
    "int(\"raj\")"
   ]
  },
  {
   "attachments": {},
   "cell_type": "markdown",
   "metadata": {},
   "source": [
    "So in the above example since Exception is not handled, the code excution is stopped in the run time with value error"
   ]
  },
  {
   "attachments": {},
   "cell_type": "markdown",
   "metadata": {},
   "source": [
    "Q3. Which python statements is used to catch and handle Exceptions"
   ]
  },
  {
   "attachments": {},
   "cell_type": "markdown",
   "metadata": {},
   "source": [
    "Except statment is used to catch and handle exceptions"
   ]
  },
  {
   "cell_type": "code",
   "execution_count": 6,
   "metadata": {},
   "outputs": [
    {
     "name": "stdout",
     "output_type": "stream",
     "text": [
      "division by zero\n"
     ]
    }
   ],
   "source": [
    "try:\n",
    "    10/0 + \"56565\"\n",
    "except Exception as e:\n",
    "    print(e)\n",
    "    logging.info(e)"
   ]
  },
  {
   "attachments": {},
   "cell_type": "markdown",
   "metadata": {},
   "source": [
    "Q4. Explain with an example try raise finally"
   ]
  },
  {
   "cell_type": "code",
   "execution_count": 17,
   "metadata": {},
   "outputs": [
    {
     "name": "stdout",
     "output_type": "stream",
     "text": [
      "Invalid value found in condition invalid value!! in try block \n"
     ]
    }
   ],
   "source": [
    "\n",
    "try:\n",
    "    if 5 < 10:\n",
    "        raise ValueError(\"invalid value!! in try block \")\n",
    "except ValueError as e:\n",
    "    print(\"Invalid value found in condition\",str(e))\n",
    "    logging.info(e)\n",
    "finally:\n",
    "    logging.info(\"this block will run regardlessly try has ran succesfully or failed. In all case it will run\")\n",
    "\n"
   ]
  },
  {
   "attachments": {},
   "cell_type": "markdown",
   "metadata": {},
   "source": [
    "2023-06-07 19:14:48,284 root INFO invalid value!! \n",
    "2023-06-07 19:14:48,284 root INFO this block will run regardlessly try has ran succesfully or failed. In all case it will run\n",
    "2023-06-07 19:15:43,333 root INFO invalid value!! in try block \n",
    "2023-06-07 19:15:43,333 root INFO this block will run regardlessly try has ran succesfully or failed. In all case it will run"
   ]
  },
  {
   "attachments": {},
   "cell_type": "markdown",
   "metadata": {},
   "source": [
    "Q5. What are custom exception. why do we need to do this and explain with an example\n",
    "\n",
    "Custom exceptions are user defined exceptions. Its done according to the function process of the product.\n"
   ]
  },
  {
   "cell_type": "code",
   "execution_count": 19,
   "metadata": {},
   "outputs": [],
   "source": [
    "class mycustomexception(Exception):\n",
    "    def __init__(self,msg):\n",
    "        self.msg = msg"
   ]
  },
  {
   "cell_type": "code",
   "execution_count": 21,
   "metadata": {},
   "outputs": [
    {
     "name": "stdout",
     "output_type": "stream",
     "text": [
      "Balance is less than the wihdrawn amount, So less balance\n",
      "thank you Visit again\n"
     ]
    }
   ],
   "source": [
    "balance = 100\n",
    "withdraw_amount = 1000\n",
    "try:\n",
    "    if balance < withdraw_amount:\n",
    "        raise mycustomexception(\"Balance is less than the wihdrawn amount, So less balance\")\n",
    "except mycustomexception as e:\n",
    "    print(e)\n",
    "    logging.info(e)\n",
    "finally:\n",
    "    logging.info(\"thank you Visit again\")\n",
    "    print(\"thank you Visit again\")\n"
   ]
  },
  {
   "attachments": {},
   "cell_type": "markdown",
   "metadata": {},
   "source": [
    "2023-06-07 19:27:25,421 root INFO Balance is less than the wihdrawn amount, So less balance\n",
    "2023-06-07 19:27:25,422 root INFO thank you Visit again"
   ]
  },
  {
   "attachments": {},
   "cell_type": "markdown",
   "metadata": {},
   "source": [
    "Q6. Create a custom exception class and handle it.\n"
   ]
  },
  {
   "cell_type": "code",
   "execution_count": 23,
   "metadata": {},
   "outputs": [
    {
     "name": "stdout",
     "output_type": "stream",
     "text": [
      "Balance is less than the wihdrawn amount, So less balance\n",
      "thank you Visit again\n"
     ]
    }
   ],
   "source": [
    "class mycustomexception(Exception):\n",
    "    def __init__(self,msg):\n",
    "        self.msg = msg\n",
    "\n",
    "balance = 100\n",
    "withdraw_amount = 1000\n",
    "try:\n",
    "    if balance < withdraw_amount:\n",
    "        raise mycustomexception(\"Balance is less than the wihdrawn amount, So less balance\")\n",
    "except mycustomexception as e:\n",
    "    print(e)\n",
    "    logging.info(e)\n",
    "finally:\n",
    "    logging.info(\"thank you Visit again\")\n",
    "    print(\"thank you Visit again\")\n"
   ]
  },
  {
   "cell_type": "code",
   "execution_count": null,
   "metadata": {},
   "outputs": [],
   "source": []
  }
 ],
 "metadata": {
  "kernelspec": {
   "display_name": "base",
   "language": "python",
   "name": "python3"
  },
  "language_info": {
   "codemirror_mode": {
    "name": "ipython",
    "version": 3
   },
   "file_extension": ".py",
   "mimetype": "text/x-python",
   "name": "python",
   "nbconvert_exporter": "python",
   "pygments_lexer": "ipython3",
   "version": "3.10.9"
  },
  "orig_nbformat": 4
 },
 "nbformat": 4,
 "nbformat_minor": 2
}
