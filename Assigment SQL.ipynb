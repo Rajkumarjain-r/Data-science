{
 "cells": [
  {
   "cell_type": "code",
   "execution_count": 1,
   "id": "93a8969a",
   "metadata": {},
   "outputs": [
    {
     "name": "stdout",
     "output_type": "stream",
     "text": [
      "Requirement already satisfied: mysql-connector-python in c:\\users\\rajmr\\anaconda3\\lib\\site-packages (8.0.32)\n",
      "Requirement already satisfied: protobuf<=3.20.3,>=3.11.0 in c:\\users\\rajmr\\anaconda3\\lib\\site-packages (from mysql-connector-python) (3.20.3)\n"
     ]
    },
    {
     "name": "stderr",
     "output_type": "stream",
     "text": [
      "WARNING: Ignoring invalid distribution -ymongo (c:\\users\\rajmr\\anaconda3\\lib\\site-packages)\n",
      "WARNING: Ignoring invalid distribution -ymongo (c:\\users\\rajmr\\anaconda3\\lib\\site-packages)\n",
      "WARNING: Ignoring invalid distribution -ymongo (c:\\users\\rajmr\\anaconda3\\lib\\site-packages)\n",
      "WARNING: Ignoring invalid distribution -ymongo (c:\\users\\rajmr\\anaconda3\\lib\\site-packages)\n",
      "WARNING: Ignoring invalid distribution -ymongo (c:\\users\\rajmr\\anaconda3\\lib\\site-packages)\n",
      "WARNING: Ignoring invalid distribution -ymongo (c:\\users\\rajmr\\anaconda3\\lib\\site-packages)\n"
     ]
    }
   ],
   "source": [
    "!pip install mysql-connector-python"
   ]
  },
  {
   "cell_type": "code",
   "execution_count": 2,
   "id": "3a2bf4fc",
   "metadata": {},
   "outputs": [],
   "source": [
    "import mysql.connector as conn"
   ]
  },
  {
   "cell_type": "code",
   "execution_count": 14,
   "id": "b194803f",
   "metadata": {},
   "outputs": [],
   "source": [
    "mydb = conn.connect (host = \"localhost\", user = 'root' , password = 'qwer1234')"
   ]
  },
  {
   "cell_type": "code",
   "execution_count": 15,
   "id": "439bf628",
   "metadata": {},
   "outputs": [],
   "source": [
    "mydb.database"
   ]
  },
  {
   "cell_type": "code",
   "execution_count": 16,
   "id": "f9844806",
   "metadata": {},
   "outputs": [],
   "source": [
    "cursor = mydb.cursor()"
   ]
  },
  {
   "cell_type": "markdown",
   "id": "ed70200a",
   "metadata": {},
   "source": [
    "Q1. What is a database? Differentiate between SQL and NoSQL databases.\n",
    "\n",
    "Database is a form of storing data.\n",
    "SQL is a structured query language and use to store data in shema. We need to create the table structure and then store and so manipulations to the data. We have DDL in it\n",
    "\n",
    "NoSQL is form of storing storing data like a dictionary. We dont have a shema. We have collections as table and documents as records."
   ]
  },
  {
   "cell_type": "markdown",
   "id": "fdaca7a0",
   "metadata": {},
   "source": [
    "Q2. What is DDL? Explain why CREATE, DROP, ALTER, and TRUNCATE are used with an example."
   ]
  },
  {
   "cell_type": "markdown",
   "id": "7093ba4e",
   "metadata": {},
   "source": [
    "DDL starnds for Data definition language where you create or alter the table schema."
   ]
  },
  {
   "cell_type": "code",
   "execution_count": 54,
   "id": "52dcff35",
   "metadata": {},
   "outputs": [],
   "source": [
    "cursor.execute (' create database IF NOT EXISTS Assignment_db')"
   ]
  },
  {
   "cell_type": "code",
   "execution_count": 55,
   "id": "930da97a",
   "metadata": {},
   "outputs": [],
   "source": [
    "cursor.execute('use Assignment_db')"
   ]
  },
  {
   "cell_type": "code",
   "execution_count": 56,
   "id": "04e6e5e9",
   "metadata": {},
   "outputs": [],
   "source": [
    "#create\n",
    "#create is used to create a table or a database\n",
    "\n",
    "query = \"create table Assignment_table (col1 int(5), col2 int(5), col3 varchar(10), col4 float(10,5), col5 varchar(20))\""
   ]
  },
  {
   "cell_type": "code",
   "execution_count": 57,
   "id": "1f104831",
   "metadata": {},
   "outputs": [],
   "source": [
    "cursor.execute(query)"
   ]
  },
  {
   "cell_type": "code",
   "execution_count": 39,
   "id": "96f11e2a",
   "metadata": {},
   "outputs": [],
   "source": [
    "#drop \n",
    "#drop is used to drop a table or a database\n",
    "\n",
    "query = \"drop table Assignment_table\""
   ]
  },
  {
   "cell_type": "code",
   "execution_count": 40,
   "id": "5d833874",
   "metadata": {},
   "outputs": [],
   "source": [
    "cursor.execute(query)"
   ]
  },
  {
   "cell_type": "code",
   "execution_count": 41,
   "id": "7ac29122",
   "metadata": {},
   "outputs": [],
   "source": [
    "query = \"drop database  Assignment_db\""
   ]
  },
  {
   "cell_type": "code",
   "execution_count": 42,
   "id": "2792e4f9",
   "metadata": {},
   "outputs": [],
   "source": [
    "cursor.execute(query)"
   ]
  },
  {
   "cell_type": "code",
   "execution_count": 43,
   "id": "0d55e427",
   "metadata": {},
   "outputs": [],
   "source": [
    "cursor.execute(\"show databases\")"
   ]
  },
  {
   "cell_type": "code",
   "execution_count": 44,
   "id": "0b436978",
   "metadata": {},
   "outputs": [
    {
     "data": {
      "text/plain": [
       "[('information_schema',),\n",
       " ('mysql',),\n",
       " ('performance_schema',),\n",
       " ('raj',),\n",
       " ('sakila',),\n",
       " ('sys',),\n",
       " ('world',)]"
      ]
     },
     "execution_count": 44,
     "metadata": {},
     "output_type": "execute_result"
    }
   ],
   "source": [
    "cursor.fetchall()"
   ]
  },
  {
   "cell_type": "code",
   "execution_count": 58,
   "id": "df0edf5f",
   "metadata": {},
   "outputs": [],
   "source": [
    "#Alter\n",
    "#Alter is used to chnage the Shema of the table. Like in below I changing the col1 from it to float\n",
    "query = \"ALTER table Assignment_table MODIFY COLUMN col1 float(10,5)\""
   ]
  },
  {
   "cell_type": "code",
   "execution_count": 59,
   "id": "f5af2c86",
   "metadata": {},
   "outputs": [],
   "source": [
    "cursor.execute(query)"
   ]
  },
  {
   "cell_type": "code",
   "execution_count": 60,
   "id": "930ce27d",
   "metadata": {},
   "outputs": [],
   "source": [
    "query = \" Alter table Assignment_table ADD COLUMN col6 varchar(40)\""
   ]
  },
  {
   "cell_type": "code",
   "execution_count": 61,
   "id": "c12e75f3",
   "metadata": {},
   "outputs": [],
   "source": [
    "cursor.execute(query)"
   ]
  },
  {
   "cell_type": "code",
   "execution_count": null,
   "id": "9cc831c2",
   "metadata": {},
   "outputs": [],
   "source": [
    "#TRUNCATE\n",
    "#Truncate table deletes the table contents completly"
   ]
  },
  {
   "cell_type": "code",
   "execution_count": 68,
   "id": "d86e43c8",
   "metadata": {},
   "outputs": [],
   "source": [
    "query = \"insert into Assignment_table values (10,10,'text',10,'text','text')\""
   ]
  },
  {
   "cell_type": "code",
   "execution_count": 69,
   "id": "2cb16fb1",
   "metadata": {},
   "outputs": [],
   "source": [
    "cursor.execute(query)"
   ]
  },
  {
   "cell_type": "code",
   "execution_count": 71,
   "id": "887048d1",
   "metadata": {},
   "outputs": [],
   "source": [
    "cursor.execute(\"select * from Assignment_table\")"
   ]
  },
  {
   "cell_type": "code",
   "execution_count": 72,
   "id": "e16dabf7",
   "metadata": {},
   "outputs": [
    {
     "name": "stdout",
     "output_type": "stream",
     "text": [
      "(10.0, 10, 'text', 10.0, 'text', 'text')\n"
     ]
    }
   ],
   "source": [
    "for i in cursor.fetchall():\n",
    "    print(i)"
   ]
  },
  {
   "cell_type": "code",
   "execution_count": 73,
   "id": "b27b285c",
   "metadata": {},
   "outputs": [],
   "source": [
    "query = \"truncate table Assignment_table \""
   ]
  },
  {
   "cell_type": "code",
   "execution_count": 76,
   "id": "eb15c091",
   "metadata": {},
   "outputs": [],
   "source": [
    "cursor.execute(query)"
   ]
  },
  {
   "cell_type": "code",
   "execution_count": 77,
   "id": "1f32f2f7",
   "metadata": {},
   "outputs": [],
   "source": [
    "cursor.execute(\"select * from Assignment_table\")"
   ]
  },
  {
   "cell_type": "code",
   "execution_count": 78,
   "id": "8d00f434",
   "metadata": {},
   "outputs": [],
   "source": [
    "for i in cursor.fetchall():\n",
    "    print(i)"
   ]
  },
  {
   "cell_type": "markdown",
   "id": "3387a54a",
   "metadata": {},
   "source": [
    "Q3. What is DML? Explain INSERT, UPDATE, and DELETE with an example."
   ]
  },
  {
   "cell_type": "code",
   "execution_count": null,
   "id": "4fde1bc3",
   "metadata": {},
   "outputs": [],
   "source": [
    "DML is data manipulation language."
   ]
  },
  {
   "cell_type": "code",
   "execution_count": 85,
   "id": "dd2d42d8",
   "metadata": {},
   "outputs": [],
   "source": [
    "#insert is to insert data to table\n",
    "q1 = \"insert into Assignment_table values (10,10,'text',10,'text','text')\"\n",
    "#update is to update data to table\n",
    "q2 = \"update Assignment_table set col3 = 'upd text'\"\n",
    "#delete is to delete records to table\n",
    "q3 = \"delete from Assignment_table where col1 = 10\""
   ]
  },
  {
   "cell_type": "code",
   "execution_count": 95,
   "id": "794de38b",
   "metadata": {},
   "outputs": [],
   "source": [
    "cursor.execute(q1)"
   ]
  },
  {
   "cell_type": "code",
   "execution_count": 96,
   "id": "1231c050",
   "metadata": {},
   "outputs": [],
   "source": [
    "cursor.execute(\"select * from Assignment_table\")"
   ]
  },
  {
   "cell_type": "code",
   "execution_count": 97,
   "id": "fd118b27",
   "metadata": {},
   "outputs": [
    {
     "name": "stdout",
     "output_type": "stream",
     "text": [
      "(10.0, 10, 'text', 10.0, 'text', 'text')\n"
     ]
    }
   ],
   "source": [
    "for i in cursor.fetchall():\n",
    "    print(i)"
   ]
  },
  {
   "cell_type": "code",
   "execution_count": 86,
   "id": "6df6540f",
   "metadata": {},
   "outputs": [],
   "source": [
    "cursor.execute(q2)"
   ]
  },
  {
   "cell_type": "code",
   "execution_count": 87,
   "id": "1da41c14",
   "metadata": {},
   "outputs": [],
   "source": [
    "cursor.execute(\"select * from Assignment_table\")"
   ]
  },
  {
   "cell_type": "code",
   "execution_count": 88,
   "id": "ef113ef9",
   "metadata": {},
   "outputs": [
    {
     "name": "stdout",
     "output_type": "stream",
     "text": [
      "(10.0, 10, 'upd text', 10.0, 'text', 'text')\n"
     ]
    }
   ],
   "source": [
    "for i in cursor.fetchall():\n",
    "    print(i)"
   ]
  },
  {
   "cell_type": "code",
   "execution_count": 89,
   "id": "e2bd3293",
   "metadata": {},
   "outputs": [],
   "source": [
    "cursor.execute(q3)"
   ]
  },
  {
   "cell_type": "code",
   "execution_count": 90,
   "id": "b48c56ba",
   "metadata": {},
   "outputs": [],
   "source": [
    "for i in cursor.fetchall():\n",
    "    print(i)"
   ]
  },
  {
   "cell_type": "code",
   "execution_count": 91,
   "id": "d1bf6531",
   "metadata": {},
   "outputs": [],
   "source": [
    "mydb.commit()"
   ]
  },
  {
   "cell_type": "markdown",
   "id": "63911664",
   "metadata": {},
   "source": [
    "Q4. What is DQL? Explain SELECT with an example."
   ]
  },
  {
   "cell_type": "markdown",
   "id": "12d30815",
   "metadata": {},
   "source": [
    "This is data query language. Select is used to select data from the table\n",
    "cursor.execute(\"select * from Assignment_table\")"
   ]
  },
  {
   "cell_type": "code",
   "execution_count": 98,
   "id": "b4643160",
   "metadata": {},
   "outputs": [],
   "source": [
    "cursor.execute(\"select * from Assignment_table\")"
   ]
  },
  {
   "cell_type": "code",
   "execution_count": 99,
   "id": "2083e47f",
   "metadata": {},
   "outputs": [
    {
     "name": "stdout",
     "output_type": "stream",
     "text": [
      "(10.0, 10, 'text', 10.0, 'text', 'text')\n"
     ]
    }
   ],
   "source": [
    "for i in cursor.fetchall():\n",
    "    print(i)"
   ]
  },
  {
   "cell_type": "markdown",
   "id": "19215465",
   "metadata": {},
   "source": [
    "Q5. Explain Primary Key and Foreign Key."
   ]
  },
  {
   "cell_type": "markdown",
   "id": "87555547",
   "metadata": {},
   "source": [
    "Primary key is A primary key is used to ensure that data in the specific column is unique. A column cannot have NULL values. It is either an existing table column or a column that is specifically generated by the database according to a defined sequence. "
   ]
  },
  {
   "cell_type": "markdown",
   "id": "cc40a289",
   "metadata": {},
   "source": [
    "Foreign key is A foreign key is a column or group of columns in a relational database table that provides a link between data in two tables. It is a column (or columns) that references a column (most often the primary key) of another table. "
   ]
  },
  {
   "cell_type": "markdown",
   "id": "195b286a",
   "metadata": {},
   "source": [
    "Q6. Write a python code to connect MySQL to python. Explain the cursor() and execute() method."
   ]
  },
  {
   "cell_type": "code",
   "execution_count": 103,
   "id": "af6bcf0d",
   "metadata": {},
   "outputs": [],
   "source": [
    "cursor = mydb.cursor() # a database cursor is a mechanism that enables traversal over the records in a databas"
   ]
  },
  {
   "cell_type": "code",
   "execution_count": 101,
   "id": "83def367",
   "metadata": {},
   "outputs": [],
   "source": [
    "cursor.execute(\"select * from Assignment_table\") # is used to execute the sql commands"
   ]
  },
  {
   "cell_type": "markdown",
   "id": "ef4efad3",
   "metadata": {},
   "source": [
    "Q7. Give the order of execution of SQL clauses in an SQL query."
   ]
  },
  {
   "cell_type": "markdown",
   "id": "9955b9e9",
   "metadata": {},
   "source": [
    "1. FROM/JOIN: The FROM and/or JOIN clauses are executed first to determine the data of interest.\n",
    "\n",
    "2. WHERE: The WHERE clause is executed to filter out records that do not meet the constraints.\n",
    "\n",
    "3. GROUP BY: The GROUP BY clause is executed to group the data based on the values in one or more columns.\n",
    "\n",
    "4. HAVING: The HAVING clause is executed to remove the created grouped records that don’t meet the constraints.\n",
    "\n",
    "5. SELECT: The SELECT clause is executed to derive all desired columns and expressions.\n",
    "\n",
    "6. ORDER BY: The ORDER BY clause is executed to sort the derived values in ascending or descending order.\n",
    "\n",
    "7. LIMIT/OFFSET: Finally, the LIMIT and/or OFFSET clauses are executed to keep or skip a specified number of rows."
   ]
  },
  {
   "cell_type": "code",
   "execution_count": null,
   "id": "548777af",
   "metadata": {},
   "outputs": [],
   "source": []
  }
 ],
 "metadata": {
  "kernelspec": {
   "display_name": "Python 3 (ipykernel)",
   "language": "python",
   "name": "python3"
  },
  "language_info": {
   "codemirror_mode": {
    "name": "ipython",
    "version": 3
   },
   "file_extension": ".py",
   "mimetype": "text/x-python",
   "name": "python",
   "nbconvert_exporter": "python",
   "pygments_lexer": "ipython3",
   "version": "3.10.9"
  }
 },
 "nbformat": 4,
 "nbformat_minor": 5
}
