{
 "cells": [
  {
   "cell_type": "markdown",
   "id": "863dd73c",
   "metadata": {},
   "source": [
    "Q1. What is multithreading in python? why is it used? Name the module used to handle threads in python"
   ]
  },
  {
   "cell_type": "markdown",
   "id": "4e176e8b",
   "metadata": {},
   "source": [
    "Multithreading is used to run the same code or function manytimes in the same core so that you can use the resources effectively. \n",
    "threading is the module used to create and run threads\n",
    "\n",
    "Multithreading in Python refers to the ability of a program to concurrently execute multiple threads of execution within a single process. A thread is a sequence of instructions that can be scheduled and executed independently, allowing for concurrent execution of tasks. Multithreading enables a program to perform multiple operations concurrently, thus enhancing performance and responsiveness."
   ]
  },
  {
   "cell_type": "markdown",
   "id": "4bb0b13b",
   "metadata": {},
   "source": [
    "Q2.Why threading module used? write the use of the following functions\n",
    "( activeCount\n",
    " currentThread\n",
    " enumerate)"
   ]
  },
  {
   "cell_type": "markdown",
   "id": "a779996e",
   "metadata": {},
   "source": [
    "Threading module is used to creates threads so that multiple threads can be created for execution within a single process"
   ]
  },
  {
   "cell_type": "code",
   "execution_count": 21,
   "id": "73067fa6",
   "metadata": {},
   "outputs": [],
   "source": [
    "import threading\n",
    "import time"
   ]
  },
  {
   "cell_type": "code",
   "execution_count": 6,
   "id": "475d1082",
   "metadata": {},
   "outputs": [],
   "source": [
    "thread = [threading.Thread(target= lambda x:x,args= (i,)) for i in range(5)]"
   ]
  },
  {
   "cell_type": "code",
   "execution_count": 9,
   "id": "ae3372b0",
   "metadata": {},
   "outputs": [
    {
     "name": "stderr",
     "output_type": "stream",
     "text": [
      "C:\\Users\\rajmr\\AppData\\Local\\Temp\\ipykernel_15300\\2205834880.py:1: DeprecationWarning: activeCount() is deprecated, use active_count() instead\n",
      "  threading.activeCount()\n"
     ]
    },
    {
     "data": {
      "text/plain": [
       "6"
      ]
     },
     "execution_count": 9,
     "metadata": {},
     "output_type": "execute_result"
    }
   ],
   "source": [
    "threading.activeCount()"
   ]
  },
  {
   "cell_type": "markdown",
   "id": "e23540e4",
   "metadata": {},
   "source": [
    "activeCount() is used to determine the number of active threads currently running in the program."
   ]
  },
  {
   "cell_type": "markdown",
   "id": "84edd0ab",
   "metadata": {},
   "source": [
    "currentThread() is a method provided by the threading module in Python. It returns the currently executing thread object."
   ]
  },
  {
   "cell_type": "code",
   "execution_count": 10,
   "id": "bf5cc538",
   "metadata": {},
   "outputs": [
    {
     "name": "stderr",
     "output_type": "stream",
     "text": [
      "C:\\Users\\rajmr\\AppData\\Local\\Temp\\ipykernel_15300\\1511990422.py:1: DeprecationWarning: currentThread() is deprecated, use current_thread() instead\n",
      "  threading.currentThread()\n"
     ]
    },
    {
     "data": {
      "text/plain": [
       "<_MainThread(MainThread, started 16192)>"
      ]
     },
     "execution_count": 10,
     "metadata": {},
     "output_type": "execute_result"
    }
   ],
   "source": [
    "threading.currentThread()"
   ]
  },
  {
   "cell_type": "code",
   "execution_count": 11,
   "id": "74011c0d",
   "metadata": {},
   "outputs": [
    {
     "data": {
      "text/plain": [
       "[<_MainThread(MainThread, started 16192)>,\n",
       " <Thread(IOPub, started daemon 27768)>,\n",
       " <Heartbeat(Heartbeat, started daemon 16520)>,\n",
       " <ControlThread(Control, started daemon 1436)>,\n",
       " <HistorySavingThread(IPythonHistorySavingThread, started 29056)>,\n",
       " <ParentPollerWindows(Thread-4, started daemon 29528)>]"
      ]
     },
     "execution_count": 11,
     "metadata": {},
     "output_type": "execute_result"
    }
   ],
   "source": [
    "threading.enumerate()"
   ]
  },
  {
   "cell_type": "markdown",
   "id": "2c0a18ac",
   "metadata": {},
   "source": [
    "In multithreading, the enumerate() function can be used to iterate over a collection of threads and retrieve information about each thread. The enumerate() function can be applied to the list of thread objects to obtain the index and corresponding thread object."
   ]
  },
  {
   "cell_type": "code",
   "execution_count": 16,
   "id": "329d49fc",
   "metadata": {},
   "outputs": [
    {
     "name": "stdout",
     "output_type": "stream",
     "text": [
      "thread no : 0 and thread is : <_MainThread(MainThread, started 16192)>\n",
      "thread no : 1 and thread is : <Thread(IOPub, started daemon 27768)>\n",
      "thread no : 2 and thread is : <Heartbeat(Heartbeat, started daemon 16520)>\n",
      "thread no : 3 and thread is : <ControlThread(Control, started daemon 1436)>\n",
      "thread no : 4 and thread is : <HistorySavingThread(IPythonHistorySavingThread, started 29056)>\n",
      "thread no : 5 and thread is : <ParentPollerWindows(Thread-4, started daemon 29528)>\n"
     ]
    }
   ],
   "source": [
    "for index, thread in enumerate(threading.enumerate()):\n",
    "    print (f\"thread no : {index} and thread is : {thread}\")"
   ]
  },
  {
   "cell_type": "code",
   "execution_count": null,
   "id": "bf630fb6",
   "metadata": {},
   "outputs": [],
   "source": [
    "Q3. Explain the following functions\n",
    "( run\n",
    " start\n",
    " join\n",
    "' isAlive)"
   ]
  },
  {
   "cell_type": "markdown",
   "id": "6423fa0d",
   "metadata": {},
   "source": [
    "run():In the threading module in Python, the run() method is used to define the behavior of a thread. It is a method that you can override in a custom thread class or provide as the target function when creating a thread using the Thread class."
   ]
  },
  {
   "cell_type": "markdown",
   "id": "7f4616cc",
   "metadata": {},
   "source": [
    "start() : This is used to start the tread"
   ]
  },
  {
   "cell_type": "markdown",
   "id": "d34cec79",
   "metadata": {},
   "source": [
    "join(): method is used to wait for a thread to complete its execution. It allows the main thread to wait until a specific thread has finished before continuing with the rest of the program"
   ]
  },
  {
   "cell_type": "code",
   "execution_count": 94,
   "id": "deb1e8ab",
   "metadata": {},
   "outputs": [],
   "source": [
    "def myfunc():\n",
    "    print(\"thread started\")\n",
    "    for i in range(0,5):\n",
    "        print(i)\n",
    "        print(threading.currentThread())\n",
    "        print(\"Active count of thread is : \",threading.activeCount())\n",
    "        time.sleep(2)\n",
    "    print(\"thread ended\")\n"
   ]
  },
  {
   "cell_type": "code",
   "execution_count": 95,
   "id": "468e9361",
   "metadata": {},
   "outputs": [],
   "source": [
    "thread = [threading.Thread(target=myfunc) for i in range(5)]"
   ]
  },
  {
   "cell_type": "code",
   "execution_count": 96,
   "id": "778b5031",
   "metadata": {},
   "outputs": [
    {
     "name": "stdout",
     "output_type": "stream",
     "text": [
      "thread started\n",
      "0\n",
      "<Thread(Thread-59 (myfunc), started 25880)>\n",
      "Active count of thread is :  8\n",
      "thread started\n",
      "0\n",
      "<Thread(Thread-60 (myfunc), started 19552)>\n",
      "Active count of thread is :  8\n",
      "thread started\n",
      "0\n",
      "<Thread(Thread-61 (myfunc), started 26392)>\n",
      "Active count of thread is :  9\n",
      "thread started\n",
      "0\n",
      "<Thread(Thread-62 (myfunc), started 29844)>\n",
      "Active count of thread is :  10\n",
      "thread started\n",
      "0\n",
      "<Thread(Thread-63 (myfunc), started 26656)>\n",
      "Active count of thread is :  11\n",
      "is my tread alive: True\n",
      "is my tread alive: True\n",
      "is my tread alive: True\n",
      "is my tread alive: True\n",
      "is my tread alive: True\n"
     ]
    },
    {
     "name": "stderr",
     "output_type": "stream",
     "text": [
      "C:\\Users\\rajmr\\AppData\\Local\\Temp\\ipykernel_15300\\1923194912.py:5: DeprecationWarning: currentThread() is deprecated, use current_thread() instead\n",
      "  print(threading.currentThread())\n",
      "C:\\Users\\rajmr\\AppData\\Local\\Temp\\ipykernel_15300\\1923194912.py:6: DeprecationWarning: activeCount() is deprecated, use active_count() instead\n",
      "  print(\"Active count of thread is : \",threading.activeCount())\n"
     ]
    },
    {
     "name": "stdout",
     "output_type": "stream",
     "text": [
      "1\n",
      "<Thread(Thread-59 (myfunc), started 25880)>\n",
      "Active count of thread is :  11\n",
      "1\n",
      "<Thread(Thread-63 (myfunc), started 26656)>\n",
      "Active count of thread is :  11\n",
      "1\n",
      "<Thread(Thread-62 (myfunc), started 29844)>\n",
      "Active count of thread is :  11\n",
      "1\n",
      "<Thread(Thread-61 (myfunc), started 26392)>\n",
      "Active count of thread is :  11\n",
      "1\n",
      "<Thread(Thread-60 (myfunc), started 19552)>\n",
      "Active count of thread is :  11\n",
      "2\n",
      "<Thread(Thread-59 (myfunc), started 25880)>\n",
      "Active count of thread is :  11\n",
      "2\n",
      "<Thread(Thread-61 (myfunc), started 26392)>\n",
      "Active count of thread is :  11\n",
      "2\n",
      "<Thread(Thread-60 (myfunc), started 19552)>\n",
      "Active count of thread is :  11\n",
      "2\n",
      "<Thread(Thread-62 (myfunc), started 29844)>\n",
      "Active count of thread is :  11\n",
      "2\n",
      "<Thread(Thread-63 (myfunc), started 26656)>\n",
      "Active count of thread is :  11\n",
      "3\n",
      "<Thread(Thread-59 (myfunc), started 25880)>\n",
      "Active count of thread is :  11\n",
      "3\n",
      "<Thread(Thread-63 (myfunc), started 26656)>\n",
      "Active count of thread is :  11\n",
      "3\n",
      "<Thread(Thread-62 (myfunc), started 29844)>\n",
      "Active count of thread is :  11\n",
      "3\n",
      "<Thread(Thread-60 (myfunc), started 19552)>\n",
      "Active count of thread is :  11\n",
      "3\n",
      "<Thread(Thread-61 (myfunc), started 26392)>\n",
      "Active count of thread is :  11\n",
      "4\n",
      "<Thread(Thread-59 (myfunc), started 25880)>\n",
      "Active count of thread is :  11\n",
      "4\n",
      "<Thread(Thread-60 (myfunc), started 19552)>\n",
      "Active count of thread is :  11\n",
      "4\n",
      "<Thread(Thread-61 (myfunc), started 26392)>\n",
      "Active count of thread is :  11\n",
      "4\n",
      "<Thread(Thread-62 (myfunc), started 29844)>\n",
      "Active count of thread is :  11\n",
      "4\n",
      "<Thread(Thread-63 (myfunc), started 26656)>\n",
      "Active count of thread is :  11\n",
      "thread ended\n",
      "thread ended\n",
      "thread ended\n",
      "thread ended\n",
      "thread ended\n",
      "All threads are completed and then this is printed\n"
     ]
    }
   ],
   "source": [
    "[t.start() for t in thread]\n",
    "[print(\"is my tread alive:\",t.is_alive()) for t in thread]\n",
    "[t.join() for t in thread]\n",
    "print(\"All threads are completed and then this is printed\")"
   ]
  },
  {
   "cell_type": "markdown",
   "id": "6ec2abb8",
   "metadata": {},
   "source": [
    "isAlive(): The is_alive() method returns a Boolean value indicating the status of the thread. It returns True if the thread is still running or alive, and False if the thread has completed its execution or has not yet started."
   ]
  },
  {
   "cell_type": "code",
   "execution_count": 43,
   "id": "77869753",
   "metadata": {},
   "outputs": [
    {
     "name": "stdout",
     "output_type": "stream",
     "text": [
      "Thread started.\n",
      "Thread is alive: True\n",
      "Thread finished.\n",
      "Thread is alive: False\n"
     ]
    }
   ],
   "source": [
    "def my_function():\n",
    "    print(\"Thread started.\")\n",
    "    time.sleep(2)\n",
    "    print(\"Thread finished.\")\n",
    "\n",
    "# Create a thread\n",
    "my_thread = threading.Thread(target=my_function)\n",
    "\n",
    "# Start the thread\n",
    "my_thread.start()\n",
    "\n",
    "# Check if the thread is alive\n",
    "print(\"Thread is alive:\", my_thread.is_alive())\n",
    "\n",
    "# Wait for the thread to complete\n",
    "my_thread.join()\n",
    "\n",
    "# Check if the thread is alive again\n",
    "print(\"Thread is alive:\", my_thread.is_alive())"
   ]
  },
  {
   "cell_type": "code",
   "execution_count": 55,
   "id": "33599eea",
   "metadata": {},
   "outputs": [
    {
     "name": "stdout",
     "output_type": "stream",
     "text": [
      "is my tread alive: False\n",
      "is my tread alive: False\n",
      "is my tread alive: False\n",
      "is my tread alive: False\n",
      "is my tread alive: False\n"
     ]
    },
    {
     "data": {
      "text/plain": [
       "[None, None, None, None, None]"
      ]
     },
     "execution_count": 55,
     "metadata": {},
     "output_type": "execute_result"
    }
   ],
   "source": [
    "[print(\"is my tread alive:\",t.is_alive()) for t in thread]"
   ]
  },
  {
   "cell_type": "markdown",
   "id": "e37ffc31",
   "metadata": {},
   "source": [
    "Q4. Write a python program to create two threads. Thread one must print the list of squares and thread\n",
    "two must print the list of cubes"
   ]
  },
  {
   "cell_type": "code",
   "execution_count": 83,
   "id": "61127054",
   "metadata": {},
   "outputs": [],
   "source": [
    "def sq_func(list_num):\n",
    "    sq = list(map(lambda x : print(f\"the square is {x} is {x**2}\"),list_num))\n",
    "    return sq"
   ]
  },
  {
   "cell_type": "code",
   "execution_count": 84,
   "id": "e9b0fe29",
   "metadata": {},
   "outputs": [],
   "source": [
    "def cube_func(list_num):\n",
    "    cube = list(map(lambda x : print(f\"the cube is {x} is {x**3}\"),list_num))\n",
    "    return cube"
   ]
  },
  {
   "cell_type": "code",
   "execution_count": 85,
   "id": "606fd8e4",
   "metadata": {},
   "outputs": [],
   "source": [
    "t1 = threading.Thread(target=sq_func,args=([[11,22,33]]))"
   ]
  },
  {
   "cell_type": "code",
   "execution_count": 86,
   "id": "025fd25b",
   "metadata": {},
   "outputs": [],
   "source": [
    "t2 = threading.Thread(target=cube_func,args=([[11,22,33]]))"
   ]
  },
  {
   "cell_type": "code",
   "execution_count": 87,
   "id": "12fe5232",
   "metadata": {},
   "outputs": [
    {
     "data": {
      "text/plain": [
       "<Thread(Thread-57 (sq_func), initial)>"
      ]
     },
     "execution_count": 87,
     "metadata": {},
     "output_type": "execute_result"
    }
   ],
   "source": [
    "t1"
   ]
  },
  {
   "cell_type": "code",
   "execution_count": 88,
   "id": "74aca8b4",
   "metadata": {},
   "outputs": [
    {
     "data": {
      "text/plain": [
       "<Thread(Thread-58 (cube_func), initial)>"
      ]
     },
     "execution_count": 88,
     "metadata": {},
     "output_type": "execute_result"
    }
   ],
   "source": [
    "t2"
   ]
  },
  {
   "cell_type": "code",
   "execution_count": 89,
   "id": "4abdfcf5",
   "metadata": {},
   "outputs": [
    {
     "name": "stdout",
     "output_type": "stream",
     "text": [
      "the square is 11 is 121\n",
      "the square is 22 is 484\n",
      "the square is 33 is 1089\n"
     ]
    }
   ],
   "source": [
    "t1.start()"
   ]
  },
  {
   "cell_type": "code",
   "execution_count": 90,
   "id": "5751922e",
   "metadata": {},
   "outputs": [
    {
     "name": "stdout",
     "output_type": "stream",
     "text": [
      "the cube is 11 is 1331\n",
      "the cube is 22 is 10648\n",
      "the cube is 33 is 35937\n"
     ]
    }
   ],
   "source": [
    "t2.start()"
   ]
  },
  {
   "cell_type": "markdown",
   "id": "87ea4d6e",
   "metadata": {},
   "source": [
    "Q5. State advantages and disadvantages of multithreading"
   ]
  },
  {
   "cell_type": "markdown",
   "id": "1c10ba30",
   "metadata": {},
   "source": [
    "Advantages of Multithreading: Improved Rsponsiveness, Enhanced Performance, Efficient Resource, Simplified Programming\n",
    "Disadvantages of Multithreading: Complexity, Increased Memory Usage, Debugging and Troubleshooting"
   ]
  },
  {
   "cell_type": "markdown",
   "id": "3d518a09",
   "metadata": {},
   "source": [
    "Q6. Explain deadlocks and race conditions."
   ]
  },
  {
   "cell_type": "markdown",
   "id": "525a8220",
   "metadata": {},
   "source": [
    "Deadlock: Deadlock refers to a situation where two or more threads are blocked forever, waiting for each other to release resources that they hold.\n",
    "\n",
    "Race Condition: A race condition occurs when multiple threads access and manipulate shared data concurrently, resulting in an unexpected and inconsistent state. It arises due to the non-deterministic interleaving of thread execution. Race conditions can lead to unpredictable and erroneous results in the program. For example, if multiple threads attempt to modify a shared variable simultaneously without proper synchronization, the final value of the variable can be incorrect"
   ]
  },
  {
   "cell_type": "markdown",
   "id": "37703773",
   "metadata": {},
   "source": [
    "Both deadlocks and race conditions are common challenges in concurrent programming, and careful design and synchronization techniques are required to prevent or resolve them effectively."
   ]
  },
  {
   "cell_type": "code",
   "execution_count": null,
   "id": "5c904467",
   "metadata": {},
   "outputs": [],
   "source": []
  }
 ],
 "metadata": {
  "kernelspec": {
   "display_name": "Python 3 (ipykernel)",
   "language": "python",
   "name": "python3"
  },
  "language_info": {
   "codemirror_mode": {
    "name": "ipython",
    "version": 3
   },
   "file_extension": ".py",
   "mimetype": "text/x-python",
   "name": "python",
   "nbconvert_exporter": "python",
   "pygments_lexer": "ipython3",
   "version": "3.10.9"
  }
 },
 "nbformat": 4,
 "nbformat_minor": 5
}
