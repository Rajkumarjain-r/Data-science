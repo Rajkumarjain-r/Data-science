{
 "cells": [
  {
   "cell_type": "markdown",
   "id": "ac8cc0b4",
   "metadata": {},
   "source": [
    "Q1: What is the difference between a t-test and a z-test? Provide an example scenario where you would\n",
    "use each type of test.\n",
    "\n",
    "z-test when you have a large sample size and know the population standard deviation, and use a t-test when you have a small sample size or don't know the population standard deviation. \n",
    "\n",
    "for Z test - it is used when the sample size > and population standard deviation is unknown. It is based on the standard normal distribution (z-distribution), where the critical values are determined from the standard normal table.\n",
    "\n",
    "for T test - it is used when sample size is > 30 and population statndaard deviation is known. It is based on the t-distribution, which has fatter tails compared to the standard normal distribution, and the critical values are determined from the t-distribution table.The formula for the t-test statistic depends on whether you are conducting a one-sample t-test, paired t-test, or independent samples t-test. In general, it involves the sample mean, sample standard deviation (s), population mean (μ), and sample size (n).\n"
   ]
  },
  {
   "cell_type": "markdown",
   "id": "bbd52c82",
   "metadata": {},
   "source": [
    "Q2: Differentiate between one-tailed and two-tailed tests.\n",
    "\n",
    "One-Tailed Test:\n",
    "In a one-tailed test (also known as a directional test), the alternative hypothesis specifies the direction of the effect or difference being tested.\n",
    "It is used when there is a specific expectation about the relationship between variables, and you are interested in determining if the effect is either positive or negative, but not both.\n",
    "The critical region for the test is located entirely in one tail of the sampling distribution (either the right tail or the left tail), depending on the direction specified in the alternative hypothesis.\n",
    "The null hypothesis (H0) assumes no effect or difference, while the alternative hypothesis (Ha) states the expected direction of the effect.\n",
    "The decision to reject or fail to reject the null hypothesis depends on whether the observed test statistic falls into the critical region in the specified tail.\n",
    "Example:\n",
    "H0: μ = 50 (Population mean is 50)\n",
    "Ha: μ > 50 (Population mean is greater than 50)\n",
    "\n",
    "Two-Tailed Test:\n",
    "In a two-tailed test (also known as a non-directional test), the alternative hypothesis does not specify the direction of the effect or difference; it only states that there is a significant difference.\n",
    "It is used when there is no specific expectation about the relationship between variables, and you are interested in determining if there is any difference, whether positive or negative.\n",
    "The critical region for the test is split between the two tails of the sampling distribution, and it allows you to detect differences in both directions.\n",
    "The null hypothesis (H0) assumes no effect or difference, while the alternative hypothesis (Ha) states that there is a significant effect or difference, without specifying the direction.\n",
    "The decision to reject or fail to reject the null hypothesis depends on whether the observed test statistic falls into either of the two critical regions.\n",
    "Example:\n",
    "H0: μ = 50 (Population mean is 50)\n",
    "Ha: μ ≠ 50 (Population mean is not equal to 50)\n",
    "\n",
    "In summary, one-tailed tests are used when you have a specific directional hypothesis, while two-tailed tests are used when you are interested in detecting any significant difference, regardless of direction. The choice between the two types of tests depends on the research question and the nature of the hypothesis being tested."
   ]
  },
  {
   "cell_type": "markdown",
   "id": "0153d640",
   "metadata": {},
   "source": [
    "Q3: Explain the concept of Type 1 and Type 2 errors in hypothesis testing. Provide an example scenario for\n",
    "each type of error.\n",
    "\n",
    "type1 error:we reject the null hypothesis when in reality its true\n",
    "type2 error: we accept the null hypothesis when in reality its false\n",
    "    \n",
    "Type 1 Error (False Positive):\n",
    "A Type 1 error occurs when the null hypothesis (H0) is true, but we reject it in favor of the alternative hypothesis (Ha).\n",
    "In other words, we mistakenly conclude that there is a significant effect or difference when, in reality, there is none.\n",
    "The probability of committing a Type 1 error is denoted by the symbol α (alpha) and is also known as the level of significance. It represents the probability of rejecting H0 when it is true.\n",
    "Reducing the probability of Type 1 error typically involves choosing a lower significance level, but this may increase the probability of Type 2 error.\n",
    "Example Scenario (Type 1 Error):\n",
    "Suppose a pharmaceutical company is testing a new drug to reduce blood pressure. The null hypothesis (H0) states that the drug has no effect on blood pressure. The alternative hypothesis (Ha) states that the drug reduces blood pressure significantly. During the study, the drug is administered to a group of patients, and based on the data, the researchers reject the null hypothesis and conclude that the drug is effective in reducing blood pressure. However, in reality, the drug has no effect on blood pressure, and this conclusion is a Type 1 error.\n",
    "\n",
    "Type 2 Error (False Negative):\n",
    "A Type 2 error occurs when the null hypothesis (H0) is false, but we fail to reject it and accept the null hypothesis when we should have rejected it in favor of the alternative hypothesis (Ha).\n",
    "In other words, we fail to detect a significant effect or difference that actually exists in the population.\n",
    "The probability of committing a Type 2 error is denoted by the symbol β (beta) and is dependent on the power of the statistical test. Power (1-β) represents the probability of correctly rejecting H0 when it is false.\n",
    "Reducing the probability of Type 2 error typically involves increasing the sample size or choosing a more powerful statistical test, but this may decrease the probability of Type 1 error.\n",
    "Example Scenario (Type 2 Error):\n",
    "Continuing with the previous drug example, suppose the new drug does indeed reduce blood pressure significantly in the population. However, due to a small sample size or other limitations in the study, the researchers fail to detect this significant effect in their analysis. As a result, they fail to reject the null hypothesis and conclude that the drug has no effect on blood pressure, which is a Type 2 error.\n",
    "\n",
    "In hypothesis testing, there is always a trade-off between Type 1 and Type 2 errors. Adjusting the significance level (α) or the sample size can impact the likelihood of one type of error at the expense of the other. Researchers must carefully consider the consequences of each type of error and select appropriate levels for their specific research objectives."
   ]
  },
  {
   "cell_type": "markdown",
   "id": "d838e411",
   "metadata": {},
   "source": [
    "Q4:  Explain Bayes's theorem with an example\n",
    "Its an approach to data analysis and parameter estimation.\n",
    "\n",
    "p(b/a is true) = p(a/b is true)*p(a) / p(b)\n",
    "\n",
    "Example: Breast Cancer Diagnosis\n",
    "\n",
    "Suppose a certain type of breast cancer affects 1% of women over the age of 40. A mammogram is used to detect breast cancer, but it is not perfect. The mammogram has the following probabilities:\n",
    "\n",
    "If a woman has breast cancer (event A), the mammogram correctly detects it (true positive) with a probability of 90% (P(B|A) = 0.90).\n",
    "If a woman does not have breast cancer (event ¬A), the mammogram incorrectly indicates a positive result (false positive) with a probability of 7% (P(B|¬A) = 0.07).\n",
    "Now, let's say we want to calculate the probability that a woman has breast cancer (event A) given that she had a positive mammogram result (event B).\n",
    "\n",
    "Calculate the prior probability of having breast cancer (P(A)):\n",
    "P(A) = 0.01 (1% of women over 40 have breast cancer).\n",
    "\n",
    "Calculate the prior probability of not having breast cancer (P(¬A)):\n",
    "P(¬A) = 1 - P(A) = 1 - 0.01 = 0.99.\n",
    "\n",
    "Calculate the marginal probability of a positive mammogram result (P(B)):\n",
    "P(B) = [P(B|A) * P(A)] + [P(B|¬A) * P(¬A)]\n",
    "P(B) = (0.90 * 0.01) + (0.07 * 0.99) = 0.009 + 0.0693 = 0.0783.\n",
    "\n",
    "Calculate the posterior probability of having breast cancer given a positive mammogram (P(A|B)):\n",
    "P(A|B) = (P(B|A) * P(A)) / P(B)\n",
    "P(A|B) = (0.90 * 0.01) / 0.0783 ≈ 0.115.\n",
    "    "
   ]
  },
  {
   "cell_type": "markdown",
   "id": "58e40099",
   "metadata": {},
   "source": [
    "Q5: What is a confidence interval? How to calculate the confidence interval, explain with an example.\n",
    "    \n",
    "A confidence interval (CI) is a statistical range that provides an estimate of the unknown population parameter with a certain level of confidence. It quantifies the uncertainty in the estimate and helps researchers and decision-makers to understand the range within which the true population parameter is likely to lie\n",
    "\n",
    "confidence interval  = point estimate + or - margin of error\n",
    "\n",
    "Suppose we want to estimate the average weight of apples in a large orchard. We collect a random sample of 50 apples and weigh them, obtaining a sample mean weight of 150 grams and a sample standard deviation of 10 grams.\n",
    "\n",
    "Select the Confidence Level: Let's choose a 95% confidence level.\n",
    "\n",
    "Collect the Sample Data: We have a sample of 50 apples with their corresponding weights.\n",
    "\n",
    "Calculate the Sample Statistic: The sample mean (X̄) = 150 grams, and the sample standard deviation (s) = 10 grams.\n",
    "\n",
    "Determine the Critical Value: Since our sample size is relatively small (n < 30), we use the t-distribution and degrees of freedom (df = n - 1 = 49). From the t-table or using software, the critical value for a 95% confidence level with 49 degrees of freedom is approximately 2.009.\n",
    "\n",
    "Calculate the Margin of Error: The margin of error (MOE) = Critical value * Standard error of the sample mean.\n",
    "\n",
    "MOE = 2.009 * (10 / √50) ≈ 2.841 grams.\n",
    "\n",
    "Calculate the Confidence Interval: The confidence interval is calculated by adding and subtracting the margin of error from the sample mean.\n",
    "\n",
    "Lower bound = X̄ - MOE = 150 - 2.841 ≈ 147.159 grams.\n",
    "Upper bound = X̄ + MOE = 150 + 2.841 ≈ 152.841 grams.\n",
    "\n",
    "The 95% confidence interval for the average weight of apples in the orchard is approximately 147.159 grams to 152.841 grams. This means that we are 95% confident that the true population mean weight of apples lies within this interval.\n",
    "\n",
    "\n"
   ]
  },
  {
   "cell_type": "markdown",
   "id": "ef0f8857",
   "metadata": {},
   "source": [
    "Q6. Use Bayes' Theorem to calculate the probability of an event occurring given prior knowledge of the\n",
    "event's probability and new evidence. Provide a sample problem and solution.\n",
    "\n",
    " Bayes's Theorem to calculate the probability of an event occurring given prior knowledge of the event's probability and new evidence.\n",
    "\n",
    "Sample Problem:\n",
    "\n",
    "Suppose we have a box containing three different colored balls: 4 red balls, 3 green balls, and 5 blue balls. We want to calculate the probability of drawing a red ball from the box, given that the previous two draws were green balls.\n",
    "\n",
    "Prior Probabilities:\n",
    "\n",
    "P(Red) = Probability of drawing a red ball = 4/12 = 1/3 (since there are 4 red balls out of 12 total balls).\n",
    "New Evidence:\n",
    "\n",
    "We have drawn two green balls from the box.\n",
    "Now, we want to calculate the probability of drawing a red ball (P(Red|Green, Green)) after the two green ball draws.\n",
    "\n",
    "Solution:\n",
    "\n",
    "Calculate the probability of drawing two green balls in succession (P(Green, Green)):\n",
    "P(Green, Green) = (3/12) * (2/11) = 6/132 ≈ 0.0455.\n",
    "\n",
    "Calculate the probability of drawing a red ball after two green ball draws using Bayes's Theorem:\n",
    "\n",
    "P(Red|Green, Green) = [P(Green, Green|Red) * P(Red)] / P(Green, Green)\n",
    "\n",
    "P(Green, Green|Red) = Probability of drawing two green balls given we already drew a red ball.\n",
    "Since drawing one red ball reduces the total number of balls to 11 (one red ball removed), the probability of drawing two green balls given we already drew a red ball is (3/11) * (2/10) = 6/110 ≈ 0.0545.\n",
    "\n",
    "P(Red|Green, Green) = [(6/110) * (1/3)] / (6/132)\n",
    "P(Red|Green, Green) = 0.0182 / 0.0455\n",
    "P(Red|Green, Green) ≈ 0.4.\n",
    "\n",
    "So, the probability of drawing a red ball from the box, given that we have already drawn two green balls, is approximately 0.4 or 40%. This calculation shows how new evidence (drawing two green balls) can update our prior probability (drawing a red ball) using Bayes's Theorem. The new evidence increases the probability of drawing a red ball from the box compared to the initial probability, as we know there are fewer green balls left in the box after two draws."
   ]
  },
  {
   "cell_type": "markdown",
   "id": "b60a29ce",
   "metadata": {},
   "source": [
    "Q7. Calculate the 95% confidence interval for a sample of data with a mean of 50 and a standard deviation\n",
    "of 5. Interpret the results.\n",
    "\n",
    "Confidence Interval = X̄ ± (Z * (s / √n))\n",
    "\n",
    "Where:\n",
    "\n",
    "X̄ is the sample mean (given as 50 in the problem).\n",
    "s is the sample standard deviation (given as 5 in the problem).\n",
    "Z is the critical value corresponding to the desired confidence level (for a 95% confidence level, Z ≈ 1.96).\n",
    "n is the sample size.\n",
    "Now, let's calculate the confidence interval:\n",
    "\n",
    "Confidence Level: 95% (Z ≈ 1.96)\n",
    "\n",
    "Sample Mean (X̄): 50\n",
    "\n",
    "Sample Standard Deviation (s): 5\n",
    "\n",
    "Sample Size (n): Let's assume the sample size is 100 for this example. ist assume as its not givne in question\n",
    "\n",
    "Confidence Interval = 50 ± (1.96 * (5 / √100))\n",
    "Confidence Interval = 50 ± (1.96 * 0.5)\n",
    "Confidence Interval ≈ 50 ± 0.98\n",
    "\n",
    "The 95% confidence interval for the sample mean is approximately 49.02 to 50.98.\n",
    "\n",
    "Interpretation:\n",
    "The 95% confidence interval means that we are 95% confident that the true population mean lies within this interval. In other words, if we were to take multiple random samples from the population and calculate the confidence interval for each sample, approximately 95% of those intervals would contain the true population mean.\n",
    "\n",
    "In this specific case, the confidence interval (49.02 to 50.98) suggests that we are 95% confident that the true population mean of the data is between 49.02 and 50.98. The wider the confidence interval, the more uncertainty there is in our estimate, and the narrower the interval, the more precise our estimate becomes."
   ]
  },
  {
   "cell_type": "markdown",
   "id": "b5f62e00",
   "metadata": {},
   "source": [
    "Q8. What is the margin of error in a confidence interval? How does sample size affect the margin of error?\n",
    "Provide an example of a scenario where a larger sample size would result in a smaller margin of error.\n",
    "\n",
    "Margin of error is zscore*sigma/squre root of sample size in case of Z test\n",
    "\n",
    "for a large sample size the MOE will be less and for small sample size margin of error will be more\n",
    "\n",
    "Assuming a 95% confidence level, we can use the formula for the margin of error and calculate it for both surveys:\n",
    "\n",
    "if sample is 200 the MOE is 0.0089\n",
    "\n",
    "if sample is 1000 the MOE is 0.0063 \n",
    "\n",
    "as sample size increses the MOE decreses\n"
   ]
  },
  {
   "cell_type": "code",
   "execution_count": null,
   "id": "7c69ae58",
   "metadata": {},
   "outputs": [],
   "source": [
    "Q9. Calculate the z-score for a data point with a value of 75, a population mean of 70, and a population\n",
    "standard deviation of 5. Interpret the results.\n",
    "\n"
   ]
  },
  {
   "cell_type": "code",
   "execution_count": 2,
   "id": "2a403a78",
   "metadata": {},
   "outputs": [
    {
     "data": {
      "text/plain": [
       "1.0"
      ]
     },
     "execution_count": 2,
     "metadata": {},
     "output_type": "execute_result"
    }
   ],
   "source": [
    "z_score = (75-70)/5\n",
    "z_score"
   ]
  },
  {
   "cell_type": "code",
   "execution_count": null,
   "id": "21c0dd98",
   "metadata": {},
   "outputs": [],
   "source": [
    "This means that the data point with a value of 75 is one standard deviation above the population mean of 70."
   ]
  },
  {
   "cell_type": "markdown",
   "id": "37d93dc1",
   "metadata": {},
   "source": [
    "Q10. In a study of the effectiveness of a new weight loss drug, a sample of 50 participants lost an average\n",
    "of 6 pounds with a standard deviation of 2.5 pounds. Conduct a hypothesis test to determine if the drug is\n",
    "significantly effective at a 95% confidence level using a t-test.\n",
    "\n",
    "Ho is the drug is not effectivw\n",
    "H1 is the drung is effective\n"
   ]
  },
  {
   "cell_type": "code",
   "execution_count": null,
   "id": "335fdbbf",
   "metadata": {},
   "outputs": [],
   "source": [
    "n = 50\n",
    "mean = 6\n",
    "sd = 2.5\n",
    "alpha = .05"
   ]
  },
  {
   "cell_type": "code",
   "execution_count": 4,
   "id": "1daca95e",
   "metadata": {},
   "outputs": [],
   "source": [
    "population_sd = 0"
   ]
  },
  {
   "cell_type": "code",
   "execution_count": 9,
   "id": "ed7d23d7",
   "metadata": {},
   "outputs": [],
   "source": [
    "tscore = (6-0)/(2.5/50**0.5)"
   ]
  },
  {
   "cell_type": "code",
   "execution_count": 10,
   "id": "ee742cd0",
   "metadata": {},
   "outputs": [
    {
     "data": {
      "text/plain": [
       "16.970562748477143"
      ]
     },
     "execution_count": 10,
     "metadata": {},
     "output_type": "execute_result"
    }
   ],
   "source": [
    "tscore"
   ]
  },
  {
   "cell_type": "markdown",
   "id": "51571d19",
   "metadata": {},
   "source": [
    "Using a t-table or statistical software, the critical t-value for a 95% confidence level with 49 degrees of freedom is approximately ±2.009."
   ]
  },
  {
   "cell_type": "code",
   "execution_count": null,
   "id": "0d62a66e",
   "metadata": {},
   "outputs": [],
   "source": [
    "so here tscore > t value that 16.97 > 2.009 so we reject the null hypotesis "
   ]
  },
  {
   "cell_type": "code",
   "execution_count": null,
   "id": "e72bc2fd",
   "metadata": {},
   "outputs": [],
   "source": [
    "conclution : the drug is effective"
   ]
  },
  {
   "cell_type": "code",
   "execution_count": null,
   "id": "940cfb3e",
   "metadata": {},
   "outputs": [],
   "source": [
    "Q11. In a survey of 500 people, 65% reported being satisfied with their current job. Calculate the 95%\n",
    "confidence interval for the true proportion of people who are satisfied with their job."
   ]
  },
  {
   "cell_type": "markdown",
   "id": "082994ae",
   "metadata": {},
   "source": [
    "The 95% confidence interval for the true proportion of people who are satisfied with their job is approximately 0.6082 to 0.6918.\n",
    "\n",
    "Interpretation:\n",
    "We are 95% confident that the true proportion of people who are satisfied with their job lies within the interval of 0.6082 to 0.6918. This means that if we were to take multiple random samples of 500 people and calculate the confidence interval for each sample, approximately 95% of those intervals would contain the true population proportion. The confidence interval gives us a range of values within which we can reasonably expect the population proportion to fall.\n"
   ]
  },
  {
   "cell_type": "code",
   "execution_count": null,
   "id": "c12f5228",
   "metadata": {},
   "outputs": [],
   "source": [
    "Q12. A researcher is testing the effectiveness of two different teaching methods on student performance.\n",
    "Sample A has a mean score of 85 with a standard deviation of 6, while sample B has a mean score of 82\n",
    "with a standard deviation of 5. Conduct a hypothesis test to determine if the two teaching methods have a\n",
    "significant difference in student performance using a t-test with a significance level of 0.01."
   ]
  },
  {
   "cell_type": "code",
   "execution_count": 11,
   "id": "251a6b41",
   "metadata": {},
   "outputs": [
    {
     "name": "stdout",
     "output_type": "stream",
     "text": [
      "Fail to reject the null hypothesis. There is no significant difference in student performance between the two teaching methods.\n"
     ]
    },
    {
     "data": {
      "text/plain": [
       "30"
      ]
     },
     "execution_count": 11,
     "metadata": {},
     "output_type": "execute_result"
    }
   ],
   "source": [
    "import numpy as np\n",
    "from scipy.stats import ttest_ind\n",
    "\n",
    "# Sample A data\n",
    "sample_A_mean = 85\n",
    "sample_A_std = 6\n",
    "sample_A_size = 30  # Please provide the actual sample size for sample A\n",
    "\n",
    "# Sample B data\n",
    "sample_B_mean = 82\n",
    "sample_B_std = 5\n",
    "sample_B_size = 30  # Please provide the actual sample size for sample B\n",
    "\n",
    "# Conduct independent samples t-test\n",
    "t_stat, p_value = ttest_ind(\n",
    "    np.random.normal(sample_A_mean, sample_A_std, sample_A_size),\n",
    "    np.random.normal(sample_B_mean, sample_B_std, sample_B_size),\n",
    "    alternative='two-sided'  # two-tailed test for significant difference\n",
    ")\n",
    "\n",
    "# Define the significance level (alpha)\n",
    "alpha = 0.01\n",
    "\n",
    "# Check if the p-value is less than the significance level to reject the null hypothesis\n",
    "if p_value < alpha:\n",
    "    print(\"Reject the null hypothesis. There is a significant difference in student performance between the two teaching methods.\")\n",
    "else:\n",
    "    print(\"Fail to reject the null hypothesis. There is no significant difference in student performance between the two teaching methods.\")\n",
    "30"
   ]
  },
  {
   "cell_type": "code",
   "execution_count": null,
   "id": "89c1e42b",
   "metadata": {},
   "outputs": [],
   "source": [
    "Q13. A population has a mean of 60 and a standard deviation of 8. A sample of 50 observations has a mean\n",
    "of 65. Calculate the 90% confidence interval for the true population mean."
   ]
  },
  {
   "cell_type": "code",
   "execution_count": 13,
   "id": "865ba714",
   "metadata": {},
   "outputs": [
    {
     "name": "stdout",
     "output_type": "stream",
     "text": [
      "90% Confidence Interval: (63.13, 66.87)\n"
     ]
    }
   ],
   "source": [
    "import numpy as np\n",
    "from scipy.stats import norm\n",
    "\n",
    "\n",
    "sample_mean = 65\n",
    "population_std = 8\n",
    "sample_size = 30\n",
    "confidence_level = 0.90\n",
    "\n",
    "# Calculate the critical value (Z) for the given confidence level\n",
    "# For a two-tailed test (as in this case), use (1 - alpha/2)\n",
    "alpha = 1 - confidence_level\n",
    "critical_value = norm.ppf(1 - alpha )\n",
    "\n",
    "# Calculate the standard error (SE)\n",
    "standard_error = population_std / np.sqrt(sample_size)\n",
    "\n",
    "# Calculate the lower and upper bounds of the confidence interval\n",
    "lower_bound = sample_mean - critical_value * standard_error\n",
    "upper_bound = sample_mean + critical_value * standard_error\n",
    "\n",
    "print(\"90% Confidence Interval: ({:.2f}, {:.2f})\".format(lower_bound, upper_bound))\n"
   ]
  },
  {
   "cell_type": "code",
   "execution_count": null,
   "id": "4f5be4ff",
   "metadata": {},
   "outputs": [],
   "source": [
    "Q14. In a study of the effects of caffeine on reaction time, a sample of 30 participants had an average\n",
    "reaction time of 0.25 seconds with a standard deviation of 0.05 seconds. Conduct a hypothesis test to\n",
    "determine if the caffeine has a significant effect on reaction time at a 90% confidence level using a t-test."
   ]
  },
  {
   "cell_type": "code",
   "execution_count": null,
   "id": "94460078",
   "metadata": {},
   "outputs": [],
   "source": [
    "Ho is caffine does not have significant effect on reaction time\n",
    "H1 is caffeine has significant effect on reaction time"
   ]
  },
  {
   "cell_type": "code",
   "execution_count": null,
   "id": "bd9ce436",
   "metadata": {},
   "outputs": [],
   "source": [
    "n = 30\n",
    "pop_mean = 0\n",
    "xbar  = 0.25\n",
    "sd = .05\n",
    "\n",
    "alpha = .10 # that 90%"
   ]
  },
  {
   "cell_type": "code",
   "execution_count": 14,
   "id": "06853156",
   "metadata": {},
   "outputs": [],
   "source": [
    "tscore = (.25-0)/(.05/30**.5)"
   ]
  },
  {
   "cell_type": "code",
   "execution_count": 15,
   "id": "16ca314b",
   "metadata": {},
   "outputs": [
    {
     "data": {
      "text/plain": [
       "27.386127875258307"
      ]
     },
     "execution_count": 15,
     "metadata": {},
     "output_type": "execute_result"
    }
   ],
   "source": [
    "tscore"
   ]
  },
  {
   "cell_type": "code",
   "execution_count": null,
   "id": "d47b05ab",
   "metadata": {},
   "outputs": [],
   "source": [
    "cv for 90% confidence interval and single tail test for degree of freedom 29 is 1.3114 "
   ]
  },
  {
   "cell_type": "code",
   "execution_count": null,
   "id": "eec52c88",
   "metadata": {},
   "outputs": [],
   "source": [
    "so tscore > cv so we reject the null hypothesis"
   ]
  },
  {
   "cell_type": "code",
   "execution_count": null,
   "id": "e68e1622",
   "metadata": {},
   "outputs": [],
   "source": [
    "conclution :  caffeine has significant effect on reaction time "
   ]
  },
  {
   "cell_type": "code",
   "execution_count": null,
   "id": "cec53e16",
   "metadata": {},
   "outputs": [],
   "source": []
  }
 ],
 "metadata": {
  "kernelspec": {
   "display_name": "Python 3 (ipykernel)",
   "language": "python",
   "name": "python3"
  },
  "language_info": {
   "codemirror_mode": {
    "name": "ipython",
    "version": 3
   },
   "file_extension": ".py",
   "mimetype": "text/x-python",
   "name": "python",
   "nbconvert_exporter": "python",
   "pygments_lexer": "ipython3",
   "version": "3.10.9"
  }
 },
 "nbformat": 4,
 "nbformat_minor": 5
}
