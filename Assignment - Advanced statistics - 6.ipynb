{
 "cells": [
  {
   "cell_type": "markdown",
   "id": "6119bb29",
   "metadata": {},
   "source": [
    "Q1. Explain the assumptions required to use ANOVA and provide examples of violations that could impact\n",
    "the validity of the results.\n",
    "\n",
    "Q2. What are the three types of ANOVA, and in what situations would each be used?\n",
    "\n",
    "Q3. What is the partitioning of variance in ANOVA, and why is it important to understand this concept?\n",
    "\n",
    "Q4. How would you calculate the total sum of squares (SST), explained sum of squares (SSE), and residual\n",
    "sum of squares (SSR) in a one-way ANOVA using Python?\n",
    "\n",
    "Q5. In a two-way ANOVA, how would you calculate the main effects and interaction effects using Python?\n",
    "\n",
    "Q6. Suppose you conducted a one-way ANOVA and obtained an F-statistic of 5.23 and a p-value of 0.02.\n",
    "What can you conclude about the differences between the groups, and how would you interpret these\n",
    "results?\n",
    "\n",
    "Q7. In a repeated measures ANOVA, how would you handle missing data, and what are the potential\n",
    "consequences of using different methods to handle missing data?\n",
    "\n",
    "Q8. What are some common post-hoc tests used after ANOVA, and when would you use each one? Provide\n",
    "an example of a situation where a post-hoc test might be necessary.\n",
    "\n",
    "Q9. A researcher wants to compare the mean weight loss of three diets: A, B, and C. They collect data from\n",
    "50 participants who were randomly assigned to one of the diets. Conduct a one-way ANOVA using Python\n",
    "to determine if there are any significant differences between the mean weight loss of the three diets.\n",
    "Report the F-statistic and p-value, and interpret the results.\n",
    "\n",
    "Q10. A company wants to know if there are any significant differences in the average time it takes to\n",
    "complete a task using three different software programs: Program A, Program B, and Program C. They\n",
    "randomly assign 30 employees to one of the programs and record the time it takes each employee to\n",
    "complete the task. Conduct a two-way ANOVA using Python to determine if there are any main effects or\n",
    "interaction effects between the software programs and employee experience level (novice vs.\n",
    "experienced). Report the F-statistics and p-values, and interpret the results.\n",
    "\n",
    "Q11. An educational researcher is interested in whether a new teaching method improves student test\n",
    "scores. They randomly assign 100 students to either the control group (traditional teaching method) or the\n",
    "experimental group (new teaching method) and administer a test at the end of the semester. Conduct a\n",
    "two-sample t-test using Python to determine if there are any significant differences in test scores\n",
    "between the two groups. If the results are significant, follow up with a post-hoc test to determine which\n",
    "group(s) differ significantly from each other.\n",
    "\n",
    "Q12. A researcher wants to know if there are any significant differences in the average daily sales of three\n",
    "retail stores: Store A, Store B, and Store C. They randomly select 30 days and record the sales for each store\n",
    "on those days. Conduct a repeated measures ANOVA using Python to determine if there are any\n",
    "significant differences in sales between the three stores. If the results are significant, follow up with a posthoc test to determine which store(s) differ significantly from each other."
   ]
  },
  {
   "cell_type": "markdown",
   "id": "fc8a2894",
   "metadata": {},
   "source": [
    "Q1. Explain the assumptions required to use ANOVA and provide examples of violations that could impact\n",
    "the validity of the results\n",
    "\n",
    "1. normality od sample mean is normally distributed. the distribution of sample mean is normal\n",
    "2. Absence of ouliers.\n",
    "3. homogenity of variance\n",
    "\n",
    "Assumptions of ANOVA:\n",
    "\n",
    "Independence: Observations within each group must be independent of each other. The data points in one group should not be related or influence the data points in other groups.\n",
    "\n",
    "Normality: The data within each group should follow a normal distribution. Normality ensures that the sampling distribution of the means is also normal, which is important for hypothesis testing.\n",
    "\n",
    "Homogeneity of Variance (Homoscedasticity): The variance of the dependent variable should be approximately equal across all groups. In other words, the spread of data points in each group should be similar.\n",
    "\n",
    "Random Sampling: The samples should be randomly and independently selected from the population of interest to ensure that the results can be generalized to the larger population.\n",
    "\n",
    "Examples of Violations and Their Impact:\n",
    "\n",
    "Violation of Independence: Suppose we are comparing the test scores of students in different classrooms. If students within a classroom collaborate or influence each other's scores, independence is violated, and the ANOVA results may not be reliable.\n",
    "\n",
    "Violation of Normality: If the data within the groups do not follow a normal distribution, ANOVA may not produce accurate results. For example, if the test scores in one group are heavily skewed, the assumption of normality is violated.\n",
    "\n",
    "Violation of Homoscedasticity: If the variance in the dependent variable is not consistent across groups, the ANOVA results may be invalid. For instance, if the test score variability is much larger in one group compared to others, the assumption of homogeneity of variance is violated.\n",
    "\n",
    "Non-Random Sampling: If the groups are not selected randomly and are biased in some way, the results may not be generalizable to the larger population. For instance, if we are comparing the salaries of employees, but the sample includes only top-level executives and not lower-level employees, the ANOVA results might not accurately represent the entire workforce."
   ]
  },
  {
   "cell_type": "markdown",
   "id": "efc2d8bb",
   "metadata": {},
   "source": [
    "Q2. What are the three types of ANOVA, and in what situations would each be used?\n",
    "One-Way ANOVA is used when there is one categorical independent variable (factor) with three or more levels.\n",
    "Two-Way ANOVA is used when there are two categorical independent variables (factors) and one continuous dependent variable.\n",
    "Three-Way ANOVA is used when there are three categorical independent variables (factors) and one continuous dependent variable."
   ]
  },
  {
   "cell_type": "markdown",
   "id": "218473a2",
   "metadata": {},
   "source": [
    "What is the partitioning of variance in ANOVA, and why is it important to understand this concept?\n",
    "\n",
    "The partitioning of variance in ANOVA refers to the process of decomposing the total variability in the data into different sources of variation. In ANOVA, the total variance observed in the dependent variable is divided into several components to assess the contribution of different factors to the variability of the data. These components are as follows:\n",
    "\n",
    "Between-Group Variance (SSB): This represents the variability of the means of each group from the overall mean. It measures how much the group means differ from each other.\n",
    "\n",
    "Within-Group Variance (SSW): This represents the variability within each group or the variability of individual data points around their group mean. It measures the random variation within each group.\n",
    "\n",
    "Total Variance (SST): This is the overall variability in the data, encompassing both between-group and within-group variability. It is the sum of the variance between groups and the variance within groups.\n",
    "\n",
    "The partitioning of variance allows us to determine the relative importance of different sources of variation in the data. By comparing the between-group variance and within-group variance, we can assess whether there are significant differences between the group means compared to the random variability within each group.\n",
    "\n",
    "Understanding the partitioning of variance is important for several reasons:\n",
    "\n",
    "Hypothesis Testing: ANOVA is used to test whether there are significant differences in the means of different groups. The partitioning of variance helps us quantify these differences and determine if they are statistically significant.\n",
    "\n",
    "Identifying Important Factors: By knowing the contribution of different factors to the total variability, we can identify which factors have the most significant impact on the dependent variable. This information is valuable for researchers to focus on the most influential factors.\n",
    "\n",
    "Interpretation: Partitioning of variance provides valuable insights into the variability in the data, making it easier to interpret the results and draw meaningful conclusions from the ANOVA analysis.\n",
    "\n",
    "Effect Size: The partitioning of variance allows us to calculate effect sizes, which provide a measure of the practical significance of the differences observed. Effect sizes are important for understanding the magnitude of the differences between groups beyond statistical significance.\n",
    "\n",
    "Overall, understanding the partitioning of variance in ANOVA enhances the meaningful interpretation of results and provides a comprehensive view of the data's variability and the impact of different factors under study."
   ]
  },
  {
   "cell_type": "markdown",
   "id": "635102f8",
   "metadata": {},
   "source": [
    "Q4. How would you calculate the total sum of squares (SST), explained sum of squares (SSE), and residual sum of squares (SSR) in a one-way ANOVA using Python?"
   ]
  },
  {
   "cell_type": "code",
   "execution_count": 2,
   "id": "f21b1a5d",
   "metadata": {},
   "outputs": [
    {
     "name": "stdout",
     "output_type": "stream",
     "text": [
      "Total Sum of Squares (SST): 317.6923076923077\n",
      "Explained Sum of Squares (SSE): 244.00183150183165\n",
      "Residual Sum of Squares (SSR): 73.69047619047603\n"
     ]
    }
   ],
   "source": [
    "import numpy as np\n",
    "\n",
    "def one_way_anova_sums_of_squares(data, groups):\n",
    "    overall_mean = np.mean(data)\n",
    "\n",
    "    # Calculate group means\n",
    "    group_means = [np.mean(data[groups == group]) for group in np.unique(groups)]\n",
    "\n",
    "    # Calculate the total number of observations\n",
    "    total_observations = len(data)\n",
    "\n",
    "    # Calculate the Total Sum of Squares (SST)\n",
    "    sst = np.sum((data - overall_mean) ** 2)\n",
    "\n",
    "    # Calculate the Explained Sum of Squares (SSE)\n",
    "    sse = np.sum([(group_mean - overall_mean) ** 2 * len(data[groups == group]) for group, group_mean in zip(np.unique(groups), group_means)])\n",
    "\n",
    "    # Calculate the Residual Sum of Squares (SSR)\n",
    "    ssr = sst - sse\n",
    "\n",
    "    return sst, sse, ssr\n",
    "\n",
    "# Example data for one-way ANOVA\n",
    "data = np.array([24, 25, 28, 23, 22, 20, 27, 31, 33, 35, 30, 32, 36])\n",
    "groups = np.array(['A', 'A', 'A', 'A', 'A', 'A', 'A', 'B', 'B', 'B', 'B', 'B', 'B'])\n",
    "\n",
    "# Calculate the sums of squares\n",
    "sst, sse, ssr = one_way_anova_sums_of_squares(data, groups)\n",
    "\n",
    "# Output the results\n",
    "print(\"Total Sum of Squares (SST):\", sst)\n",
    "print(\"Explained Sum of Squares (SSE):\", sse)\n",
    "print(\"Residual Sum of Squares (SSR):\", ssr)\n"
   ]
  },
  {
   "cell_type": "code",
   "execution_count": null,
   "id": "6abf20b7",
   "metadata": {},
   "outputs": [],
   "source": [
    "Q5. In a two-way ANOVA, how would you calculate the main effects and interaction effects using Python?"
   ]
  },
  {
   "cell_type": "code",
   "execution_count": 6,
   "id": "49c1b929",
   "metadata": {},
   "outputs": [
    {
     "name": "stdout",
     "output_type": "stream",
     "text": [
      "Main Effect for Factor 1: [-3.41666667 -1.16666667  4.58333333]\n",
      "Main Effect for Factor 2: [-2.25       -0.91666667  1.75        1.41666667]\n",
      "Interaction Effect: [-0.25        0.41666667  0.75       -0.91666667 -1.5         0.16666667\n",
      " -0.5         1.83333333  1.75       -0.58333333 -0.25       -0.91666667]\n",
      "F-statistic for Factor 1: 13.69273743016761 P-value for Factor 1: 0.001861723068512297\n",
      "F-statistic for Factor 2: 0.5930930930930932 P-value for Factor 2: 0.6368396946438071\n",
      "F-statistic for Interaction: 13.69273743016761 P-value for Interaction: 0.001861723068512297\n"
     ]
    }
   ],
   "source": [
    "import numpy as np\n",
    "from scipy.stats import f_oneway\n",
    "\n",
    "def two_way_anova(data, factor1, factor2):\n",
    "    # Calculate the group means for each combination of factors\n",
    "    group_means = np.zeros((len(np.unique(factor1)), len(np.unique(factor2))))\n",
    "    for i, level1 in enumerate(np.unique(factor1)):\n",
    "        for j, level2 in enumerate(np.unique(factor2)):\n",
    "            group_means[i, j] = np.mean(data[(factor1 == level1) & (factor2 == level2)])\n",
    "\n",
    "    # Calculate the main effects for each factor\n",
    "    main_effect_factor1 = np.mean(group_means, axis=1) - np.mean(data)\n",
    "    main_effect_factor2 = np.mean(group_means, axis=0) - np.mean(data)\n",
    "\n",
    "    # Calculate the interaction effect\n",
    "    interaction_effect = np.ravel(group_means - np.mean(data) - main_effect_factor1[:, np.newaxis] - main_effect_factor2[np.newaxis, :])\n",
    "\n",
    "    # Perform two-way ANOVA using f_oneway\n",
    "    f_statistic_factor1, p_value_factor1 = f_oneway(*[data[factor1 == level] for level in np.unique(factor1)])\n",
    "    f_statistic_factor2, p_value_factor2 = f_oneway(*[data[factor2 == level] for level in np.unique(factor2)])\n",
    "    f_statistic_interaction, p_value_interaction = f_oneway(*[group_means[i] for i in range(len(np.unique(factor1)))])\n",
    "\n",
    "    return main_effect_factor1, main_effect_factor2, interaction_effect, f_statistic_factor1, p_value_factor1, f_statistic_factor2, p_value_factor2, f_statistic_interaction, p_value_interaction\n",
    "\n",
    "# Example data for two-way ANOVA\n",
    "data = np.array([10, 12, 15, 13, 11, 14, 16, 18, 20, 19, 22, 21])\n",
    "factor1 = np.array([1, 1, 1, 1, 2, 2, 2, 2, 3, 3, 3, 3])\n",
    "factor2 = np.array([1, 2, 3, 4, 1, 2, 3, 4, 1, 2, 3, 4])\n",
    "\n",
    "# Perform two-way ANOVA and calculate the effects\n",
    "main_effect_factor1, main_effect_factor2, interaction_effect, f_statistic_factor1, p_value_factor1, f_statistic_factor2, p_value_factor2, f_statistic_interaction, p_value_interaction = two_way_anova(data, factor1, factor2)\n",
    "\n",
    "# Output the results\n",
    "print(\"Main Effect for Factor 1:\", main_effect_factor1)\n",
    "print(\"Main Effect for Factor 2:\", main_effect_factor2)\n",
    "print(\"Interaction Effect:\", interaction_effect)\n",
    "print(\"F-statistic for Factor 1:\", f_statistic_factor1, \"P-value for Factor 1:\", p_value_factor1)\n",
    "print(\"F-statistic for Factor 2:\", f_statistic_factor2, \"P-value for Factor 2:\", p_value_factor2)\n",
    "print(\"F-statistic for Interaction:\", f_statistic_interaction, \"P-value for Interaction:\", p_value_interaction)\n"
   ]
  },
  {
   "cell_type": "markdown",
   "id": "04ac5b45",
   "metadata": {},
   "source": [
    "Q6. Suppose you conducted a one-way ANOVA and obtained an F-statistic of 5.23 and a p-value of 0.02. What can you conclude about the differences between the groups, and how would you interpret these results?"
   ]
  },
  {
   "cell_type": "markdown",
   "id": "bbc120be",
   "metadata": {},
   "source": [
    "In this scenario, the obtained p-value (0.02) is less than the common significance level of 0.05. Therefore, we reject the null hypothesis. The conclusion is that there are significant differences between the means of the groups."
   ]
  },
  {
   "cell_type": "markdown",
   "id": "72d625ea",
   "metadata": {},
   "source": [
    "Q7. In a repeated measures ANOVA, how would you handle missing data, and what are the potential consequences of using different methods to handle missing data?\\\n",
    "\n",
    "Handling missing data in a repeated measures ANOVA is essential to ensure the accuracy and validity of the analysis. When dealing with missing data, there are several common methods to consider:\n",
    "\n",
    "Complete Case Analysis (Listwise Deletion):\n",
    "In this approach, any participant with missing data on any variable is removed from the analysis. This results in using only the complete cases, which may lead to a reduction in the sample size and potentially biased estimates if the missing data is not completely random. While complete case analysis is straightforward, it can result in loss of information and reduced statistical power.\n",
    "\n",
    "Mean Imputation:\n",
    "Mean imputation involves replacing missing values with the mean of the available data for that variable. It is a simple approach that maintains the sample size but may underestimate the true variability and inflate correlations between variables. Mean imputation can introduce artificial patterns and underestimate standard errors, leading to inaccurate results.\n",
    "\n",
    "Last Observation Carried Forward (LOCF):\n",
    "LOCF involves using the last observed value for a participant with missing data throughout the entire analysis. This method assumes that the missing data did not change over time. However, it may not accurately represent the true trajectory of the data, especially if missing values occur at critical time points.\n",
    "\n",
    "Multiple Imputation:\n",
    "Multiple imputation creates several plausible imputed datasets based on the observed data. Each imputed dataset fills in missing values using statistical methods, such as regression models or bootstrapping. The analyses are then performed on each imputed dataset, and the results are combined to provide valid statistical estimates, accounting for the uncertainty of imputation. Multiple imputation is generally considered a superior method as it accounts for the uncertainty introduced by missing data and can provide more accurate and valid results compared to single imputation methods.\n",
    "\n",
    "Potential Consequences of Using Different Methods:\n",
    "The method used to handle missing data can have significant consequences on the results and interpretations of the repeated measures ANOVA. Using inappropriate methods can lead to biased estimates, invalid conclusions, and reduced statistical power. For instance:\n",
    "\n",
    "Complete case analysis may lead to biased results if the missing data is related to the outcome or predictor variables.\n",
    "Mean imputation can artificially shrink the variability, leading to underestimated standard errors and inflated Type I error rates.\n",
    "LOCF may not accurately represent the true data pattern and can lead to biased results if the assumption of data stability is not met.\n",
    "Multiple imputation is generally the most recommended method as it accounts for uncertainty, preserves sample size, and provides more robust and valid statistical results.\n",
    "In summary, handling missing data is a critical step in repeated measures ANOVA analysis. It is essential to choose an appropriate method that aligns with the missing data patterns and does not introduce bias or affect the conclusions drawn from the analysis. Multiple imputation is often preferred due to its ability to provide more accurate and robust results while accounting for the uncertainty of missing data."
   ]
  },
  {
   "cell_type": "markdown",
   "id": "17bfef08",
   "metadata": {},
   "source": [
    "Q8. What are some common post-hoc tests used after ANOVA, and when would you use each one? Provide an example of a situation where a post-hoc test might be necessary.\n",
    "\n",
    "After conducting an ANOVA and finding a significant overall effect, post-hoc tests are used to compare specific groups and identify which group means are significantly different from each other. Post-hoc tests help to make pairwise comparisons between groups, addressing the multiple comparisons issue that arises when conducting multiple t-tests.\n",
    "\n",
    "Some common post-hoc tests include:\n",
    "\n",
    "Tukey's Honestly Significant Difference (HSD):\n",
    "Tukey's HSD test is conservative and controls the family-wise error rate (the probability of making at least one Type I error among all pairwise comparisons). It is suitable for situations where there are equal sample sizes across groups and variances are approximately equal.\n",
    "\n",
    "Bonferroni Correction:\n",
    "The Bonferroni correction is a simple and stringent method that adjusts the significance level for multiple comparisons. It is appropriate when the number of comparisons is small and groups have unequal sample sizes.\n",
    "\n",
    "Dunnett's Test:\n",
    "Dunnett's test is used when one group is considered the control or reference group, and all other groups are compared against it. This test is useful in situations where the main interest is to compare various groups to a single control group.\n",
    "\n",
    "Scheffe's Method:\n",
    "Scheffe's method is a robust post-hoc test that provides a compromise between the liberal Tukey's test and the conservative Bonferroni correction. It is suitable for situations where there are unequal sample sizes and the assumption of equal variances is violated.\n",
    "\n",
    "Example of a Situation Requiring Post-Hoc Test:\n",
    "Suppose a researcher wants to compare the effectiveness of three different exercise programs (Program A, Program B, and Program C) on weight loss. They conduct an ANOVA and find a significant overall effect, indicating that at least one exercise program has a different impact on weight loss.\n",
    "\n",
    "To determine which exercise programs are significantly different from each other, the researcher would use a post-hoc test. For example, they might choose Tukey's HSD test if the sample sizes are equal across all programs and variances are approximately equal. Alternatively, if there are unequal sample sizes or unequal variances, they might opt for Scheffe's method, which is more robust to violations of these assumptions.\n",
    "\n",
    "The post-hoc test would provide pairwise comparisons between the programs, indicating which pairs have significantly different means. For instance, the test might reveal that Program A and Program B have significantly different weight loss effects, but Program C does not significantly differ from either Program A or B.\n",
    "\n",
    "By conducting a post-hoc test, the researcher can make precise comparisons between groups and gain a deeper understanding of the differences between the exercise programs in terms of weight loss."
   ]
  },
  {
   "cell_type": "markdown",
   "id": "779bac49",
   "metadata": {},
   "source": [
    "Q9. A researcher wants to compare the mean weight loss of three diets: A, B, and C. They collect data from 50 participants who were randomly assigned to one of the diets. Conduct a one-way ANOVA using Python to determine if there are any significant differences between the mean weight loss of the three diets. Report the F-statistic and p-value, and interpret the results."
   ]
  },
  {
   "cell_type": "code",
   "execution_count": 7,
   "id": "20f69593",
   "metadata": {},
   "outputs": [
    {
     "name": "stdout",
     "output_type": "stream",
     "text": [
      "F-statistic: 67.40493695321804\n",
      "p-value: 3.1871621407910107e-17\n"
     ]
    }
   ],
   "source": [
    "import numpy as np\n",
    "from scipy.stats import f_oneway\n",
    "\n",
    "# Weight loss data for each diet (A, B, C)\n",
    "diet_a = np.array([3.5, 5.1, 4.2, 4.9, 3.7, 5.8, 4.4, 3.9, 5.3, 4.7, 3.1, 4.5, 5.2, 3.8, 4.1, 5.5, 4.8, 3.3, 5.0, 4.0, 5.6, 4.3, 5.7, 3.6, 4.6])\n",
    "diet_b = np.array([2.9, 2.8, 3.1, 2.7, 2.6, 3.3, 3.0, 2.5, 2.7, 3.2, 3.4, 2.4, 2.9, 3.5, 2.3, 3.3, 2.6, 2.8, 3.1, 2.7, 3.2, 2.5, 3.0, 2.9, 3.4])\n",
    "diet_c = np.array([4.2, 3.7, 4.1, 4.4, 4.5, 3.9, 4.0, 4.3, 4.8, 4.6, 4.5, 4.2, 3.8, 4.4, 4.1, 4.3, 4.6, 3.9, 4.2, 4.0, 4.5, 4.7, 4.2, 3.8, 4.4])\n",
    "\n",
    "# Combine all the data into a single array\n",
    "all_data = np.concatenate([diet_a, diet_b, diet_c])\n",
    "\n",
    "# Create an array to indicate the corresponding diet for each data point\n",
    "diet_labels = np.array(['A'] * len(diet_a) + ['B'] * len(diet_b) + ['C'] * len(diet_c))\n",
    "\n",
    "# Perform one-way ANOVA\n",
    "f_statistic, p_value = f_oneway(diet_a, diet_b, diet_c)\n",
    "\n",
    "# Output the results\n",
    "print(\"F-statistic:\", f_statistic)\n",
    "print(\"p-value:\", p_value)\n"
   ]
  },
  {
   "cell_type": "code",
   "execution_count": 11,
   "id": "186ac77f",
   "metadata": {},
   "outputs": [
    {
     "name": "stdout",
     "output_type": "stream",
     "text": [
      "there is significant weight loss of three diets\n"
     ]
    }
   ],
   "source": [
    "if p_value > .05 :\n",
    "    print(\"there is no significant weight loss\")\n",
    "else:\n",
    "    print(\"there is significant weight loss of three diets\")"
   ]
  },
  {
   "cell_type": "markdown",
   "id": "f79c2393",
   "metadata": {},
   "source": [
    "Q11. An educational researcher is interested in whether a new teaching method improves student test scores. They randomly assign 100 students to either the control group (traditional teaching method) or the experimental group (new teaching method) and administer a test at the end of the semester. Conduct a two-sample t-test using Python to determine if there are any significant differences in test scores between the two groups. If the results are significant, follow up with a post-hoc test to determine which group(s) differ significantly from each other.\n"
   ]
  },
  {
   "cell_type": "code",
   "execution_count": 12,
   "id": "b11924aa",
   "metadata": {},
   "outputs": [
    {
     "name": "stdout",
     "output_type": "stream",
     "text": [
      "Two-sample t-test results:\n",
      "t-statistic: -8.739666010687221\n",
      "p-value: 1.2552582929337516e-10\n"
     ]
    }
   ],
   "source": [
    "import numpy as np\n",
    "from scipy.stats import ttest_ind\n",
    "\n",
    "# Test scores for the control group (traditional teaching method)\n",
    "control_scores = np.array([70, 75, 78, 80, 68, 72, 82, 76, 74, 71, 69, 81, 73, 77, 79, 75, 70, 72, 76, 80])\n",
    "\n",
    "# Test scores for the experimental group (new teaching method)\n",
    "experimental_scores = np.array([85, 88, 90, 82, 78, 87, 83, 89, 84, 86, 82, 85, 81, 87, 84, 86, 83, 88, 85, 89])\n",
    "\n",
    "# Perform two-sample t-test\n",
    "t_statistic, p_value = ttest_ind(control_scores, experimental_scores)\n",
    "\n",
    "# Output the results\n",
    "print(\"Two-sample t-test results:\")\n",
    "print(\"t-statistic:\", t_statistic)\n",
    "print(\"p-value:\", p_value)\n"
   ]
  },
  {
   "cell_type": "code",
   "execution_count": 15,
   "id": "57a6405a",
   "metadata": {},
   "outputs": [
    {
     "name": "stdout",
     "output_type": "stream",
     "text": [
      "\n",
      "Tukey's HSD test results:\n",
      "   Multiple Comparison of Means - Tukey HSD, FWER=0.05   \n",
      "=========================================================\n",
      " group1    group2    meandiff p-adj lower   upper  reject\n",
      "---------------------------------------------------------\n",
      "Control Experimental     10.2   0.0 7.8373 12.5627   True\n",
      "---------------------------------------------------------\n"
     ]
    }
   ],
   "source": [
    "import statsmodels.api as sm\n",
    "from statsmodels.stats.multicomp import pairwise_tukeyhsd\n",
    "\n",
    "# Combine all the test scores into a single array\n",
    "all_scores = np.concatenate([control_scores, experimental_scores])\n",
    "\n",
    "# Create an array to indicate the corresponding group for each data point (0 for control, 1 for experimental)\n",
    "group_labels = np.array(['Control'] * len(control_scores) + ['Experimental'] * len(experimental_scores))\n",
    "\n",
    "# Perform Tukey's HSD test\n",
    "tukey_result = pairwise_tukeyhsd(all_scores, group_labels)\n",
    "\n",
    "# Output the Tukey's HSD test results\n",
    "print(\"\\nTukey's HSD test results:\")\n",
    "print(tukey_result)\n",
    "\n"
   ]
  },
  {
   "cell_type": "markdown",
   "id": "fc80c21c",
   "metadata": {},
   "source": [
    "Q12. A researcher wants to know if there are any significant differences in the average daily sales of three retail stores: Store A, Store B, and Store C. They randomly select 30 days and record the sales for each store on those days. Conduct a repeated measures ANOVA using Python to determine if there are any significant differences in sales between the three stores. If the results are significant, follow up with a posthoc test to determine which store(s) differ significantly from each other."
   ]
  },
  {
   "cell_type": "code",
   "execution_count": 16,
   "id": "094bac16",
   "metadata": {},
   "outputs": [
    {
     "name": "stdout",
     "output_type": "stream",
     "text": [
      "One-way ANOVA results:\n",
      "F-statistic: 21.166906889593545\n",
      "p-value: 3.233045576492756e-08\n",
      "\n",
      "Tukey's HSD test results:\n",
      "  Multiple Comparison of Means - Tukey HSD, FWER=0.05   \n",
      "========================================================\n",
      " group1  group2 meandiff p-adj   lower    upper   reject\n",
      "--------------------------------------------------------\n",
      "Store A Store B -10.6667 0.0016 -17.7646  -3.5688   True\n",
      "Store A Store C -19.3333    0.0 -26.4312 -12.2354   True\n",
      "Store B Store C  -8.6667 0.0126 -15.7646  -1.5688   True\n",
      "--------------------------------------------------------\n"
     ]
    }
   ],
   "source": [
    "import numpy as np\n",
    "from scipy.stats import f_oneway\n",
    "import statsmodels.api as sm\n",
    "from statsmodels.stats.multicomp import pairwise_tukeyhsd\n",
    "\n",
    "# Sales data for Store A, Store B, and Store C on 30 selected days\n",
    "store_a_sales = np.array([100, 120, 130, 110, 115, 105, 125, 135, 140, 105, 115, 130, 125, 110, 115, 130, 120, 125, 115, 105, 130, 140, 135, 125, 120, 130, 110, 115, 105, 125])\n",
    "store_b_sales = np.array([95, 105, 115, 90, 100, 110, 120, 125, 130, 100, 105, 115, 120, 105, 110, 115, 100, 105, 110, 95, 120, 125, 130, 110, 105, 120, 90, 100, 105, 115])\n",
    "store_c_sales = np.array([85, 90, 100, 80, 95, 105, 115, 120, 125, 90, 95, 110, 105, 90, 100, 105, 95, 100, 95, 85, 110, 120, 125, 100, 95, 110, 80, 95, 100, 110])\n",
    "\n",
    "# Combine all the sales data into a single array\n",
    "all_sales = np.concatenate([store_a_sales, store_b_sales, store_c_sales])\n",
    "\n",
    "# Create an array to indicate the corresponding store for each data point\n",
    "store_labels = np.array(['Store A'] * len(store_a_sales) + ['Store B'] * len(store_b_sales) + ['Store C'] * len(store_c_sales))\n",
    "\n",
    "# Perform one-way ANOVA\n",
    "f_statistic, p_value = f_oneway(store_a_sales, store_b_sales, store_c_sales)\n",
    "\n",
    "# Output the ANOVA results\n",
    "print(\"One-way ANOVA results:\")\n",
    "print(\"F-statistic:\", f_statistic)\n",
    "print(\"p-value:\", p_value)\n",
    "\n",
    "# Perform Tukey's HSD test if the ANOVA results are significant (p-value < 0.05)\n",
    "if p_value < 0.05:\n",
    "    tukey_result = pairwise_tukeyhsd(all_sales, store_labels)\n",
    "    print(\"\\nTukey's HSD test results:\")\n",
    "    print(tukey_result)\n"
   ]
  },
  {
   "cell_type": "code",
   "execution_count": null,
   "id": "da30ef78",
   "metadata": {},
   "outputs": [],
   "source": []
  }
 ],
 "metadata": {
  "kernelspec": {
   "display_name": "Python 3 (ipykernel)",
   "language": "python",
   "name": "python3"
  },
  "language_info": {
   "codemirror_mode": {
    "name": "ipython",
    "version": 3
   },
   "file_extension": ".py",
   "mimetype": "text/x-python",
   "name": "python",
   "nbconvert_exporter": "python",
   "pygments_lexer": "ipython3",
   "version": "3.10.9"
  }
 },
 "nbformat": 4,
 "nbformat_minor": 5
}
