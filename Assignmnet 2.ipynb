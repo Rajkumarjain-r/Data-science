{
 "cells": [
  {
   "cell_type": "markdown",
   "id": "b0909260",
   "metadata": {},
   "source": [
    "Q1. How do you comment code in Python? What are the different types of comments?"
   ]
  },
  {
   "cell_type": "markdown",
   "id": "5cfa1455",
   "metadata": {},
   "source": [
    "Single line comment by using \"#\" before the code and multi line commnent by using enclosing the codes in triple quotes"
   ]
  },
  {
   "cell_type": "markdown",
   "id": "9b8fcf55",
   "metadata": {},
   "source": [
    "Q2. What are variables in Python? How do you declare and assign values to variables?"
   ]
  },
  {
   "cell_type": "markdown",
   "id": "5c32265d",
   "metadata": {},
   "source": [
    "variables are containers where you assign values and store the data. we declare a variable by giving a name to it and using = which is assignmnet operator we assign value to a given variable."
   ]
  },
  {
   "cell_type": "markdown",
   "id": "c4e7e244",
   "metadata": {},
   "source": [
    "Q3. How do you convert one data type to another in Python?"
   ]
  },
  {
   "cell_type": "markdown",
   "id": "0a22d718",
   "metadata": {},
   "source": [
    "By using typecast method like str(), list, dict(), int()"
   ]
  },
  {
   "cell_type": "markdown",
   "id": "18655dfb",
   "metadata": {},
   "source": [
    "Q4. How do you write and execute a Python script from the command line?"
   ]
  },
  {
   "cell_type": "markdown",
   "id": "659cedb0",
   "metadata": {},
   "source": [
    "you need to open a command-line and type in the word python , or python3 if you have both versions, followed by the path to your script, just like this: $ python3 hello.py"
   ]
  },
  {
   "cell_type": "markdown",
   "id": "01574401",
   "metadata": {},
   "source": [
    "Q5. Given a list my_list = [1, 2, 3, 4, 5], write the code to slice the list and obtain the sub-list [2, 3]."
   ]
  },
  {
   "cell_type": "code",
   "execution_count": 9,
   "id": "1ff3d5f7",
   "metadata": {},
   "outputs": [],
   "source": [
    "my_list = [1, 2, 3, 4, 5]"
   ]
  },
  {
   "cell_type": "code",
   "execution_count": 10,
   "id": "4d773e58",
   "metadata": {},
   "outputs": [
    {
     "data": {
      "text/plain": [
       "[2, 3]"
      ]
     },
     "execution_count": 10,
     "metadata": {},
     "output_type": "execute_result"
    }
   ],
   "source": [
    "my_list[1:3]"
   ]
  },
  {
   "cell_type": "markdown",
   "id": "a4c69fbe",
   "metadata": {},
   "source": [
    "Q6. What is a complex number in mathematics, and how is it represented in Python?"
   ]
  },
  {
   "cell_type": "markdown",
   "id": "73074a45",
   "metadata": {},
   "source": [
    "complex number will have real and imaginery values. in python its represented only by j for imaginery values eg 2+2j."
   ]
  },
  {
   "cell_type": "markdown",
   "id": "6b6bf544",
   "metadata": {},
   "source": [
    "Q7. What is the correct way to declare a variable named age and assign the value 25 to it?"
   ]
  },
  {
   "cell_type": "code",
   "execution_count": 12,
   "id": "436e3064",
   "metadata": {},
   "outputs": [],
   "source": [
    "age = 25"
   ]
  },
  {
   "cell_type": "markdown",
   "id": "def2f5fc",
   "metadata": {},
   "source": [
    "Q8. Declare a variable named price and assign the value 9.99 to it. What data type does this variable\n",
    "belong to?"
   ]
  },
  {
   "cell_type": "code",
   "execution_count": 13,
   "id": "5122452e",
   "metadata": {},
   "outputs": [],
   "source": [
    "price  = 9.99"
   ]
  },
  {
   "cell_type": "code",
   "execution_count": 14,
   "id": "08bc272d",
   "metadata": {},
   "outputs": [
    {
     "data": {
      "text/plain": [
       "float"
      ]
     },
     "execution_count": 14,
     "metadata": {},
     "output_type": "execute_result"
    }
   ],
   "source": [
    "type(price)"
   ]
  },
  {
   "cell_type": "code",
   "execution_count": null,
   "id": "83efbc0f",
   "metadata": {},
   "outputs": [],
   "source": [
    "datatype is float"
   ]
  },
  {
   "cell_type": "markdown",
   "id": "e902fe36",
   "metadata": {},
   "source": [
    "Q9. Create a variable named name and assign your full name to it as a string. How would you print the\n",
    "value of this variable?"
   ]
  },
  {
   "cell_type": "code",
   "execution_count": 15,
   "id": "095e52e7",
   "metadata": {},
   "outputs": [],
   "source": [
    "name = \"Rajkumar\""
   ]
  },
  {
   "cell_type": "code",
   "execution_count": 16,
   "id": "9e464910",
   "metadata": {},
   "outputs": [
    {
     "name": "stdout",
     "output_type": "stream",
     "text": [
      "Rajkumar\n"
     ]
    }
   ],
   "source": [
    "print(name)"
   ]
  },
  {
   "cell_type": "markdown",
   "id": "f8171974",
   "metadata": {},
   "source": [
    "Q10. Given the string \"Hello, World!\", extract the substring \"World\"."
   ]
  },
  {
   "cell_type": "code",
   "execution_count": 17,
   "id": "fad9b006",
   "metadata": {},
   "outputs": [],
   "source": [
    "string = \"Hello, World!\""
   ]
  },
  {
   "cell_type": "code",
   "execution_count": 22,
   "id": "c3d24900",
   "metadata": {},
   "outputs": [
    {
     "data": {
      "text/plain": [
       "'World'"
      ]
     },
     "execution_count": 22,
     "metadata": {},
     "output_type": "execute_result"
    }
   ],
   "source": [
    "string[7:12]"
   ]
  },
  {
   "cell_type": "markdown",
   "id": "c035923e",
   "metadata": {},
   "source": [
    "Q11. Create a variable named \"is_student\" and assign it a boolean value indicating whether you are\n",
    "currently a student or not."
   ]
  },
  {
   "cell_type": "code",
   "execution_count": 23,
   "id": "f3c6d74e",
   "metadata": {},
   "outputs": [],
   "source": [
    "is_student = True"
   ]
  },
  {
   "cell_type": "code",
   "execution_count": null,
   "id": "529f0ebc",
   "metadata": {},
   "outputs": [],
   "source": []
  }
 ],
 "metadata": {
  "kernelspec": {
   "display_name": "Python 3 (ipykernel)",
   "language": "python",
   "name": "python3"
  },
  "language_info": {
   "codemirror_mode": {
    "name": "ipython",
    "version": 3
   },
   "file_extension": ".py",
   "mimetype": "text/x-python",
   "name": "python",
   "nbconvert_exporter": "python",
   "pygments_lexer": "ipython3",
   "version": "3.10.9"
  }
 },
 "nbformat": 4,
 "nbformat_minor": 5
}
