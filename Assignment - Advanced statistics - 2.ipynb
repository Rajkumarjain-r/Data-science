{
 "cells": [
  {
   "cell_type": "markdown",
   "id": "c2fd1051",
   "metadata": {},
   "source": [
    "Q1: What are the Probability Mass Function (PMF) and Probability Density Function (PDF)? Explain with\n",
    "an example.\n",
    "\n",
    "Probality mass function is used in case of discrete random variable eg grade of student in a particular subject like A, B , C. Here the outcomes is with in a range that is fixed.\n",
    "Probability density function is used in case of continous random variable. Like marks of students in a particular subject. Here the outcome does not have any range or unknown range"
   ]
  },
  {
   "cell_type": "markdown",
   "id": "7ea67eb8",
   "metadata": {},
   "source": [
    "Q2: What is Cumulative Density Function (CDF)? Explain with an example. Why CDF is used?\n",
    "\n",
    "It is a function that describes the cumulative probability that a random variable takes on a value less than or equal to a given point.\n",
    "\n",
    "Probability Calculation: The CDF provides an efficient way to calculate probabilities for a range of values of the random variable without having to consider individual probabilities for each value separately."
   ]
  },
  {
   "cell_type": "code",
   "execution_count": 27,
   "id": "81db67af",
   "metadata": {},
   "outputs": [
    {
     "name": "stdout",
     "output_type": "stream",
     "text": [
      "The probability of scoring below 80 is 69.15%\n"
     ]
    }
   ],
   "source": [
    "import scipy.stats as stats\n",
    "\n",
    "'''Imagine a class of students taking a math exam. The scores on the exam follow a normal distribution.\n",
    "   The mean score (μ) of the exam is 75, and the standard deviation (σ) is 10. \n",
    "   We can use the normal distribution to model the distribution of scores'''\n",
    "mean = 75\n",
    "std_dev = 10\n",
    "\n",
    "threshold = 80\n",
    "\n",
    "cumulative_probability = stats.norm.cdf(threshold, loc=mean, scale=std_dev)\n",
    "\n",
    "probability_percentage = cumulative_probability * 100\n",
    "\n",
    "print(f\"The probability of scoring below {threshold} is {probability_percentage:.2f}%\")\n"
   ]
  },
  {
   "cell_type": "markdown",
   "id": "286d3217",
   "metadata": {},
   "source": [
    "Q3: What are some examples of situations where the normal distribution might be used as a model?\n",
    "Explain how the parameters of the normal distribution relate to the shape of the distribution.\n",
    "\n",
    "Height and Weight: Human height and weight data often follow a roughly normal distribution, with most individuals clustered around the mean value.\n",
    "\n",
    "mean is meu and sigma is standard deviation\n",
    "Approximately 68% of the data falls within one standard deviation (σ) of the mean (μ).\n",
    "Approximately 95% of the data falls within two standard deviations (2σ) of the mean (μ).\n",
    "Approximately 99.7% of the data falls within three standard deviations (3σ) of the mean (μ).\n",
    "\n",
    "so its a symetrical bell curve\n"
   ]
  },
  {
   "cell_type": "markdown",
   "id": "cb19cf1e",
   "metadata": {},
   "source": [
    "Q4: Explain the importance of Normal Distribution. Give a few real-life examples of Normal\n",
    "Distribution. \n",
    "\n",
    "Most of data falls in normal distribution\n",
    "The Normal Distribution can be used to approximate the distribution of many real-world phenomena. It serves as a fundamental model for a wide range of data, making it applicable in diverse areas of science, engineering, social sciences, and finance\n",
    "\n",
    "eq: scores of student in exam\n",
    "sepal_lengh of iris flower\n",
    "blood pressure of human\n",
    "\n",
    "all these have data close to mean and with 1 standard deviation very less outliers\n"
   ]
  },
  {
   "cell_type": "markdown",
   "id": "938e18bf",
   "metadata": {},
   "source": [
    "Q5: What is Bernaulli Distribution? Give an Example. What is the difference between Bernoulli\n",
    "Distribution and Binomial Distribution?\n",
    "\n",
    "Bernaulli distribution is outcomes is either success or a failure like a toss of a coin its either heads or tails\n",
    "\n",
    "Binomial distribution is extention of Bernauli distribution.  The Binomial Distribution models the number of successes in a fixed number of independent Bernoulli trials, where each trial has the same probability of success."
   ]
  },
  {
   "cell_type": "markdown",
   "id": "358287e5",
   "metadata": {},
   "source": [
    "Q6. Consider a dataset with a mean of 50 and a standard deviation of 10. If we assume that the dataset\n",
    "is normally distributed, what is the probability that a randomly selected observation will be greater\n",
    "than 60? Use the appropriate formula and show your calculations\n",
    "\n"
   ]
  },
  {
   "cell_type": "code",
   "execution_count": 30,
   "id": "b4bee47a",
   "metadata": {},
   "outputs": [
    {
     "name": "stdout",
     "output_type": "stream",
     "text": [
      "The probability that a randomly selected observation will be greater than 60 is 15.8655%\n"
     ]
    }
   ],
   "source": [
    "import scipy.stats as stats\n",
    "mean = 50\n",
    "std_dev = 10\n",
    "\n",
    "X = 60\n",
    "\n",
    "z = (X - mean) / std_dev\n",
    "\n",
    "probability = 1 - stats.norm.cdf(z)\n",
    "\n",
    "print(f\"The probability that a randomly selected observation will be greater than {X} is {probability*100:.4f}%\")\n"
   ]
  },
  {
   "cell_type": "markdown",
   "id": "9bc88b31",
   "metadata": {},
   "source": [
    "Q7: Explain uniform Distribution with an example.\n",
    "    The Uniform Distribution is a probability distribution that models random variables where every value within a specific range has an equal probability of occurring. In other words, the probability of any individual outcome is constant and uniform over the entire range of possible values.\n",
    "    \n",
    "polling dice. The outcome probablity is 1/6 always for 1,2,3,4,5,6\n",
    "coin tosses. the outcome is 1/2 always for heads and tails \n",
    "The probability of drawing any card from a deck of cards. the probablity is 1/52 for anycome at a point of time"
   ]
  },
  {
   "cell_type": "markdown",
   "id": "b2d9ccb7",
   "metadata": {},
   "source": [
    "Q8: What is the z score? State the importance of the z score\n",
    "    \n",
    "The z-score, also known as the standard score, is a measure used in statistics to quantify how many standard deviations a particular data point is away from the mean of a dataset. It is a dimensionless value that standardizes data, allowing comparisons between different datasets with varying scales and distributions.\n",
    "\n",
    "Probability Calculation, hypothesis testing"
   ]
  },
  {
   "cell_type": "markdown",
   "id": "bf27974c",
   "metadata": {},
   "source": [
    "Q9: What is Central Limit Theorem? State the significance of the Central Limit Theorem.\n",
    "\n",
    "describes the behavior of the sampling distribution of the sample means (or other sample statistics) from a population, regardless of the shape of the original population distribution. It states that as the sample size increases, the sampling distribution of the sample means approaches a normal distribution, even if the population itself is not normally distributed.\n",
    "\n",
    "It allows us to make confident statistical inferences based on the normality of the sampling distribution, even when the population distribution is not known or is not normally distributed."
   ]
  },
  {
   "cell_type": "markdown",
   "id": "c629070e",
   "metadata": {},
   "source": [
    "Q10: State the assumptions of the Central Limit Theorem.\n",
    "\n",
    "Random Sampling: The samples must be drawn randomly and independently from the population. Each data point in the sample should be selected without any bias and without influence from other data points.\n",
    "\n",
    "Sample Size: The sample size should be sufficiently large. While there is no strict rule for what constitutes a \"large\" sample size, as a general guideline, a sample size of at least 30 is often considered sufficient for the Central Limit Theorem to hold.\n",
    "\n",
    "Finite Population Variance: The population from which the samples are drawn should have a finite variance (standard deviation squared). This assumption is essential to ensure that the variability within the population is well-defined.\n",
    "\n",
    "Identical Distribution: The data points in the population must follow the same distribution. The Central Limit Theorem holds for any population distribution, as long as the variance exists and is finite.\n",
    "\n",
    "Independence: The individual data points in the population should be independent of each other. In other words, the value of one data point should not influence or be influenced by the value of another data point."
   ]
  },
  {
   "cell_type": "code",
   "execution_count": null,
   "id": "7b9a9c83",
   "metadata": {},
   "outputs": [],
   "source": []
  },
  {
   "cell_type": "code",
   "execution_count": null,
   "id": "d49349d8",
   "metadata": {},
   "outputs": [],
   "source": []
  },
  {
   "cell_type": "code",
   "execution_count": null,
   "id": "27cfd650",
   "metadata": {},
   "outputs": [],
   "source": []
  },
  {
   "cell_type": "code",
   "execution_count": null,
   "id": "7eae995b",
   "metadata": {},
   "outputs": [],
   "source": []
  }
 ],
 "metadata": {
  "kernelspec": {
   "display_name": "Python 3 (ipykernel)",
   "language": "python",
   "name": "python3"
  },
  "language_info": {
   "codemirror_mode": {
    "name": "ipython",
    "version": 3
   },
   "file_extension": ".py",
   "mimetype": "text/x-python",
   "name": "python",
   "nbconvert_exporter": "python",
   "pygments_lexer": "ipython3",
   "version": "3.10.9"
  }
 },
 "nbformat": 4,
 "nbformat_minor": 5
}
