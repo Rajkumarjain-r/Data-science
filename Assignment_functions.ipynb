{
 "cells": [
  {
   "cell_type": "markdown",
   "id": "f0a03daa",
   "metadata": {},
   "source": [
    "Q1. Which keyword is used to create a function? Create a function to return a list of odd numbers in the\n",
    "range of 1 to 25."
   ]
  },
  {
   "cell_type": "markdown",
   "id": "d7aa4d6c",
   "metadata": {},
   "source": [
    "def is the keyword used to create function eg: def function_name():"
   ]
  },
  {
   "cell_type": "code",
   "execution_count": 6,
   "id": "e1e88f20",
   "metadata": {},
   "outputs": [],
   "source": [
    "l = list(range(1,26))"
   ]
  },
  {
   "cell_type": "code",
   "execution_count": 7,
   "id": "d4f9d8cd",
   "metadata": {},
   "outputs": [
    {
     "data": {
      "text/plain": [
       "[1, 3, 5, 7, 9, 11, 13, 15, 17, 19, 21, 23, 25]"
      ]
     },
     "execution_count": 7,
     "metadata": {},
     "output_type": "execute_result"
    }
   ],
   "source": [
    "list(filter(lambda x: x % 2 != 0, l))"
   ]
  },
  {
   "cell_type": "markdown",
   "id": "1e99fae7",
   "metadata": {},
   "source": [
    "Q2. Why *args and **kwargs is used in some functions? Create a function each for *args and **kwargs to\n",
    "demonstrate their use."
   ]
  },
  {
   "cell_type": "markdown",
   "id": "1bc3b267",
   "metadata": {},
   "source": [
    "*args is used to give unknown no of inputs to a function"
   ]
  },
  {
   "cell_type": "code",
   "execution_count": 31,
   "id": "0dea444f",
   "metadata": {},
   "outputs": [],
   "source": [
    "l = list(range(1,50))\n",
    "def demo_args(*raj):\n",
    "    d = []\n",
    "    for i in raj:\n",
    "        c = list(map(lambda x : \"even\" if x%2 == 0 else \"odd\",i))\n",
    "        d.append((c))\n",
    "    return(d[0])"
   ]
  },
  {
   "cell_type": "code",
   "execution_count": 32,
   "id": "04be92f6",
   "metadata": {},
   "outputs": [
    {
     "data": {
      "text/plain": [
       "['odd',\n",
       " 'even',\n",
       " 'odd',\n",
       " 'even',\n",
       " 'odd',\n",
       " 'even',\n",
       " 'odd',\n",
       " 'even',\n",
       " 'odd',\n",
       " 'even',\n",
       " 'odd',\n",
       " 'even',\n",
       " 'odd',\n",
       " 'even',\n",
       " 'odd',\n",
       " 'even',\n",
       " 'odd',\n",
       " 'even',\n",
       " 'odd',\n",
       " 'even',\n",
       " 'odd',\n",
       " 'even',\n",
       " 'odd',\n",
       " 'even',\n",
       " 'odd',\n",
       " 'even',\n",
       " 'odd',\n",
       " 'even',\n",
       " 'odd',\n",
       " 'even',\n",
       " 'odd',\n",
       " 'even',\n",
       " 'odd',\n",
       " 'even',\n",
       " 'odd',\n",
       " 'even',\n",
       " 'odd',\n",
       " 'even',\n",
       " 'odd',\n",
       " 'even',\n",
       " 'odd',\n",
       " 'even',\n",
       " 'odd',\n",
       " 'even',\n",
       " 'odd',\n",
       " 'even',\n",
       " 'odd',\n",
       " 'even',\n",
       " 'odd']"
      ]
     },
     "execution_count": 32,
     "metadata": {},
     "output_type": "execute_result"
    }
   ],
   "source": [
    "demo_args(l)"
   ]
  },
  {
   "cell_type": "markdown",
   "id": "665bec60",
   "metadata": {},
   "source": [
    "**kwargs is used to input in the form of key value pair to a function"
   ]
  },
  {
   "cell_type": "code",
   "execution_count": 33,
   "id": "7beb07f9",
   "metadata": {},
   "outputs": [],
   "source": [
    "def demo_kwargs(**raj):\n",
    "    return raj.values()"
   ]
  },
  {
   "cell_type": "code",
   "execution_count": 37,
   "id": "69adc754",
   "metadata": {},
   "outputs": [
    {
     "data": {
      "text/plain": [
       "dict_values(['raj', 'pwskills', 'impact2.0', 50, 2.5, (2+3j), ['a', 'b']])"
      ]
     },
     "execution_count": 37,
     "metadata": {},
     "output_type": "execute_result"
    }
   ],
   "source": [
    "demo_kwargs(name=\"raj\",section = \"pwskills\", batch=\"impact2.0\", number = 50, float1=2.5, complex1 = 2+3j, list1 = [\"a\",\"b\"])"
   ]
  },
  {
   "cell_type": "markdown",
   "id": "e1d5aefb",
   "metadata": {},
   "source": [
    "Q3. What is an iterator in python? Name the method used to initialise the iterator object and the method\n",
    "used for iteration. Use these methods to print the first five elements of the given list [2, 4, 6, 8, 10, 12, 14, 16,\n",
    "18, 20]."
   ]
  },
  {
   "cell_type": "markdown",
   "id": "a89ee1ed",
   "metadata": {},
   "source": [
    "In Python, an iterator is an object that allows you to traverse through a sequence of elements or values one at a time. It provides a way to access the elements of a container or collection without exposing the underlying implementation"
   ]
  },
  {
   "cell_type": "code",
   "execution_count": 39,
   "id": "e0091040",
   "metadata": {},
   "outputs": [],
   "source": [
    "l =  [2, 4, 6, 8, 10, 12, 14, 16, 18, 20]"
   ]
  },
  {
   "cell_type": "markdown",
   "id": "c9979db0",
   "metadata": {},
   "source": [
    "to convert my list l to an iterator object i have to use iter function"
   ]
  },
  {
   "cell_type": "code",
   "execution_count": 40,
   "id": "825125a6",
   "metadata": {},
   "outputs": [],
   "source": [
    "l_iter = iter(l)"
   ]
  },
  {
   "cell_type": "code",
   "execution_count": 41,
   "id": "e21fa84a",
   "metadata": {},
   "outputs": [
    {
     "data": {
      "text/plain": [
       "list_iterator"
      ]
     },
     "execution_count": 41,
     "metadata": {},
     "output_type": "execute_result"
    }
   ],
   "source": [
    "type(l_iter)"
   ]
  },
  {
   "cell_type": "markdown",
   "id": "93bc6017",
   "metadata": {},
   "source": [
    "to traverse to iterator i have to use next method"
   ]
  },
  {
   "cell_type": "code",
   "execution_count": 43,
   "id": "adf75af7",
   "metadata": {},
   "outputs": [
    {
     "data": {
      "text/plain": [
       "2"
      ]
     },
     "execution_count": 43,
     "metadata": {},
     "output_type": "execute_result"
    }
   ],
   "source": [
    "next(l_iter)"
   ]
  },
  {
   "cell_type": "code",
   "execution_count": 44,
   "id": "747cbf4e",
   "metadata": {},
   "outputs": [
    {
     "data": {
      "text/plain": [
       "4"
      ]
     },
     "execution_count": 44,
     "metadata": {},
     "output_type": "execute_result"
    }
   ],
   "source": [
    "next(l_iter)"
   ]
  },
  {
   "cell_type": "code",
   "execution_count": 45,
   "id": "6da55f96",
   "metadata": {},
   "outputs": [
    {
     "data": {
      "text/plain": [
       "6"
      ]
     },
     "execution_count": 45,
     "metadata": {},
     "output_type": "execute_result"
    }
   ],
   "source": [
    "next(l_iter)"
   ]
  },
  {
   "cell_type": "code",
   "execution_count": 46,
   "id": "5174631a",
   "metadata": {},
   "outputs": [
    {
     "data": {
      "text/plain": [
       "8"
      ]
     },
     "execution_count": 46,
     "metadata": {},
     "output_type": "execute_result"
    }
   ],
   "source": [
    "next(l_iter)"
   ]
  },
  {
   "cell_type": "code",
   "execution_count": 47,
   "id": "afb93d83",
   "metadata": {},
   "outputs": [
    {
     "data": {
      "text/plain": [
       "10"
      ]
     },
     "execution_count": 47,
     "metadata": {},
     "output_type": "execute_result"
    }
   ],
   "source": [
    "next(l_iter)"
   ]
  },
  {
   "cell_type": "markdown",
   "id": "a708cb38",
   "metadata": {},
   "source": [
    "Q4. What is a generator function in python? Why yield keyword is used? Give an example of a generator\n",
    "function."
   ]
  },
  {
   "cell_type": "markdown",
   "id": "9bf0a19b",
   "metadata": {},
   "source": [
    "Generator are used to gernerate output on the during the runtime and it will not consume more memmory so dealing with large data is less time consuming"
   ]
  },
  {
   "cell_type": "markdown",
   "id": "73aa2436",
   "metadata": {},
   "source": [
    "Yeild function is used to create a generator object"
   ]
  },
  {
   "cell_type": "code",
   "execution_count": 99,
   "id": "ff2969ab",
   "metadata": {},
   "outputs": [],
   "source": [
    "l = list(range(0,25))"
   ]
  },
  {
   "cell_type": "code",
   "execution_count": 100,
   "id": "b99cc542",
   "metadata": {},
   "outputs": [],
   "source": [
    "def l_pow_2(z):\n",
    "    for i in z:\n",
    "        yield(i**2)"
   ]
  },
  {
   "cell_type": "code",
   "execution_count": 101,
   "id": "30ed3b43",
   "metadata": {},
   "outputs": [
    {
     "data": {
      "text/plain": [
       "generator"
      ]
     },
     "execution_count": 101,
     "metadata": {},
     "output_type": "execute_result"
    }
   ],
   "source": [
    "type(l_pow_2(l))"
   ]
  },
  {
   "cell_type": "code",
   "execution_count": 123,
   "id": "cfc7dba8",
   "metadata": {},
   "outputs": [],
   "source": [
    "l_pow_2_iter =  iter(l_pow_2(l))"
   ]
  },
  {
   "cell_type": "code",
   "execution_count": 124,
   "id": "5b65281a",
   "metadata": {},
   "outputs": [
    {
     "data": {
      "text/plain": [
       "0"
      ]
     },
     "execution_count": 124,
     "metadata": {},
     "output_type": "execute_result"
    }
   ],
   "source": [
    "next(l_pow_2_iter)"
   ]
  },
  {
   "cell_type": "code",
   "execution_count": 125,
   "id": "b5a00af7",
   "metadata": {},
   "outputs": [
    {
     "data": {
      "text/plain": [
       "1"
      ]
     },
     "execution_count": 125,
     "metadata": {},
     "output_type": "execute_result"
    }
   ],
   "source": [
    "next(l_pow_2_iter)"
   ]
  },
  {
   "cell_type": "code",
   "execution_count": 126,
   "id": "170d1a23",
   "metadata": {},
   "outputs": [
    {
     "data": {
      "text/plain": [
       "4"
      ]
     },
     "execution_count": 126,
     "metadata": {},
     "output_type": "execute_result"
    }
   ],
   "source": [
    "next(l_pow_2_iter)"
   ]
  },
  {
   "cell_type": "code",
   "execution_count": 127,
   "id": "b3d8b170",
   "metadata": {},
   "outputs": [
    {
     "data": {
      "text/plain": [
       "9"
      ]
     },
     "execution_count": 127,
     "metadata": {},
     "output_type": "execute_result"
    }
   ],
   "source": [
    "next(l_pow_2_iter)"
   ]
  },
  {
   "cell_type": "code",
   "execution_count": 106,
   "id": "4240b949",
   "metadata": {},
   "outputs": [
    {
     "name": "stdout",
     "output_type": "stream",
     "text": [
      "0\n",
      "1\n",
      "4\n",
      "9\n",
      "16\n",
      "25\n",
      "36\n",
      "49\n",
      "64\n",
      "81\n",
      "100\n",
      "121\n",
      "144\n",
      "169\n",
      "196\n",
      "225\n",
      "256\n",
      "289\n",
      "324\n",
      "361\n",
      "400\n",
      "441\n",
      "484\n",
      "529\n",
      "576\n"
     ]
    }
   ],
   "source": [
    "for i in l_pow_2(l):\n",
    "    print(i)"
   ]
  },
  {
   "cell_type": "code",
   "execution_count": 107,
   "id": "1b3f1fda",
   "metadata": {},
   "outputs": [],
   "source": [
    "def even_generator():\n",
    "    number = 0\n",
    "    while True:\n",
    "        yield number\n",
    "        number += 2"
   ]
  },
  {
   "cell_type": "code",
   "execution_count": 117,
   "id": "746acb3b",
   "metadata": {},
   "outputs": [],
   "source": [
    "even_iter = iter(even_generator())"
   ]
  },
  {
   "cell_type": "code",
   "execution_count": 120,
   "id": "e86816c2",
   "metadata": {},
   "outputs": [
    {
     "name": "stdout",
     "output_type": "stream",
     "text": [
      "0\n"
     ]
    }
   ],
   "source": [
    "print(next(even_iter))"
   ]
  },
  {
   "cell_type": "code",
   "execution_count": 121,
   "id": "7c9e021e",
   "metadata": {},
   "outputs": [
    {
     "name": "stdout",
     "output_type": "stream",
     "text": [
      "2\n"
     ]
    }
   ],
   "source": [
    "print(next(even_iter))"
   ]
  },
  {
   "cell_type": "code",
   "execution_count": 122,
   "id": "c58bdade",
   "metadata": {},
   "outputs": [
    {
     "name": "stdout",
     "output_type": "stream",
     "text": [
      "4\n"
     ]
    }
   ],
   "source": [
    "print(next(even_iter))"
   ]
  },
  {
   "cell_type": "markdown",
   "id": "d755d73c",
   "metadata": {},
   "source": [
    "Q5. Create a generator function for prime numbers less than 1000. Use the next() method to print the\n",
    "first 20 prime numbers."
   ]
  },
  {
   "cell_type": "code",
   "execution_count": 155,
   "id": "66785302",
   "metadata": {},
   "outputs": [],
   "source": [
    "def generator_prime():\n",
    "    \n",
    "    prime_number = []\n",
    "    \n",
    "    for i in range(2,1000):\n",
    "        is_prime = True\n",
    "        \n",
    "        for j in prime_number:\n",
    "            if i%j == 0:\n",
    "                is_prime = False\n",
    "                break\n",
    "                \n",
    "            if j*j > i:\n",
    "                break\n",
    "                \n",
    "        if is_prime == True:\n",
    "            prime_number.append(i)\n",
    "            yield(i)"
   ]
  },
  {
   "cell_type": "code",
   "execution_count": 156,
   "id": "4481bec9",
   "metadata": {},
   "outputs": [],
   "source": [
    "iter_prime = iter(generator_prime())"
   ]
  },
  {
   "cell_type": "code",
   "execution_count": 157,
   "id": "0eaafe22",
   "metadata": {},
   "outputs": [
    {
     "name": "stdout",
     "output_type": "stream",
     "text": [
      "2\n",
      "3\n",
      "5\n",
      "7\n",
      "11\n",
      "13\n",
      "17\n",
      "19\n",
      "23\n",
      "29\n",
      "31\n",
      "37\n",
      "41\n",
      "43\n",
      "47\n",
      "53\n",
      "59\n",
      "61\n",
      "67\n",
      "71\n"
     ]
    }
   ],
   "source": [
    "for i in range(0,20):\n",
    "    print(next(iter_prime))"
   ]
  },
  {
   "cell_type": "code",
   "execution_count": null,
   "id": "e18d6d0e",
   "metadata": {},
   "outputs": [],
   "source": []
  },
  {
   "cell_type": "code",
   "execution_count": null,
   "id": "cc027dba",
   "metadata": {},
   "outputs": [],
   "source": []
  }
 ],
 "metadata": {
  "kernelspec": {
   "display_name": "Python 3 (ipykernel)",
   "language": "python",
   "name": "python3"
  },
  "language_info": {
   "codemirror_mode": {
    "name": "ipython",
    "version": 3
   },
   "file_extension": ".py",
   "mimetype": "text/x-python",
   "name": "python",
   "nbconvert_exporter": "python",
   "pygments_lexer": "ipython3",
   "version": "3.10.9"
  }
 },
 "nbformat": 4,
 "nbformat_minor": 5
}
