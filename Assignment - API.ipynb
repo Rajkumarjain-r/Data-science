{
 "cells": [
  {
   "cell_type": "markdown",
   "id": "f3bfd312",
   "metadata": {},
   "source": [
    "Q1. What is an API? Give an example, where an API is used in real life.\n",
    "\n",
    "API is application programming interface. It used to communicate between two homogeneous or heterogenous systems.\n",
    "In real life API is used googlepay, google, gmail."
   ]
  },
  {
   "cell_type": "markdown",
   "id": "7a225068",
   "metadata": {},
   "source": [
    "Q2. Give advantages and disadvantages of using API.\n",
    "\n",
    "Advantages: scalable, security, flexiblity.The major benefit of using an API is accessing and consuming data and services from thousands of independent sources. This means organizations of all sizes can access these functionalities without developing their own specialized applications. \n",
    "\n",
    "Disadvantages:\n",
    "Complexity Security risks Lack of control Inability to store data outside the API's domain Complexity refers to their lack of flexibility when it comes to customization and features."
   ]
  },
  {
   "cell_type": "markdown",
   "id": "9e14705d",
   "metadata": {},
   "source": [
    "Q3. What is a Web API? Differentiate between API and Web API.\n",
    "\n",
    "Web API is an API as the name suggests, it can be accessed over the web using the HTTP protocol. It is a framework that helps you to create and develop HTTP based RESTFUL services. The web API can be developed by using different technologies such as java, ASP.NET, etc. Web API is used in either a web server or a web browser. Basically Web API is a web development concept. It is limited to Web Application’s client-side and also it does not include a web server or web browser details. If an application is to be used on a distributed system and to provide services on different devices like laptops, mobiles, etc then web API services are used. Web API is the enhanced form of the web application.\n",
    "\n",
    "Web API uses HTTP protocol. API means it can use TCP, SMTP, HTTP, HTTPS protocol for communication."
   ]
  },
  {
   "cell_type": "markdown",
   "id": "39a15c77",
   "metadata": {},
   "source": [
    "Q4. Explain REST and SOAP Architecture. Mention shortcomings of SOAP.\n",
    "\n",
    "REST is GET PUT POST and DELETE.A RESTful API is an architectural style for an application program interface (API) that uses HTTP requests to access and use data. That data can be used to GET, PUT, POST and DELETE data types, which refers to the reading, updating, creating and deleting of operations concerning resources. \n",
    "\n",
    "SOAP is XML and WSDL. SOAP is a protocol for the exchange of information in a distributed environment. SOAP messages are encoded as XML documents and can be exchanged using various underlying protocols.\n",
    "The shortcoming of SOAP is Slow: SOAP uses XML format that must be parsed to be read. It defines many standards that must be followed while developing the SOAP applications. So it is slow and consumes more bandwidth and resource."
   ]
  },
  {
   "cell_type": "markdown",
   "id": "f9547986",
   "metadata": {},
   "source": [
    "Q5. Differentiate between REST and SOAP.\n",
    "\n",
    "REST : Representational State Transfer\n",
    "Generally transports data in JSON. It is based on URI. Because REST follows stateless model, REST does not enforces message format as XML or JSON etc.\n",
    "It works with GET, POST, PUT, DELETE\n",
    "Designed with mobile devices in mind\n",
    "Works over HTTP and HTTPS\n",
    "\n",
    "\n",
    "SOAP:Simple object access protocol\n",
    "Transports data in standard XML format.\n",
    "Because it is XML based and relies on SOAP, it works with WSDL\n",
    "Designed with large enterprise applications in mind\n",
    "Works over HTTP, HTTPS, SMTP, XMPP"
   ]
  }
 ],
 "metadata": {
  "kernelspec": {
   "display_name": "Python 3 (ipykernel)",
   "language": "python",
   "name": "python3"
  },
  "language_info": {
   "codemirror_mode": {
    "name": "ipython",
    "version": 3
   },
   "file_extension": ".py",
   "mimetype": "text/x-python",
   "name": "python",
   "nbconvert_exporter": "python",
   "pygments_lexer": "ipython3",
   "version": "3.10.9"
  }
 },
 "nbformat": 4,
 "nbformat_minor": 5
}
