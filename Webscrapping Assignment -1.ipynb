{
 "cells": [
  {
   "cell_type": "markdown",
   "id": "dceb6332",
   "metadata": {},
   "source": [
    "Q1. What is Web Scraping? Why is it Used? Give three areas where Web Scraping is used to get data.\n",
    "\n",
    "web scrapping means extracting data of websites over the internet\n",
    "Webscrapping is used to get data over internet and use for analysis\n",
    "Business and market research, Financial investments, Academic and scientific research"
   ]
  },
  {
   "cell_type": "markdown",
   "id": "2b0bbbcb",
   "metadata": {},
   "source": [
    "Q2. What are the different methods used for Web Scraping?\n",
    "\n",
    "Manual copy paste to get data\n",
    "Using Regular Expressions (Regex): Regular expressions are powerful patterns used to search and extract specific content from HTML or text-based web pages. By defining patterns that match the desired data, regex can be used to extract information based on predefined rules. Regex-based scraping can be useful for extracting structured data from websites with consistent formatting\n",
    "\n",
    "HTML parsing involves using programming libraries and tools to parse the HTML structure of web pages\n",
    "\n",
    "Headless browsers, such as Puppeteer (JavaScript) or Selenium (multiple languages), simulate web browsers without a graphical user interface. They allow you to programmatically control the browser, load web pages, and interact with elements. This method is useful for scraping websites that rely heavily on JavaScript to render content.\n"
   ]
  },
  {
   "cell_type": "markdown",
   "id": "5cc087c9",
   "metadata": {},
   "source": [
    "Q3. What is Beautiful Soup? Why is it used?\n",
    "\n",
    "Beautiful Soup is a popular Python library used for web scraping and parsing HTML or XML documents. It provides a convenient way to extract data from web pages by parsing the HTML structure\n",
    "\n",
    "It used for html parsing and has different find methods to search data in html\n",
    "\n"
   ]
  },
  {
   "cell_type": "markdown",
   "id": "89b93b2e",
   "metadata": {},
   "source": [
    "Q4. Why is flask used in this Web Scraping project?\n",
    "\n",
    "Flask is used to create an api to show the results as a website"
   ]
  },
  {
   "cell_type": "markdown",
   "id": "df38e99b",
   "metadata": {},
   "source": [
    "Q5. Write the names of AWS services used in this project. Also, explain the use of each service.\n",
    "\n",
    "Aws is used for the deployment of the code from github so the project is public\n",
    "\n",
    "Elastic beanstalk and code pipeline is been used for this.\n",
    "\n",
    "Elastic beanstalk is used to create resources for the project like cpu. Elastic Beanstalk simplifies the deployment process by providing a platform where you can easily upload your application code. It supports applications developed in various programming languages, including Java, .NET, PHP, Node.js, Python, Ruby, and Go\n",
    "\n",
    "Code pipeline is used to connect the github and the elasticbean stalk. It represents the workflow for building, testing, and deploying software"
   ]
  },
  {
   "cell_type": "code",
   "execution_count": null,
   "id": "0aa80b3c",
   "metadata": {},
   "outputs": [],
   "source": []
  },
  {
   "cell_type": "code",
   "execution_count": null,
   "id": "6f720b4f",
   "metadata": {},
   "outputs": [],
   "source": []
  }
 ],
 "metadata": {
  "kernelspec": {
   "display_name": "Python 3 (ipykernel)",
   "language": "python",
   "name": "python3"
  },
  "language_info": {
   "codemirror_mode": {
    "name": "ipython",
    "version": 3
   },
   "file_extension": ".py",
   "mimetype": "text/x-python",
   "name": "python",
   "nbconvert_exporter": "python",
   "pygments_lexer": "ipython3",
   "version": "3.10.9"
  }
 },
 "nbformat": 4,
 "nbformat_minor": 5
}
