{
 "cells": [
  {
   "cell_type": "markdown",
   "id": "05ce8e10",
   "metadata": {},
   "source": [
    "Q1, Create a vehicle class with an init method having instance variables as name_of_vehicle, max_speed\n",
    "and average_of_vehicle."
   ]
  },
  {
   "cell_type": "code",
   "execution_count": 2,
   "id": "31498568",
   "metadata": {},
   "outputs": [],
   "source": [
    "class vehicle:\n",
    "    def __init__(self,name_of_vehicle, max_speed, average_of_vehicle):\n",
    "        self.name_of_vehicle = name_of_vehicle\n",
    "        self.max_speed = max_speed\n",
    "        self.average_of_vehicle = average_of_vehicle"
   ]
  },
  {
   "cell_type": "markdown",
   "id": "66b273a4",
   "metadata": {},
   "source": [
    "Q2. Create a child class car from the vehicle class created in Que 1, which will inherit the vehicle class.\n",
    "Create a method named seating_capacity which takes capacity as an argument and returns the name of\n",
    "the vehicle and its seating capacity."
   ]
  },
  {
   "cell_type": "code",
   "execution_count": 10,
   "id": "04d7cc57",
   "metadata": {},
   "outputs": [],
   "source": [
    "class car(vehicle):\n",
    "    def seating_capacity(self,capacity):\n",
    "        return(self.name_of_vehicle,capacity)"
   ]
  },
  {
   "cell_type": "code",
   "execution_count": 11,
   "id": "e432344d",
   "metadata": {},
   "outputs": [],
   "source": [
    "obj_car = car(\"ford\",\"100kmph\",\"30km\")"
   ]
  },
  {
   "cell_type": "code",
   "execution_count": 12,
   "id": "7a0c7eca",
   "metadata": {},
   "outputs": [
    {
     "data": {
      "text/plain": [
       "('ford', 5)"
      ]
     },
     "execution_count": 12,
     "metadata": {},
     "output_type": "execute_result"
    }
   ],
   "source": [
    "obj_car.seating_capacity(5)"
   ]
  },
  {
   "cell_type": "markdown",
   "id": "8ed2b007",
   "metadata": {},
   "source": [
    "Q3. What is multiple inheritance? Write a python code to demonstrate multiple inheritance."
   ]
  },
  {
   "cell_type": "code",
   "execution_count": 13,
   "id": "870b8321",
   "metadata": {},
   "outputs": [],
   "source": [
    "class l1:\n",
    "    def display_l1(self):\n",
    "        return(\"This is from l1 class\")\n",
    "class l2:\n",
    "    def display_l2(self):\n",
    "        return(\"This is from l2 class\")\n",
    "class l3:\n",
    "    def display_l3(self):\n",
    "        return(\"This is from l3 class\")\n",
    "class l4:\n",
    "    def display_l4(self):\n",
    "        return(\"This is from l4 class\")\n",
    "class l5(l1,l2,l3,l4):\n",
    "    pass"
   ]
  },
  {
   "cell_type": "code",
   "execution_count": 14,
   "id": "63edf2cf",
   "metadata": {},
   "outputs": [],
   "source": [
    "multi  = l5()"
   ]
  },
  {
   "cell_type": "code",
   "execution_count": 17,
   "id": "c84146e6",
   "metadata": {},
   "outputs": [
    {
     "data": {
      "text/plain": [
       "'This is from l4 class'"
      ]
     },
     "execution_count": 17,
     "metadata": {},
     "output_type": "execute_result"
    }
   ],
   "source": [
    "multi.display_l4()"
   ]
  },
  {
   "cell_type": "code",
   "execution_count": 16,
   "id": "fd8a58a2",
   "metadata": {},
   "outputs": [
    {
     "data": {
      "text/plain": [
       "'This is from l3 class'"
      ]
     },
     "execution_count": 16,
     "metadata": {},
     "output_type": "execute_result"
    }
   ],
   "source": [
    "multi.display_l3()"
   ]
  },
  {
   "cell_type": "markdown",
   "id": "6c3fb888",
   "metadata": {},
   "source": [
    "Q4. What are getter and setter in python? Create a class and create a getter and a setter method in this\n",
    "class."
   ]
  },
  {
   "cell_type": "markdown",
   "id": "c111b3ed",
   "metadata": {},
   "source": [
    "In Python, getters and setters are methods used to control access to class attributes or properties. They provide a way to retrieve and modify the values of private attributes while encapsulating the implementation details within the class. Getters are used to retrieve the value of an attribute, while setters are used to modify or set the value of an attribute."
   ]
  },
  {
   "cell_type": "code",
   "execution_count": 19,
   "id": "82adf608",
   "metadata": {},
   "outputs": [],
   "source": [
    "class myclass:\n",
    "    my_attribute = 'my attribute'\n",
    "    \n",
    "    def get_attribute(self): #getter function\n",
    "        return myclass.my_attribute\n",
    "    \n",
    "    def set_attribute(self,set_value):\n",
    "        myclass.my_attribute = set_value"
   ]
  },
  {
   "cell_type": "code",
   "execution_count": 20,
   "id": "3e1ec16b",
   "metadata": {},
   "outputs": [],
   "source": [
    "obj_myclass = myclass()"
   ]
  },
  {
   "cell_type": "code",
   "execution_count": 21,
   "id": "a4cb7730",
   "metadata": {},
   "outputs": [
    {
     "data": {
      "text/plain": [
       "'my attribute'"
      ]
     },
     "execution_count": 21,
     "metadata": {},
     "output_type": "execute_result"
    }
   ],
   "source": [
    "obj_myclass.get_attribute()"
   ]
  },
  {
   "cell_type": "code",
   "execution_count": 22,
   "id": "005784b4",
   "metadata": {},
   "outputs": [],
   "source": [
    "obj_myclass.set_attribute(\"New attribute value\")"
   ]
  },
  {
   "cell_type": "code",
   "execution_count": 23,
   "id": "6cbf6b79",
   "metadata": {},
   "outputs": [
    {
     "data": {
      "text/plain": [
       "'New attribute value'"
      ]
     },
     "execution_count": 23,
     "metadata": {},
     "output_type": "execute_result"
    }
   ],
   "source": [
    "obj_myclass.get_attribute()"
   ]
  },
  {
   "cell_type": "markdown",
   "id": "bde9849b",
   "metadata": {},
   "source": [
    "Q5.What is method overriding in python? Write a python code to demonstrate method overriding."
   ]
  },
  {
   "cell_type": "markdown",
   "id": "d39a1d25",
   "metadata": {},
   "source": [
    "\n",
    "Method overriding in Python is a concept where a subclass provides its own implementation of a method that is already defined in its parent class. The overridden method in the subclass has the same name and the same parameters as the method in the parent class, but it provides a different implementation."
   ]
  },
  {
   "cell_type": "code",
   "execution_count": 24,
   "id": "50842e0b",
   "metadata": {},
   "outputs": [],
   "source": [
    "class parent:\n",
    "    def display(self):\n",
    "        return(\"I am from parent\")\n",
    "\n",
    "\n",
    "class child(parent):\n",
    "    def display(self):\n",
    "        return(\"I am from child\")"
   ]
  },
  {
   "cell_type": "code",
   "execution_count": 25,
   "id": "f8ab21b0",
   "metadata": {},
   "outputs": [],
   "source": [
    "c = child()"
   ]
  },
  {
   "cell_type": "code",
   "execution_count": 26,
   "id": "33753eae",
   "metadata": {},
   "outputs": [
    {
     "data": {
      "text/plain": [
       "'I am from child'"
      ]
     },
     "execution_count": 26,
     "metadata": {},
     "output_type": "execute_result"
    }
   ],
   "source": [
    "c.display() # here display method of parent is overridden by child class"
   ]
  },
  {
   "cell_type": "code",
   "execution_count": null,
   "id": "023f378e",
   "metadata": {},
   "outputs": [],
   "source": []
  }
 ],
 "metadata": {
  "kernelspec": {
   "display_name": "Python 3 (ipykernel)",
   "language": "python",
   "name": "python3"
  },
  "language_info": {
   "codemirror_mode": {
    "name": "ipython",
    "version": 3
   },
   "file_extension": ".py",
   "mimetype": "text/x-python",
   "name": "python",
   "nbconvert_exporter": "python",
   "pygments_lexer": "ipython3",
   "version": "3.10.9"
  }
 },
 "nbformat": 4,
 "nbformat_minor": 5
}
