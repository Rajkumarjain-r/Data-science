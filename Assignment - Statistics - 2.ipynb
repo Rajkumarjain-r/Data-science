{
 "cells": [
  {
   "cell_type": "markdown",
   "id": "f382ed08",
   "metadata": {},
   "source": [
    "Q1. What are the three measures of central tendency?\n",
    "\n",
    "mean median mode"
   ]
  },
  {
   "cell_type": "markdown",
   "id": "0cf621d3",
   "metadata": {},
   "source": [
    "Q2. What is the difference between the mean, median, and mode? How are they used to measure the\n",
    "central tendency of a dataset?\n",
    "\n",
    "mean is avg of the dataset\n",
    "median is center of the data after sorting\n",
    "mode is most frequently occurred element of the data.\n",
    "if mean = median  = mode then the data is like a gauss curve or normal distrubitution\n",
    "if mean > median > mode then its log normal distribution"
   ]
  },
  {
   "cell_type": "code",
   "execution_count": null,
   "id": "7280666e",
   "metadata": {},
   "outputs": [],
   "source": [
    "Q3. Measure the three measures of central tendency for the given height data:\n",
    "[178,177,176,177,178.2,178,175,179,180,175,178.9,176.2,177,172.5,178,176.5]"
   ]
  },
  {
   "cell_type": "code",
   "execution_count": 1,
   "id": "afd25ca8",
   "metadata": {},
   "outputs": [],
   "source": [
    "h = [178,177,176,177,178.2,178,175,179,180,175,178.9,176.2,177,172.5,178,176.5]"
   ]
  },
  {
   "cell_type": "code",
   "execution_count": 2,
   "id": "394b0ef0",
   "metadata": {},
   "outputs": [],
   "source": [
    "import numpy as np"
   ]
  },
  {
   "cell_type": "code",
   "execution_count": 3,
   "id": "42d93bf1",
   "metadata": {},
   "outputs": [
    {
     "data": {
      "text/plain": [
       "177.01875"
      ]
     },
     "execution_count": 3,
     "metadata": {},
     "output_type": "execute_result"
    }
   ],
   "source": [
    "np.mean(h)"
   ]
  },
  {
   "cell_type": "code",
   "execution_count": 4,
   "id": "c604c943",
   "metadata": {},
   "outputs": [
    {
     "data": {
      "text/plain": [
       "177.0"
      ]
     },
     "execution_count": 4,
     "metadata": {},
     "output_type": "execute_result"
    }
   ],
   "source": [
    "np.median(h)"
   ]
  },
  {
   "cell_type": "code",
   "execution_count": 5,
   "id": "d6de1187",
   "metadata": {},
   "outputs": [
    {
     "name": "stderr",
     "output_type": "stream",
     "text": [
      "C:\\Users\\rajmr\\AppData\\Local\\Temp\\ipykernel_13192\\2113107346.py:2: FutureWarning: Unlike other reduction functions (e.g. `skew`, `kurtosis`), the default behavior of `mode` typically preserves the axis it acts along. In SciPy 1.11.0, this behavior will change: the default value of `keepdims` will become False, the `axis` over which the statistic is taken will be eliminated, and the value None will no longer be accepted. Set `keepdims` to True or False to avoid this warning.\n",
      "  st.mode(h)\n"
     ]
    },
    {
     "data": {
      "text/plain": [
       "ModeResult(mode=array([177.]), count=array([3]))"
      ]
     },
     "execution_count": 5,
     "metadata": {},
     "output_type": "execute_result"
    }
   ],
   "source": [
    "from scipy import stats as st\n",
    "st.mode(h)"
   ]
  },
  {
   "cell_type": "code",
   "execution_count": null,
   "id": "6698337e",
   "metadata": {},
   "outputs": [],
   "source": [
    "Q4. Find the standard deviation for the given data:\n",
    "[178,177,176,177,178.2,178,175,179,180,175,178.9,176.2,177,172.5,178,176.5]"
   ]
  },
  {
   "cell_type": "code",
   "execution_count": 6,
   "id": "11e219d5",
   "metadata": {},
   "outputs": [],
   "source": [
    "h =[178,177,176,177,178.2,178,175,179,180,175,178.9,176.2,177,172.5,178,176.5]"
   ]
  },
  {
   "cell_type": "code",
   "execution_count": 7,
   "id": "815ff1cf",
   "metadata": {},
   "outputs": [
    {
     "data": {
      "text/plain": [
       "1.7885814036548633"
      ]
     },
     "execution_count": 7,
     "metadata": {},
     "output_type": "execute_result"
    }
   ],
   "source": [
    "np.std(h)"
   ]
  },
  {
   "cell_type": "code",
   "execution_count": null,
   "id": "059e339f",
   "metadata": {},
   "outputs": [],
   "source": [
    "Q5. How are measures of dispersion such as range, variance, and standard deviation used to describe\n",
    "the spread of a dataset? Provide an example."
   ]
  },
  {
   "cell_type": "markdown",
   "id": "449c9d8a",
   "metadata": {},
   "source": [
    "these are used find the spread of the data around central tendency of the data is that mean median mode\n",
    "\n",
    "range is diff between min and max and its simplest way for representing the spread. eh temp [ 34, 35 , 37 , 38 , 39 , 40 , 35]\n",
    "so here the range is 5 means temperature range is 35 to 40\n",
    "\n",
    "standard deviation :standard deviation is a measure of how much variation there is among individual data points in a population. It's a way of quantifying how spread out the data is from its mean. A small standard deviation means that the data points are generally close to the mean, while a large standard deviation means that the data is more dispersed\n",
    "\n",
    "variance : variance is a measure of how spread out a group of data points is. Specifically, it quantifies the average squared deviation from the mean. So, if all data points are very close to the mean, the variance will be small; if data points are spread out over a wide range, the variance will be larger"
   ]
  },
  {
   "cell_type": "code",
   "execution_count": null,
   "id": "ea1020ff",
   "metadata": {},
   "outputs": [],
   "source": [
    "h =[178,177,176,177,178.2,178,175,179,180,175,178.9,176.2,177,172.5,178,176.5]"
   ]
  },
  {
   "cell_type": "code",
   "execution_count": 10,
   "id": "d97f8633",
   "metadata": {},
   "outputs": [
    {
     "data": {
      "text/plain": [
       "1.7885814036548633"
      ]
     },
     "execution_count": 10,
     "metadata": {},
     "output_type": "execute_result"
    }
   ],
   "source": [
    "np.std(h)"
   ]
  },
  {
   "cell_type": "code",
   "execution_count": 11,
   "id": "7636c47f",
   "metadata": {},
   "outputs": [
    {
     "data": {
      "text/plain": [
       "177.01875"
      ]
     },
     "execution_count": 11,
     "metadata": {},
     "output_type": "execute_result"
    }
   ],
   "source": [
    "np.mean(h)"
   ]
  },
  {
   "cell_type": "code",
   "execution_count": 12,
   "id": "485e551b",
   "metadata": {},
   "outputs": [
    {
     "data": {
      "text/plain": [
       "3.199023437500001"
      ]
     },
     "execution_count": 12,
     "metadata": {},
     "output_type": "execute_result"
    }
   ],
   "source": [
    "np.var(h)"
   ]
  },
  {
   "cell_type": "markdown",
   "id": "e97b587a",
   "metadata": {},
   "source": [
    "so in the above eg standard deviation is small so  all the data points are near the mean. it means the difference between the datapoints is less from mean"
   ]
  },
  {
   "cell_type": "markdown",
   "id": "5890092c",
   "metadata": {},
   "source": [
    "Q6. What is a Venn diagram?\n",
    "Venn Diagram is a pictorial representation of sets and their operations using circle"
   ]
  },
  {
   "cell_type": "code",
   "execution_count": null,
   "id": "451b8ba0",
   "metadata": {},
   "outputs": [],
   "source": [
    "Q7. For the two given sets A = (2,3,4,5,6,7) & B = (0,2,6,8,10). Find:\n",
    "(i) A B\n",
    "(ii) A ⋃ B"
   ]
  },
  {
   "cell_type": "code",
   "execution_count": 14,
   "id": "8f5e4bfb",
   "metadata": {},
   "outputs": [],
   "source": [
    "A  = {2,3,4,5,6,7 }\n",
    "B = {0,2,6,8,10}"
   ]
  },
  {
   "cell_type": "code",
   "execution_count": 15,
   "id": "04a04aee",
   "metadata": {},
   "outputs": [
    {
     "data": {
      "text/plain": [
       "{0, 2, 3, 4, 5, 6, 7, 8, 10}"
      ]
     },
     "execution_count": 15,
     "metadata": {},
     "output_type": "execute_result"
    }
   ],
   "source": [
    "A.union(B)"
   ]
  },
  {
   "cell_type": "code",
   "execution_count": 16,
   "id": "5dfc6073",
   "metadata": {},
   "outputs": [
    {
     "data": {
      "text/plain": [
       "{2, 6}"
      ]
     },
     "execution_count": 16,
     "metadata": {},
     "output_type": "execute_result"
    }
   ],
   "source": [
    "A.intersection(B)"
   ]
  },
  {
   "cell_type": "markdown",
   "id": "24f6410f",
   "metadata": {},
   "source": [
    "Q8. What do you understand about skewness in data?\n",
    "\n",
    "Skewness in statistics is a measure of lack of symmetry i.e. it measures the deviation of the given distribution of a random variable from a symmetric distribution (like normal Distribution)."
   ]
  },
  {
   "cell_type": "markdown",
   "id": "bbf276b1",
   "metadata": {},
   "source": [
    "Q9. If a data is right skewed then what will be the position of median with respect to mean?\n",
    "\n",
    "it means that mean > median > mode. its means area of the curve is bend more on the right side. its a log normal distribution"
   ]
  },
  {
   "cell_type": "markdown",
   "id": "5e9b1755",
   "metadata": {},
   "source": [
    "Q10. Explain the difference between covariance and correlation. How are these measures used in\n",
    "statistical analysis?\n",
    "\n",
    "Covariance indicates the linear relationship between variables, whereas correlation measures the direction and strength of the linear relationship between variables\n",
    "\n",
    "Using these you can quantify the relationship between variables and then use these to select, add, or remove the variable."
   ]
  },
  {
   "cell_type": "markdown",
   "id": "8a72b7d6",
   "metadata": {},
   "source": [
    "Q11. What is the formula for calculating the sample mean? Provide an example calculation for a\n",
    "dataset.\n",
    "\n",
    "mean is sum of elements divided by number of elements\n"
   ]
  },
  {
   "cell_type": "code",
   "execution_count": 17,
   "id": "0b69364b",
   "metadata": {},
   "outputs": [
    {
     "data": {
      "text/plain": [
       "177.01875"
      ]
     },
     "execution_count": 17,
     "metadata": {},
     "output_type": "execute_result"
    }
   ],
   "source": [
    "np.mean(h)"
   ]
  },
  {
   "cell_type": "markdown",
   "id": "40e065a4",
   "metadata": {},
   "source": [
    "Q12. For a normal distribution data what is the relationship between its measure of central tendency?\n",
    "\n",
    "mean = median = mode"
   ]
  },
  {
   "cell_type": "markdown",
   "id": "f9973840",
   "metadata": {},
   "source": [
    "Q13. How is covariance different from correlation?\n",
    "\n",
    "Statistically, covariance deals with the joint variability of any two variables x and y. Generally, we can say that covariance is a statistical tool to define a relation between two variables x and y making use of their mean. However, correlation defines the depth of that relationship between the two variables."
   ]
  },
  {
   "cell_type": "markdown",
   "id": "3ecd039f",
   "metadata": {},
   "source": [
    "Q14. How do outliers affect measures of central tendency and dispersion? Provide an example.\n",
    "\n",
    "When a outlier is present it can effect the shape of the graph, if we have outliers to the right of the graph. These outliers are causing the mean to increase, but if we have outliers to the left of the graph these outliers are dragging down the mean."
   ]
  },
  {
   "cell_type": "code",
   "execution_count": 18,
   "id": "be155eb4",
   "metadata": {},
   "outputs": [
    {
     "data": {
      "text/plain": [
       "[178,\n",
       " 177,\n",
       " 176,\n",
       " 177,\n",
       " 178.2,\n",
       " 178,\n",
       " 175,\n",
       " 179,\n",
       " 180,\n",
       " 175,\n",
       " 178.9,\n",
       " 176.2,\n",
       " 177,\n",
       " 172.5,\n",
       " 178,\n",
       " 176.5]"
      ]
     },
     "execution_count": 18,
     "metadata": {},
     "output_type": "execute_result"
    }
   ],
   "source": [
    "h"
   ]
  },
  {
   "cell_type": "code",
   "execution_count": 19,
   "id": "1776e5ca",
   "metadata": {},
   "outputs": [
    {
     "data": {
      "text/plain": [
       "177.01875"
      ]
     },
     "execution_count": 19,
     "metadata": {},
     "output_type": "execute_result"
    }
   ],
   "source": [
    "np.mean(h)"
   ]
  },
  {
   "cell_type": "code",
   "execution_count": 20,
   "id": "78ad5218",
   "metadata": {},
   "outputs": [],
   "source": [
    "h =[178,177,176,177,178.2,178,175,179,180,175,178.9,176.2,177,172.5,178,176.5,1000]"
   ]
  },
  {
   "cell_type": "code",
   "execution_count": 21,
   "id": "adfad99c",
   "metadata": {},
   "outputs": [
    {
     "data": {
      "text/plain": [
       "225.4294117647059"
      ]
     },
     "execution_count": 21,
     "metadata": {},
     "output_type": "execute_result"
    }
   ],
   "source": [
    "np.mean(h)"
   ]
  },
  {
   "cell_type": "code",
   "execution_count": null,
   "id": "be3299a9",
   "metadata": {},
   "outputs": [],
   "source": [
    "see how mean is shifted to the right just by introducing by outlier"
   ]
  }
 ],
 "metadata": {
  "kernelspec": {
   "display_name": "Python 3 (ipykernel)",
   "language": "python",
   "name": "python3"
  },
  "language_info": {
   "codemirror_mode": {
    "name": "ipython",
    "version": 3
   },
   "file_extension": ".py",
   "mimetype": "text/x-python",
   "name": "python",
   "nbconvert_exporter": "python",
   "pygments_lexer": "ipython3",
   "version": "3.10.9"
  }
 },
 "nbformat": 4,
 "nbformat_minor": 5
}
