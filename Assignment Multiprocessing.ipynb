{
 "cells": [
  {
   "cell_type": "code",
   "execution_count": 1,
   "id": "dc73d7e1-30e2-41c7-9c96-557610838212",
   "metadata": {},
   "outputs": [],
   "source": [
    "import multiprocessing"
   ]
  },
  {
   "cell_type": "markdown",
   "id": "2808b913-b203-4cc7-96d5-bfd5ca61b31a",
   "metadata": {},
   "source": [
    "Q1. What is multiprocessing in python? Why is it useful?\n",
    "\n",
    "In Python, multiprocessing refers to the ability to run multiple processes concurrently to achieve parallel execution. It is a way to leverage the capabilities of modern multi-core processors and distribute the workload across multiple CPU cores.\n",
    "\n",
    "Python's multiprocessing module provides a high-level interface for spawning processes, and it closely resembles the threading module, which is used for thread-based parallelism. However, unlike threads, which run within a single process and share the same memory space, processes in multiprocessing have their own memory space and run independently. This allows for true parallelism and can take advantage of all available CPU cores.\n"
   ]
  },
  {
   "cell_type": "markdown",
   "id": "90a3e226-70a1-4590-aa9a-854380266709",
   "metadata": {},
   "source": [
    "Q2. What are the differences between multiprocessing and multithreading?\n",
    "\n",
    "multiprocessing and multithreading offer different approaches to concurrent execution. Multiprocessing provides true parallelism, strong fault isolation, and efficient utilization of CPU cores but comes with higher overhead and complexity. Multithreading allows for simpler communication and shared memory but may not achieve true parallelism in Python due to the GIL. The choice between multiprocessing and multithreading depends on the nature of the problem, the available resources, and the specific requirements of the application"
   ]
  },
  {
   "cell_type": "markdown",
   "id": "78ed8b1f-10f1-496b-8708-ffc44d73dcac",
   "metadata": {},
   "source": [
    "Q3. Write a python code to create a process using the multiprocessing module."
   ]
  },
  {
   "cell_type": "code",
   "execution_count": 3,
   "id": "04b5fd4e-d14e-4f51-8afb-191067aaa5a6",
   "metadata": {},
   "outputs": [],
   "source": [
    "url_list = ['https://raw.githubusercontent.com/itsfoss/text-files/master/agatha.txt' , 'https://raw.githubusercontent.com/itsfoss/text-files/master/sherlock.txt' ,'https://raw.githubusercontent.com/itsfoss/text-files/master/sample_log_file.txt' ]"
   ]
  },
  {
   "cell_type": "code",
   "execution_count": 8,
   "id": "da8b1264-3416-41b4-bbc1-59f8b2dfe64c",
   "metadata": {},
   "outputs": [],
   "source": [
    "filename = [\"data_%d.txt\" %i for i in range(len(url_list))]"
   ]
  },
  {
   "cell_type": "code",
   "execution_count": 9,
   "id": "aed19c3b-4eb0-43fc-b615-0a000ad6ecd0",
   "metadata": {},
   "outputs": [
    {
     "data": {
      "text/plain": [
       "['data_0.txt', 'data_1.txt', 'data_2.txt']"
      ]
     },
     "execution_count": 28,
     "metadata": {},
     "output_type": "execute_result"
    }
   ],
   "source": [
    "filename"
   ]
  },
  {
   "cell_type": "code",
   "execution_count": 10,
   "id": "92bb1f77-df92-46fe-b7bf-6d4285e43fc1",
   "metadata": {},
   "outputs": [],
   "source": [
    "import urllib.request"
   ]
  },
  {
   "cell_type": "code",
   "execution_count": 11,
   "id": "6cdae2f0-2d1e-4d36-b19f-af5444a22175",
   "metadata": {},
   "outputs": [],
   "source": [
    "def get_data(url,filename):\n",
    "    urllib.request.urlretrieve(url,filename)"
   ]
  },
  {
   "cell_type": "code",
   "execution_count": 32,
   "id": "816c51ca-037a-4596-81e7-d6f3f0869889",
   "metadata": {},
   "outputs": [],
   "source": [
    "if __name__ == \"__main__\":\n",
    "    for i in range(len(url_list)):\n",
    "        var_name = f\"m{i}\"\n",
    "        exec(f\"{var_name}  = multiprocessing.Process(target=get_data,args=(url_list[i],filename[i]))\")\n",
    "        exec(f\"{var_name}.start()\")\n",
    "        exec(f\"{var_name}.join()\")                                                    "
   ]
  },
  {
   "cell_type": "markdown",
   "id": "a10a8b18-bc72-4d8e-a3b5-2672fbc48477",
   "metadata": {},
   "source": [
    "Q4. What is a multiprocessing pool in python? Why is it used?\n",
    "\n",
    "In Python, a multiprocessing pool is a mechanism provided by the multiprocessing module that allows for the creation and management of a pool of worker processes. It simplifies the process of parallelizing tasks by distributing them among multiple processes in the pool.\n",
    "\n",
    "Here's how a multiprocessing pool works:\n",
    "\n",
    "Pool Creation: You create a pool of worker processes using the multiprocessing.Pool() constructor. You specify the number of processes you want in the pool, which can be equal to the number of CPU cores available on your system or a specific number you desire.\n",
    "\n",
    "Task Distribution: Once the pool is created, you can submit tasks to it using the apply(), map(), or imap() methods provided by the pool. These methods automatically distribute the tasks among the worker processes in the pool.\n",
    "\n",
    "apply() is used for submitting individual tasks. It blocks until the task is complete and returns the result.\n",
    "map() is used for submitting multiple tasks at once as an iterable. It returns a list of results in the order of task submission.\n",
    "imap() is similar to map(), but it returns an iterator that can be used to lazily retrieve the results.\n",
    "Task Execution: The worker processes in the pool execute the tasks concurrently. Each worker picks up a task from the task queue, executes it, and returns the result back to the main process.\n",
    "\n",
    "Result Retrieval: Once the tasks are completed, you can retrieve the results using the return values of the pool methods or by iterating over the iterator returned by imap(). The results are returned in the order of task completion."
   ]
  },
  {
   "cell_type": "markdown",
   "id": "4c26d327-0d69-4032-b3e0-fc07f8dc7883",
   "metadata": {},
   "source": [
    "Q5. How can we create a pool of worker processes in python using the multiprocessing module?\n",
    "\n",
    "multiprocessing.cpu_count() will get the no of cpu cores avaliable and \n",
    "\n",
    "and \n",
    "pool = multiprocessing.Pool(processes=multiprocessing.cpu_count())"
   ]
  },
  {
   "cell_type": "code",
   "execution_count": 33,
   "id": "fd94e2f3-c2f0-4b3a-b888-2893f3c06ce8",
   "metadata": {},
   "outputs": [
    {
     "data": {
      "text/plain": [
       "64"
      ]
     },
     "execution_count": 33,
     "metadata": {},
     "output_type": "execute_result"
    }
   ],
   "source": [
    "multiprocessing.cpu_count()"
   ]
  },
  {
   "cell_type": "code",
   "execution_count": 34,
   "id": "f29de88d-2ae6-4ba0-bdf1-773db7f630d8",
   "metadata": {},
   "outputs": [],
   "source": [
    "def area_circle(radius):\n",
    "    return(3.14*radius*radius) "
   ]
  },
  {
   "cell_type": "code",
   "execution_count": 35,
   "id": "6d3afc0d-570e-4e2f-bedf-38adb01ff786",
   "metadata": {},
   "outputs": [],
   "source": [
    "list_of_radius = [5,89,8956,474,5266,74]"
   ]
  },
  {
   "cell_type": "code",
   "execution_count": 37,
   "id": "e95a4737-d95f-4aa9-842c-5a8a7069d0ea",
   "metadata": {},
   "outputs": [
    {
     "name": "stdout",
     "output_type": "stream",
     "text": [
      "[78.5, 24871.940000000002, 251859199.04, 705482.64, 87074573.84, 17194.64]\n"
     ]
    }
   ],
   "source": [
    "if __name__ == \"__main__\":\n",
    "    pool = multiprocessing.Pool(processes = multiprocessing.cpu_count())\n",
    "    out = pool.map(area_circle,list_of_radius)\n",
    "    print(out)\n",
    "    "
   ]
  },
  {
   "cell_type": "markdown",
   "id": "22bd35ae-6046-49da-b8a1-7364cf47b614",
   "metadata": {},
   "source": [
    "Q6. Write a python program to create 4 processes, each process should print a different number using the\n",
    "multiprocessing module in python."
   ]
  },
  {
   "cell_type": "code",
   "execution_count": 46,
   "id": "b0dbb92b-9994-4ee5-a046-4e93cd045188",
   "metadata": {},
   "outputs": [],
   "source": [
    "import random\n",
    "\n",
    "def random_number():\n",
    "    random_number = random.randint(1, 100000)\n",
    "    print(random_number)"
   ]
  },
  {
   "cell_type": "code",
   "execution_count": 49,
   "id": "e3764976-52a0-4098-bf7c-01c48ec84009",
   "metadata": {},
   "outputs": [
    {
     "name": "stdout",
     "output_type": "stream",
     "text": [
      "55263\n",
      "44163\n",
      "12312\n",
      "37925\n"
     ]
    }
   ],
   "source": [
    "if __name__ == \"__main__\":\n",
    "    for i in range(0,4):\n",
    "        var_name = f\"m{i}\"\n",
    "        exec(f\"{var_name}  = multiprocessing.Process(target=random_number)\")\n",
    "        exec(f\"{var_name}.start()\")\n",
    "        exec(f\"{var_name}.join()\") "
   ]
  },
  {
   "cell_type": "code",
   "execution_count": null,
   "id": "2432ad54-16cc-4a77-8742-627560b1f7dc",
   "metadata": {},
   "outputs": [],
   "source": []
  },
  {
   "cell_type": "code",
   "execution_count": null,
   "id": "6e92a2fc-28c8-4795-a603-2929c1f5f7b5",
   "metadata": {},
   "outputs": [],
   "source": []
  }
 ],
 "metadata": {
  "kernelspec": {
   "display_name": "Python 3 (ipykernel)",
   "language": "python",
   "name": "python3"
  },
  "language_info": {
   "codemirror_mode": {
    "name": "ipython",
    "version": 3
   },
   "file_extension": ".py",
   "mimetype": "text/x-python",
   "name": "python",
   "nbconvert_exporter": "python",
   "pygments_lexer": "ipython3",
   "version": "3.10.8"
  }
 },
 "nbformat": 4,
 "nbformat_minor": 5
}
