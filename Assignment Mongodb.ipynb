{
 "cells": [
  {
   "cell_type": "code",
   "execution_count": 1,
   "id": "e30539bf",
   "metadata": {},
   "outputs": [
    {
     "data": {
      "text/plain": [
       "MongoClient(host=['localhost:27017'], document_class=dict, tz_aware=False, connect=True)"
      ]
     },
     "execution_count": 1,
     "metadata": {},
     "output_type": "execute_result"
    }
   ],
   "source": [
    "import pymongo\n",
    "db = pymongo.MongoClient(\"mongodb://localhost:27017/\")\n",
    "db"
   ]
  },
  {
   "cell_type": "markdown",
   "id": "8c652b40",
   "metadata": {},
   "source": [
    "Q1. What is MongoDB? Explain non-relational databases in short. In which scenarios it is preferred to use\n",
    "MongoDB over SQL databases?"
   ]
  },
  {
   "cell_type": "markdown",
   "id": "833ea594",
   "metadata": {},
   "source": [
    "MongoDB is a NOSQL database\n",
    "Non relational datases means data is stored in like a dictionary or non tabular form. It doesnt have a predefined structure\n",
    "When you need to stored a unstructured data like picture, audio file, pdf and data in the form of dictionary mondo db is preferred"
   ]
  },
  {
   "cell_type": "markdown",
   "id": "02559738",
   "metadata": {},
   "source": [
    "Q2. State and Explain the features of MongoDB."
   ]
  },
  {
   "cell_type": "markdown",
   "id": "711b59fc",
   "metadata": {},
   "source": [
    "These are some important features of MongoDB:\n",
    "\n",
    "1. Support ad hoc queries\n",
    "In MongoDB, you can search by field, range query and it also supports regular expression searches.\n",
    "\n",
    "2. Indexing\n",
    "You can index any field in a document.\n",
    "\n",
    "3. Duplication of data\n",
    "\n",
    "MongoDB can run over multiple servers. The data is duplicated to keep the system up and also keep its running condition in case of hardware failure.\n",
    "\n",
    "5. Load balancing\n",
    "It has an automatic load balancing configuration because of data placed in shards.\n",
    "\n",
    "\n",
    "6. Supports map reduce and aggregation tools.\n",
    "\n",
    "7. Uses JavaScript instead of Procedures.\n",
    "\n",
    "8. It is a schema-less database written in C++.\n",
    "\n",
    "9. Provides high performance.\n",
    "\n",
    "10. Stores files of any size easily without complicating your stack.\n",
    "\n",
    "\n",
    "11. Easy to administer in the case of failures.\n",
    "\n",
    "12. It also supports:\n",
    "\n",
    "JSON data model with dynamic schemas\n",
    "Auto-sharding for horizontal scalability\n",
    "Built in replication for high availability"
   ]
  },
  {
   "cell_type": "markdown",
   "id": "bc6f9e9b",
   "metadata": {},
   "source": [
    "Q3. Write a code to connect MongoDB to Python. Also, create a database and a collection in MongoDB."
   ]
  },
  {
   "cell_type": "code",
   "execution_count": 3,
   "id": "f47d76fc",
   "metadata": {},
   "outputs": [
    {
     "data": {
      "text/plain": [
       "MongoClient(host=['localhost:27017'], document_class=dict, tz_aware=False, connect=True)"
      ]
     },
     "execution_count": 3,
     "metadata": {},
     "output_type": "execute_result"
    }
   ],
   "source": [
    "import pymongo\n",
    "db = pymongo.MongoClient(\"mongodb://localhost:27017/\")\n",
    "db"
   ]
  },
  {
   "cell_type": "code",
   "execution_count": 4,
   "id": "d32798be",
   "metadata": {},
   "outputs": [
    {
     "data": {
      "text/plain": [
       "['Raj', 'admin', 'config', 'local']"
      ]
     },
     "execution_count": 4,
     "metadata": {},
     "output_type": "execute_result"
    }
   ],
   "source": [
    "db.list_database_names()"
   ]
  },
  {
   "cell_type": "code",
   "execution_count": 5,
   "id": "215e4165",
   "metadata": {},
   "outputs": [],
   "source": [
    "db1 = db['Assigment_database'] # create a datavase?"
   ]
  },
  {
   "cell_type": "code",
   "execution_count": 7,
   "id": "4338c9b5",
   "metadata": {},
   "outputs": [],
   "source": [
    "coll = db1[\"Assignment_database\"]"
   ]
  },
  {
   "cell_type": "code",
   "execution_count": 10,
   "id": "c9d4df61",
   "metadata": {},
   "outputs": [],
   "source": [
    "data = {\"chapter\": \"mongodb\",\n",
    "        \"lecturer\" : \"Sudhanshur sir\",\n",
    "        \"name\" :\"Rajkumar\",\n",
    "        \"phone no\" : 9899\n",
    "       }"
   ]
  },
  {
   "cell_type": "code",
   "execution_count": 11,
   "id": "7c2d8c6e",
   "metadata": {},
   "outputs": [
    {
     "data": {
      "text/plain": [
       "<pymongo.results.InsertOneResult at 0x245483e7100>"
      ]
     },
     "execution_count": 11,
     "metadata": {},
     "output_type": "execute_result"
    }
   ],
   "source": [
    "coll.insert_one(data)"
   ]
  },
  {
   "cell_type": "code",
   "execution_count": 12,
   "id": "2ae08ba3",
   "metadata": {},
   "outputs": [
    {
     "data": {
      "text/plain": [
       "{'_id': ObjectId('6487321b1c0e1fd019ee851e'),\n",
       " 'chapter': 'mongodb',\n",
       " 'lecturer': 'Sudhanshur sir',\n",
       " 'name': 'Rajkumar',\n",
       " 'phone no': 9899}"
      ]
     },
     "execution_count": 12,
     "metadata": {},
     "output_type": "execute_result"
    }
   ],
   "source": [
    "coll.find_one()"
   ]
  },
  {
   "cell_type": "markdown",
   "id": "ab4f0daf",
   "metadata": {},
   "source": [
    "Q4. Using the database and the collection created in question number 3, write a code to insert one record,\n",
    "and insert many records. Use the find() and find_one() methods to print the inserted record."
   ]
  },
  {
   "cell_type": "code",
   "execution_count": 19,
   "id": "0ef8a087",
   "metadata": {},
   "outputs": [],
   "source": [
    "data = {\"chapter\": \"mongodb\",\n",
    "        \"lecturer\" : \"Sudhanshur sir\",\n",
    "        \"name\" :\"Rajkumar\",\n",
    "        \"phone no\" : 9899\n",
    "       }"
   ]
  },
  {
   "cell_type": "code",
   "execution_count": 20,
   "id": "3bb56357",
   "metadata": {},
   "outputs": [
    {
     "data": {
      "text/plain": [
       "<pymongo.results.InsertOneResult at 0x24549415960>"
      ]
     },
     "execution_count": 20,
     "metadata": {},
     "output_type": "execute_result"
    }
   ],
   "source": [
    "coll.insert_one(data)"
   ]
  },
  {
   "cell_type": "code",
   "execution_count": 21,
   "id": "689a3dfa",
   "metadata": {},
   "outputs": [],
   "source": [
    "data = [{\"k1\":\"v1\",\"k2\":\"v2\",\"k3\":\"v3\"},{\"k1\":\"v1\",\"k2\":\"v2\",\"k3\":\"v3\"},{\"k1\":\"v1\",\"k2\":\"v2\",\"k3\":\"v3\"}]"
   ]
  },
  {
   "cell_type": "code",
   "execution_count": 22,
   "id": "5dcd7ada",
   "metadata": {},
   "outputs": [
    {
     "data": {
      "text/plain": [
       "<pymongo.results.InsertManyResult at 0x2454887d450>"
      ]
     },
     "execution_count": 22,
     "metadata": {},
     "output_type": "execute_result"
    }
   ],
   "source": [
    "coll.insert_many(data)"
   ]
  },
  {
   "cell_type": "code",
   "execution_count": 23,
   "id": "d7a91c33",
   "metadata": {},
   "outputs": [
    {
     "name": "stdout",
     "output_type": "stream",
     "text": [
      "{'_id': ObjectId('6487321b1c0e1fd019ee851e'), 'chapter': 'mongodb', 'lecturer': 'Sudhanshur sir', 'name': 'Rajkumar', 'phone no': 9899}\n",
      "{'_id': ObjectId('648732a91c0e1fd019ee851f'), 'k1': 'v1', 'k2': 'v2', 'k3': 'v3'}\n",
      "{'_id': ObjectId('648732a91c0e1fd019ee8520'), 'k1': 'v1', 'k2': 'v2', 'k3': 'v3'}\n",
      "{'_id': ObjectId('648732a91c0e1fd019ee8521'), 'k1': 'v1', 'k2': 'v2', 'k3': 'v3'}\n",
      "{'_id': ObjectId('648733051c0e1fd019ee8522'), 'chapter': 'mongodb', 'lecturer': 'Sudhanshur sir', 'name': 'Rajkumar', 'phone no': 9899}\n",
      "{'_id': ObjectId('648733061c0e1fd019ee8523'), 'k1': 'v1', 'k2': 'v2', 'k3': 'v3'}\n",
      "{'_id': ObjectId('648733061c0e1fd019ee8524'), 'k1': 'v1', 'k2': 'v2', 'k3': 'v3'}\n",
      "{'_id': ObjectId('648733061c0e1fd019ee8525'), 'k1': 'v1', 'k2': 'v2', 'k3': 'v3'}\n"
     ]
    }
   ],
   "source": [
    "for i in coll.find():\n",
    "    print(i)"
   ]
  },
  {
   "cell_type": "markdown",
   "id": "7d5158a4",
   "metadata": {},
   "source": [
    "Q5. Explain how you can use the find() method to query the MongoDB database. Write a simple code to\n",
    "demonstrate this."
   ]
  },
  {
   "cell_type": "code",
   "execution_count": 25,
   "id": "336b5d0c",
   "metadata": {},
   "outputs": [],
   "source": [
    "q = {\"k2\":\"v2\"}"
   ]
  },
  {
   "cell_type": "code",
   "execution_count": 26,
   "id": "914779c2",
   "metadata": {},
   "outputs": [
    {
     "name": "stdout",
     "output_type": "stream",
     "text": [
      "{'_id': ObjectId('648732a91c0e1fd019ee851f'), 'k1': 'v1', 'k2': 'v2', 'k3': 'v3'}\n",
      "{'_id': ObjectId('648732a91c0e1fd019ee8520'), 'k1': 'v1', 'k2': 'v2', 'k3': 'v3'}\n",
      "{'_id': ObjectId('648732a91c0e1fd019ee8521'), 'k1': 'v1', 'k2': 'v2', 'k3': 'v3'}\n",
      "{'_id': ObjectId('648733061c0e1fd019ee8523'), 'k1': 'v1', 'k2': 'v2', 'k3': 'v3'}\n",
      "{'_id': ObjectId('648733061c0e1fd019ee8524'), 'k1': 'v1', 'k2': 'v2', 'k3': 'v3'}\n",
      "{'_id': ObjectId('648733061c0e1fd019ee8525'), 'k1': 'v1', 'k2': 'v2', 'k3': 'v3'}\n"
     ]
    }
   ],
   "source": [
    "for i in coll.find(q):\n",
    "    print(i)"
   ]
  },
  {
   "cell_type": "markdown",
   "id": "b8771d65",
   "metadata": {},
   "source": [
    "Q6. Explain the sort() method. Give an example to demonstrate sorting in MongoDB."
   ]
  },
  {
   "cell_type": "code",
   "execution_count": 40,
   "id": "2abc6d02",
   "metadata": {},
   "outputs": [
    {
     "name": "stdout",
     "output_type": "stream",
     "text": [
      "{'_id': ObjectId('6487321b1c0e1fd019ee851e'), 'chapter': 'mongodb', 'lecturer': 'Sudhanshur sir', 'name': 'Rajkumar', 'phone no': 9899}\n",
      "{'_id': ObjectId('648732a91c0e1fd019ee851f'), 'k1': 'v1', 'k2': 'v2', 'k3': 'v3'}\n",
      "{'_id': ObjectId('648732a91c0e1fd019ee8520'), 'k1': 'v1', 'k2': 'v2', 'k3': 'v3'}\n",
      "{'_id': ObjectId('648732a91c0e1fd019ee8521'), 'k1': 'v1', 'k2': 'v2', 'k3': 'v3'}\n",
      "{'_id': ObjectId('648733051c0e1fd019ee8522'), 'chapter': 'mongodb', 'lecturer': 'Sudhanshur sir', 'name': 'Rajkumar', 'phone no': 9899}\n",
      "{'_id': ObjectId('648733061c0e1fd019ee8523'), 'k1': 'v1', 'k2': 'v2', 'k3': 'v3'}\n",
      "{'_id': ObjectId('648733061c0e1fd019ee8524'), 'k1': 'v1', 'k2': 'v2', 'k3': 'v3'}\n",
      "{'_id': ObjectId('648733061c0e1fd019ee8525'), 'k1': 'v1', 'k2': 'v2', 'k3': 'v3'}\n"
     ]
    }
   ],
   "source": [
    "for i in coll.find().sort(\"_id\",1): # 1 is for ascending\n",
    "    print(i)"
   ]
  },
  {
   "cell_type": "code",
   "execution_count": 41,
   "id": "4fce8eff",
   "metadata": {},
   "outputs": [
    {
     "name": "stdout",
     "output_type": "stream",
     "text": [
      "{'_id': ObjectId('648733061c0e1fd019ee8525'), 'k1': 'v1', 'k2': 'v2', 'k3': 'v3'}\n",
      "{'_id': ObjectId('648733061c0e1fd019ee8524'), 'k1': 'v1', 'k2': 'v2', 'k3': 'v3'}\n",
      "{'_id': ObjectId('648733061c0e1fd019ee8523'), 'k1': 'v1', 'k2': 'v2', 'k3': 'v3'}\n",
      "{'_id': ObjectId('648733051c0e1fd019ee8522'), 'chapter': 'mongodb', 'lecturer': 'Sudhanshur sir', 'name': 'Rajkumar', 'phone no': 9899}\n",
      "{'_id': ObjectId('648732a91c0e1fd019ee8521'), 'k1': 'v1', 'k2': 'v2', 'k3': 'v3'}\n",
      "{'_id': ObjectId('648732a91c0e1fd019ee8520'), 'k1': 'v1', 'k2': 'v2', 'k3': 'v3'}\n",
      "{'_id': ObjectId('648732a91c0e1fd019ee851f'), 'k1': 'v1', 'k2': 'v2', 'k3': 'v3'}\n",
      "{'_id': ObjectId('6487321b1c0e1fd019ee851e'), 'chapter': 'mongodb', 'lecturer': 'Sudhanshur sir', 'name': 'Rajkumar', 'phone no': 9899}\n"
     ]
    }
   ],
   "source": [
    "for i in coll.find().sort(\"_id\",-1): # 1 is for decending\n",
    "    print(i)"
   ]
  },
  {
   "cell_type": "markdown",
   "id": "bef04e21",
   "metadata": {},
   "source": [
    "Q7. Explain why delete_one(), delete_many(), and drop() is used."
   ]
  },
  {
   "cell_type": "code",
   "execution_count": 42,
   "id": "2526b159",
   "metadata": {},
   "outputs": [],
   "source": [
    "q = {\"k1\":\"v1\"}"
   ]
  },
  {
   "cell_type": "code",
   "execution_count": 43,
   "id": "da748a9d",
   "metadata": {},
   "outputs": [
    {
     "data": {
      "text/plain": [
       "<pymongo.results.DeleteResult at 0x24549cc38e0>"
      ]
     },
     "execution_count": 43,
     "metadata": {},
     "output_type": "execute_result"
    }
   ],
   "source": [
    "coll.delete_one(q) # is to delete a single document"
   ]
  },
  {
   "cell_type": "code",
   "execution_count": 45,
   "id": "4b072066",
   "metadata": {},
   "outputs": [
    {
     "name": "stdout",
     "output_type": "stream",
     "text": [
      "{'_id': ObjectId('6487321b1c0e1fd019ee851e'), 'chapter': 'mongodb', 'lecturer': 'Sudhanshur sir', 'name': 'Rajkumar', 'phone no': 9899}\n",
      "{'_id': ObjectId('648732a91c0e1fd019ee8520'), 'k1': 'v1', 'k2': 'v2', 'k3': 'v3'}\n",
      "{'_id': ObjectId('648732a91c0e1fd019ee8521'), 'k1': 'v1', 'k2': 'v2', 'k3': 'v3'}\n",
      "{'_id': ObjectId('648733051c0e1fd019ee8522'), 'chapter': 'mongodb', 'lecturer': 'Sudhanshur sir', 'name': 'Rajkumar', 'phone no': 9899}\n",
      "{'_id': ObjectId('648733061c0e1fd019ee8523'), 'k1': 'v1', 'k2': 'v2', 'k3': 'v3'}\n",
      "{'_id': ObjectId('648733061c0e1fd019ee8524'), 'k1': 'v1', 'k2': 'v2', 'k3': 'v3'}\n",
      "{'_id': ObjectId('648733061c0e1fd019ee8525'), 'k1': 'v1', 'k2': 'v2', 'k3': 'v3'}\n"
     ]
    }
   ],
   "source": [
    "for i in coll.find(): # 1 is for decending\n",
    "    print(i)"
   ]
  },
  {
   "cell_type": "code",
   "execution_count": 46,
   "id": "5f57f8bc",
   "metadata": {},
   "outputs": [
    {
     "data": {
      "text/plain": [
       "<pymongo.results.DeleteResult at 0x2454aa741c0>"
      ]
     },
     "execution_count": 46,
     "metadata": {},
     "output_type": "execute_result"
    }
   ],
   "source": [
    "coll.delete_many(q) # is to delete a many  document matching to the filter"
   ]
  },
  {
   "cell_type": "code",
   "execution_count": 47,
   "id": "18015504",
   "metadata": {},
   "outputs": [
    {
     "name": "stdout",
     "output_type": "stream",
     "text": [
      "{'_id': ObjectId('6487321b1c0e1fd019ee851e'), 'chapter': 'mongodb', 'lecturer': 'Sudhanshur sir', 'name': 'Rajkumar', 'phone no': 9899}\n",
      "{'_id': ObjectId('648733051c0e1fd019ee8522'), 'chapter': 'mongodb', 'lecturer': 'Sudhanshur sir', 'name': 'Rajkumar', 'phone no': 9899}\n"
     ]
    }
   ],
   "source": [
    "for i in coll.find(): \n",
    "    print(i)"
   ]
  },
  {
   "cell_type": "markdown",
   "id": "dd550908",
   "metadata": {},
   "source": [
    "drop is used to drop a collection from the database or drop a database"
   ]
  },
  {
   "cell_type": "code",
   "execution_count": 48,
   "id": "a2df7ba7",
   "metadata": {},
   "outputs": [
    {
     "data": {
      "text/plain": [
       "['Assigment_database', 'Raj', 'admin', 'config', 'local']"
      ]
     },
     "execution_count": 48,
     "metadata": {},
     "output_type": "execute_result"
    }
   ],
   "source": [
    "db.list_database_names()"
   ]
  },
  {
   "cell_type": "code",
   "execution_count": 59,
   "id": "f1fdd3ae",
   "metadata": {},
   "outputs": [
    {
     "name": "stdout",
     "output_type": "stream",
     "text": [
      "{'name': 'Assignment_database', 'type': 'collection', 'options': {}, 'info': {'readOnly': False, 'uuid': Binary(b'\\xb4rn\\xa78\\nJ<\\x970\\xed{\\xca\\x8c\\xb5u', 4)}, 'idIndex': {'v': 2, 'key': {'_id': 1}, 'name': '_id_'}}\n"
     ]
    }
   ],
   "source": [
    "for i in db1.list_collections():\n",
    "    print(i)"
   ]
  },
  {
   "cell_type": "code",
   "execution_count": 60,
   "id": "09a3c75b",
   "metadata": {},
   "outputs": [
    {
     "data": {
      "text/plain": [
       "{'nIndexesWas': 1, 'ns': 'Assigment_database.Assignment_database', 'ok': 1.0}"
      ]
     },
     "execution_count": 60,
     "metadata": {},
     "output_type": "execute_result"
    }
   ],
   "source": [
    "db1.drop_collection('Assignment_database')"
   ]
  },
  {
   "cell_type": "code",
   "execution_count": 62,
   "id": "8fc53b7d",
   "metadata": {},
   "outputs": [],
   "source": [
    "for i in db1.list_collections():\n",
    "    print(i)"
   ]
  },
  {
   "cell_type": "code",
   "execution_count": null,
   "id": "277bfcf4",
   "metadata": {},
   "outputs": [],
   "source": [
    "this empty because the collection is deleted"
   ]
  },
  {
   "cell_type": "code",
   "execution_count": 63,
   "id": "0ccde1a4",
   "metadata": {},
   "outputs": [
    {
     "data": {
      "text/plain": [
       "['Raj', 'admin', 'config', 'local']"
      ]
     },
     "execution_count": 63,
     "metadata": {},
     "output_type": "execute_result"
    }
   ],
   "source": [
    "db.list_database_names()"
   ]
  },
  {
   "cell_type": "code",
   "execution_count": null,
   "id": "064adfa6",
   "metadata": {},
   "outputs": [],
   "source": []
  }
 ],
 "metadata": {
  "kernelspec": {
   "display_name": "Python 3 (ipykernel)",
   "language": "python",
   "name": "python3"
  },
  "language_info": {
   "codemirror_mode": {
    "name": "ipython",
    "version": 3
   },
   "file_extension": ".py",
   "mimetype": "text/x-python",
   "name": "python",
   "nbconvert_exporter": "python",
   "pygments_lexer": "ipython3",
   "version": "3.10.9"
  }
 },
 "nbformat": 4,
 "nbformat_minor": 5
}
