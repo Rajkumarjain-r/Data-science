{
 "cells": [
  {
   "cell_type": "code",
   "execution_count": null,
   "id": "ed4b9e94",
   "metadata": {},
   "outputs": [],
   "source": [
    "Q1. What is Statistics?\n",
    "\n",
    "data of facts and pieces of information. "
   ]
  },
  {
   "cell_type": "code",
   "execution_count": null,
   "id": "8b58d255",
   "metadata": {},
   "outputs": [],
   "source": [
    "Q2. Define the different types of statistics and give an example of when each type might be used.?\n",
    "\n",
    "Descriptive stats - here you organise and summraise the data. eg. cost of my tech courses in rupees\n",
    "\n",
    "Inferential stats - here you make a conclusion. eg is pw skills ost is less than avg cost of my tecj courses?\n"
   ]
  },
  {
   "cell_type": "markdown",
   "id": "57ea1691",
   "metadata": {},
   "source": [
    "Q3. What are the different types of data and how do they differ from each other? Provide an example of\n",
    "each type of data.\n",
    "\n",
    "quantitative:\n",
    "    1. continous - its a numeric and can be a decimal no and does not have any range. eg prices of food items in hotel\n",
    "    2. discrete - its a numeric data and cannot have decimal point and mostly is in a range. eg no of equity i hold of different companies. it can be  100 or 1000 but no 100.5\n",
    "Qualitative:\n",
    "    1. nominal - its a categorical data and cannot be ranked. eg different coding languages thought by pw . its dsa web ds etc. \n",
    "    2. ordinal - its a categoricak abd can be ranked eq. different class of indian railways system like sleeper 1ac 2ac 3ac. so here 1ac can be 1  as 2ac can 2 as 1ac has more facility than 2 ac etc\n",
    "    "
   ]
  },
  {
   "cell_type": "code",
   "execution_count": null,
   "id": "ea5647fd",
   "metadata": {},
   "outputs": [],
   "source": [
    "Q4. Categorise the following datasets with respect to quantitative and qualitative data types:\n",
    "(i) Grading in exam: A+, A, B+, B, C+, C, D, E\n",
    "(ii) Colour of mangoes: yellow, green, orange, red\n",
    "(iii) Height data of a class: [178.9, 179, 179.5, 176, 177.2, 178.3, 175.8,...]\n",
    "(iv) Number of mangoes exported by a farm: [500, 600, 478, 672, ...]"
   ]
  },
  {
   "cell_type": "code",
   "execution_count": null,
   "id": "622c0d6f",
   "metadata": {},
   "outputs": [],
   "source": [
    "(i) Grading in exam: A+, A, B+, B, C+, C, D, E - ordinal\n",
    "(ii) Colour of mangoes: yellow, green, orange, red - nominal\n",
    "(iii) Height data of a class: [178.9, 179, 179.5, 176, 177.2, 178.3, 175.8,...] - continous\n",
    "(iv) Number of mangoes exported by a farm: [500, 600, 478, 672, ...] - discrete"
   ]
  },
  {
   "cell_type": "code",
   "execution_count": null,
   "id": "04435ef0",
   "metadata": {},
   "outputs": [],
   "source": [
    "Q5. Explain the concept of levels of measurement and give an example of a variable for each level.\n",
    "\n",
    "nominal scale data - qualitative and categorical data, ranking an order doesn not matter, differnce cannot be measured. eg blood group\n",
    "Ordinal scale data - qualitative abd categorical data and ranking and order matters, difference cannot be measured eg. degress of student of differnent colleges like BE BCOM PHD\n",
    "Interval scale data - The rank and order matters and have non zero starting value excluding ratio. eg temperature\n",
    "ratio scale data - can be a zero value and ratio and rank matters and differce and ration can be measured example. marks of students"
   ]
  },
  {
   "cell_type": "code",
   "execution_count": null,
   "id": "99fff611",
   "metadata": {},
   "outputs": [],
   "source": [
    "Q6. Why is it important to understand the level of measurement when analyzing data? Provide an\n",
    "example to illustrate your answer.\n",
    "\n",
    "Understanding the level of measurement is crucial when analyzing data because it determines the appropriate statistical techniques and operations that can be applied to the data\n",
    "\n",
    "eg days different type of blood groups as A B A+ and now you label A by 1 and B by 2. but now you should not consider this as a contious data"
   ]
  },
  {
   "cell_type": "code",
   "execution_count": null,
   "id": "301aed5f",
   "metadata": {},
   "outputs": [],
   "source": [
    "Q7. How nominal data type is different from ordinal data type.\n",
    "\n",
    "nominal means it cannot be ranked as like differnt blood groups bur ordinal can be ranked as differnt class in railways 1ac 2ac 3ac can be ranked based of facility"
   ]
  },
  {
   "cell_type": "code",
   "execution_count": null,
   "id": "28e84b12",
   "metadata": {},
   "outputs": [],
   "source": [
    "Q8. Which type of plot can be used to display data in terms of range?\n",
    "\n",
    "histogram"
   ]
  },
  {
   "cell_type": "code",
   "execution_count": null,
   "id": "b882908f",
   "metadata": {},
   "outputs": [],
   "source": [
    "Q9. Describe the difference between descriptive and inferential statistics. Give an example of each\n",
    "type of statistics and explain how they are used.\n",
    "\n",
    "Descriptive stats - here you organise and summraise the data. eg. cost of my tech courses in rupees. here you find mean median mode variance std etc \n",
    "\n",
    "Inferential stats - here you make a conclusion. eg is pw skills ost is less than avg cost of my tecj courses? pw cost > min of tech course ?\n"
   ]
  },
  {
   "cell_type": "code",
   "execution_count": null,
   "id": "dd8aa85b",
   "metadata": {},
   "outputs": [],
   "source": [
    "Q10. What are some common measures of central tendency and variability used in statistics? Explain\n",
    "how each measure can be used to describe a dataset.\n",
    "\n",
    "mean - average of datset\n",
    "median - center of teh dataset after sorting\n",
    "mode - most occuring data of dataset\n",
    "variance - how the various data is spred from center\n",
    "std  - sqrt of variance and how the data is spread from teh center"
   ]
  }
 ],
 "metadata": {
  "kernelspec": {
   "display_name": "Python 3 (ipykernel)",
   "language": "python",
   "name": "python3"
  },
  "language_info": {
   "codemirror_mode": {
    "name": "ipython",
    "version": 3
   },
   "file_extension": ".py",
   "mimetype": "text/x-python",
   "name": "python",
   "nbconvert_exporter": "python",
   "pygments_lexer": "ipython3",
   "version": "3.10.9"
  }
 },
 "nbformat": 4,
 "nbformat_minor": 5
}
